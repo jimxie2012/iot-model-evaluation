{
 "cells": [
  {
   "cell_type": "code",
   "execution_count": 22,
   "id": "795bb4e0",
   "metadata": {},
   "outputs": [],
   "source": [
    "import time,json,os\n",
    "import numpy as np\n",
    "import pandas as pd\n",
    "import matplotlib.pyplot as plt\n",
    "import scipy\n",
    "from sklearn.ensemble import BaggingClassifier\n",
    "from common import preprocess\n",
    "import seaborn as sns\n",
    "from sklearn.svm import SVC\n",
    "import joblib\n",
    "from warnings import filterwarnings\n",
    "filterwarnings(\"ignore\") \n",
    "np.set_printoptions(suppress=True)\n",
    "pd.set_option('display.float_format',lambda x : '%.4f' % x)"
   ]
  },
  {
   "cell_type": "markdown",
   "id": "f30b48c7",
   "metadata": {},
   "source": [
    "# check distribution"
   ]
  },
  {
   "cell_type": "code",
   "execution_count": 3,
   "id": "1b0bd892",
   "metadata": {},
   "outputs": [],
   "source": [
    "df_s0 = pd.read_csv(\"/data/paper/base/s-0.csv\",index_col=0)\n",
    "df_s1 = pd.read_csv(\"/data/paper/base/s-1.csv\",index_col=0)\n",
    "df_s2 = pd.read_csv(\"/data/paper/base/s-2.csv\",index_col=0)\n",
    "df_s3 = pd.read_csv(\"/data/paper/base/s-3.csv\",index_col=0)"
   ]
  },
  {
   "cell_type": "code",
   "execution_count": 4,
   "id": "5dd4cf7c",
   "metadata": {},
   "outputs": [
    {
     "name": "stdout",
     "output_type": "stream",
     "text": [
      "benign      325155\n",
      "abnormal    174845\n",
      "Name: label, dtype: int64\n",
      "abnormal    55874950\n",
      "benign       9187041\n",
      "Name: label, dtype: int64\n",
      "abnormal    32533580\n",
      "benign      32528411\n",
      "Name: label, dtype: int64\n",
      "benign      43378034\n",
      "abnormal    21683957\n",
      "Name: label, dtype: int64\n"
     ]
    }
   ],
   "source": [
    "print(df_s0['label'].value_counts())\n",
    "print(df_s1['label'].value_counts())\n",
    "print(df_s2['label'].value_counts())\n",
    "print(df_s3['label'].value_counts())"
   ]
  },
  {
   "cell_type": "code",
   "execution_count": 2,
   "id": "76339f4d",
   "metadata": {},
   "outputs": [],
   "source": [
    "df1 = pd.read_csv(\"/data/paper/sample/s-0-1-0.csv\",index_col=0)\n",
    "df2 = pd.read_csv(\"/data/paper/sample/s-1-1-0.csv\",index_col=0)\n",
    "df3 = pd.read_csv(\"/data/paper/sample/s-2-1-0.csv\",index_col=0)\n",
    "df4 = pd.read_csv(\"/data/paper/sample/s-3-1-0.csv\",index_col=0)"
   ]
  },
  {
   "cell_type": "code",
   "execution_count": 3,
   "id": "20e8bd1e",
   "metadata": {},
   "outputs": [
    {
     "name": "stdout",
     "output_type": "stream",
     "text": [
      "benign      185997\n",
      "abnormal     64003\n",
      "Name: label, dtype: int64\n",
      "abnormal    241187\n",
      "benign        8813\n",
      "Name: label, dtype: int64\n",
      "benign      125329\n",
      "abnormal    124671\n",
      "Name: label, dtype: int64\n",
      "benign      191870\n",
      "abnormal     58130\n",
      "Name: label, dtype: int64\n"
     ]
    }
   ],
   "source": [
    "print(df1['label'].value_counts())\n",
    "print(df2['label'].value_counts())\n",
    "print(df3['label'].value_counts())\n",
    "print(df4['label'].value_counts())"
   ]
  },
  {
   "cell_type": "code",
   "execution_count": 3,
   "id": "cd94a16f",
   "metadata": {},
   "outputs": [
    {
     "name": "stdout",
     "output_type": "stream",
     "text": [
      "0.6396021490668313\n",
      "1.243163121016122\n",
      "2.2763607319179844\n"
     ]
    }
   ],
   "source": [
    "def get_mahalanobis(x, i, j):\n",
    "    xT = x.T  # 求转置\n",
    "    D = np.cov(xT)  # 求协方差矩阵\n",
    "    invD = np.linalg.inv(D)  # 协方差逆矩阵\n",
    "    assert 0 <= i < x.shape[0], \"点 1 索引超出样本范围。\"\n",
    "    assert -1 <= j < x.shape[0], \"点 2 索引超出样本范围。\"\n",
    "    x_A = x[i]\n",
    "    x_B = x.mean(axis=0) if j == -1 else x[j]\n",
    "    tp = x_A - x_B\n",
    "    return np.sqrt(np.dot(np.dot(tp, invD), tp.T))\n",
    "    \n",
    "# 初始化数据点集，或者从其它地方加载\n",
    "x = np.array([[3, 4], [5, 6], [2, 2], [8, 4]])\n",
    "# 求第0个点到均值之间的马氏距离（j为-1时代表均值）\n",
    "print(get_mahalanobis(x, 0, -1))\n",
    "# 求第0个点到第1个点之间的马氏距离\n",
    "print(get_mahalanobis(x, 0, 1))\n",
    "# 求第2个点到第3个点之间的马氏距离（索引从0开始算起）\n",
    "print(get_mahalanobis(x, 2, 3))"
   ]
  },
  {
   "cell_type": "markdown",
   "id": "3d0aa370",
   "metadata": {},
   "source": [
    "# 统一计算"
   ]
  },
  {
   "cell_type": "code",
   "execution_count": 23,
   "id": "4f5f6f49",
   "metadata": {},
   "outputs": [],
   "source": [
    "def show_heatmap(df):\n",
    "    plt.style.use({'figure.figsize':(16, 6)})\n",
    "    plt.ticklabel_format(style='plain',axis='both')\n",
    "    cmap = sns.cubehelix_palette(start = 1, rot = 3, gamma=0.8, as_cmap = True)\n",
    "    sns.heatmap(df, cmap = cmap, linewidths = 0.05,annot=False, fmt=\"g\",annot_kws={\"fontsize\":16})\n",
    "    plt.xticks(rotation=60)\n",
    "    plt.yticks(rotation=60)"
   ]
  },
  {
   "cell_type": "raw",
   "id": "998775ba",
   "metadata": {},
   "source": [
    "#‘pearson’, ‘kendall’, ‘spearman’\n",
    "pearson：Pearson相关系数来衡量两个数据集合是否在一条线上面，即针对线性数据的相关系数计算，针对非线性数据便会有误差。\n",
    "kendall：用于反映分类变量相关性的指标，即针对无序序列的相关系数，非正太分布的数据\n",
    "spearman：非线性的，非正太分析的数据的相关系数"
   ]
  },
  {
   "cell_type": "code",
   "execution_count": 28,
   "id": "8ca1c949",
   "metadata": {},
   "outputs": [],
   "source": [
    "class CJAnalyse:\n",
    "    \n",
    "    def __init__(self, model_name):\n",
    "        self.df_similarity = pd.read_csv(\"/data/paper/analyse/similarity2.csv\",index_col=0)\n",
    "        self.df_model = pd.read_csv(\"/data/paper/analyse/%s.csv\"%model_name,index_col=0)\n",
    "        self.filter_useless_fields()\n",
    "        \n",
    "    def get_similar(self, d1, d2):\n",
    "        mask = (self.df_similarity['D1'] == \"%s.csv\"%d1) & (self.df_similarity['D2'] == d2)\n",
    "        ret = {}\n",
    "        for D in self.df_similarity.keys():\n",
    "            if D in ['D1','D2']:\n",
    "                continue\n",
    "            ret[D] = self.df_similarity[mask].iloc[0][D]\n",
    "        return ret\n",
    "    \n",
    "    def filter_useless_fields(self):\n",
    "        df_m = self.df_model.copy( deep = True )\n",
    "        del df_m['confusion_matrix']\n",
    "        del df_m['roc_curve']\n",
    "        del df_m['mcc']\n",
    "        del df_m['log_loss']\n",
    "        del df_m['fbeta_score']\n",
    "        self.df_model = df_m\n",
    "        \n",
    "    def Merge(self):\n",
    "        all_data = []\n",
    "        for item in json.loads(self.df_model.to_json(orient=\"records\")):\n",
    "            tmp = item\n",
    "            tmp[\"train\"] = item[\"train\"]\n",
    "            tmp[\"valid\"] = item[\"valid\"]\n",
    "            similar = self.get_similar(item[\"train\"], item['valid'])\n",
    "            for s in similar:\n",
    "                tmp[s] = similar[s]\n",
    "            all_data.append(tmp)\n",
    "        return pd.DataFrame(all_data)\n",
    "    \n",
    "    #pearsonr,spearmanr or kendalltau\n",
    "    def Correlation(self,df_merged, kind = \"pearsonr\"):\n",
    "        all_data = []\n",
    "        for score in self.df_model.keys():\n",
    "            if score in ['model', 'train', 'valid']:\n",
    "                continue\n",
    "            s1 = df_merged[score]\n",
    "            metric_value = {}\n",
    "            metric_value['score'] = score\n",
    "            metric_list = self.df_similarity.keys()\n",
    "            for metric in metric_list:\n",
    "                if metric in ['D1','D2']:\n",
    "                    continue\n",
    "                s2 = df_merged[metric]\n",
    "                if kind == 'pearsonr':\n",
    "                    metric_value[metric] = scipy.stats.pearsonr(s1,s2)[0]\n",
    "                if kind == 'spearmanr':\n",
    "                    metric_value[metric] = scipy.stats.spearmanr(s1,s2)[0]\n",
    "                if kind == 'kendalltau':\n",
    "                    metric_value[metric] = scipy.stats.kendalltau(s1,s2)[0]\n",
    "            all_data.append(metric_value)\n",
    "\n",
    "        df_all = pd.DataFrame(all_data)\n",
    "        df_all.set_index(\"score\", inplace = True, drop = True)\n",
    "        return df_all.reset_index()"
   ]
  },
  {
   "cell_type": "code",
   "execution_count": 29,
   "id": "aa95e161",
   "metadata": {},
   "outputs": [],
   "source": [
    "test = CJAnalyse(\"rf\")\n",
    "df_all = test.Merge()"
   ]
  },
  {
   "cell_type": "code",
   "execution_count": 30,
   "id": "c1460223",
   "metadata": {},
   "outputs": [
    {
     "data": {
      "text/html": [
       "<div>\n",
       "<style scoped>\n",
       "    .dataframe tbody tr th:only-of-type {\n",
       "        vertical-align: middle;\n",
       "    }\n",
       "\n",
       "    .dataframe tbody tr th {\n",
       "        vertical-align: top;\n",
       "    }\n",
       "\n",
       "    .dataframe thead th {\n",
       "        text-align: right;\n",
       "    }\n",
       "</style>\n",
       "<table border=\"1\" class=\"dataframe\">\n",
       "  <thead>\n",
       "    <tr style=\"text-align: right;\">\n",
       "      <th></th>\n",
       "      <th>score</th>\n",
       "      <th>Cosine</th>\n",
       "      <th>Pearson</th>\n",
       "      <th>Euclidean</th>\n",
       "      <th>EDM</th>\n",
       "      <th>KS</th>\n",
       "      <th>Manhattan</th>\n",
       "      <th>Minkowski</th>\n",
       "      <th>Jaccard</th>\n",
       "    </tr>\n",
       "  </thead>\n",
       "  <tbody>\n",
       "    <tr>\n",
       "      <th>0</th>\n",
       "      <td>recall</td>\n",
       "      <td>0.6998</td>\n",
       "      <td>0.6998</td>\n",
       "      <td>-0.7288</td>\n",
       "      <td>-0.9846</td>\n",
       "      <td>0.4566</td>\n",
       "      <td>-0.9130</td>\n",
       "      <td>-0.6888</td>\n",
       "      <td>0.1754</td>\n",
       "    </tr>\n",
       "    <tr>\n",
       "      <th>1</th>\n",
       "      <td>accuracy</td>\n",
       "      <td>0.7722</td>\n",
       "      <td>0.7721</td>\n",
       "      <td>-0.7998</td>\n",
       "      <td>-0.5329</td>\n",
       "      <td>0.6476</td>\n",
       "      <td>-0.6902</td>\n",
       "      <td>-0.7879</td>\n",
       "      <td>0.3140</td>\n",
       "    </tr>\n",
       "    <tr>\n",
       "      <th>2</th>\n",
       "      <td>precision</td>\n",
       "      <td>0.2533</td>\n",
       "      <td>0.2533</td>\n",
       "      <td>-0.3196</td>\n",
       "      <td>-0.6891</td>\n",
       "      <td>0.3356</td>\n",
       "      <td>-0.5251</td>\n",
       "      <td>-0.3213</td>\n",
       "      <td>0.2175</td>\n",
       "    </tr>\n",
       "    <tr>\n",
       "      <th>3</th>\n",
       "      <td>auc</td>\n",
       "      <td>0.9081</td>\n",
       "      <td>0.9081</td>\n",
       "      <td>-0.9160</td>\n",
       "      <td>-0.6035</td>\n",
       "      <td>0.6458</td>\n",
       "      <td>-0.8043</td>\n",
       "      <td>-0.8855</td>\n",
       "      <td>0.2586</td>\n",
       "    </tr>\n",
       "    <tr>\n",
       "      <th>4</th>\n",
       "      <td>f1_score</td>\n",
       "      <td>0.5927</td>\n",
       "      <td>0.5928</td>\n",
       "      <td>-0.6351</td>\n",
       "      <td>-0.9560</td>\n",
       "      <td>0.4527</td>\n",
       "      <td>-0.8443</td>\n",
       "      <td>-0.6070</td>\n",
       "      <td>0.1970</td>\n",
       "    </tr>\n",
       "  </tbody>\n",
       "</table>\n",
       "</div>"
      ],
      "text/plain": [
       "       score  Cosine  Pearson  Euclidean     EDM     KS  Manhattan  Minkowski  \\\n",
       "0     recall  0.6998   0.6998    -0.7288 -0.9846 0.4566    -0.9130    -0.6888   \n",
       "1   accuracy  0.7722   0.7721    -0.7998 -0.5329 0.6476    -0.6902    -0.7879   \n",
       "2  precision  0.2533   0.2533    -0.3196 -0.6891 0.3356    -0.5251    -0.3213   \n",
       "3        auc  0.9081   0.9081    -0.9160 -0.6035 0.6458    -0.8043    -0.8855   \n",
       "4   f1_score  0.5927   0.5928    -0.6351 -0.9560 0.4527    -0.8443    -0.6070   \n",
       "\n",
       "   Jaccard  \n",
       "0   0.1754  \n",
       "1   0.3140  \n",
       "2   0.2175  \n",
       "3   0.2586  \n",
       "4   0.1970  "
      ]
     },
     "execution_count": 30,
     "metadata": {},
     "output_type": "execute_result"
    }
   ],
   "source": [
    "df_test  = df_all[df_all['train'] == 's-3-1-0']\n",
    "df_corr = test.Correlation(df_test)\n",
    "df_corr"
   ]
  },
  {
   "cell_type": "code",
   "execution_count": 31,
   "id": "66933066",
   "metadata": {},
   "outputs": [
    {
     "data": {
      "text/plain": [
       "<AxesSubplot:>"
      ]
     },
     "execution_count": 31,
     "metadata": {},
     "output_type": "execute_result"
    },
    {
     "data": {
      "image/png": "[encoded data removed]",
      "text/plain": [
       "<Figure size 432x288 with 1 Axes>"
      ]
     },
     "metadata": {
      "needs_background": "light"
     },
     "output_type": "display_data"
    }
   ],
   "source": [
    "df_corr.plot()"
   ]
  },
  {
   "cell_type": "code",
   "execution_count": null,
   "id": "a1796240",
   "metadata": {},
   "outputs": [],
   "source": [
    "show_heatmap(pt)"
   ]
  }
 ],
 "metadata": {
  "kernelspec": {
   "display_name": "Python 3 (ipykernel)",
   "language": "python",
   "name": "python3"
  },
  "language_info": {
   "codemirror_mode": {
    "name": "ipython",
    "version": 3
   },
   "file_extension": ".py",
   "mimetype": "text/x-python",
   "name": "python",
   "nbconvert_exporter": "python",
   "pygments_lexer": "ipython3",
   "version": "3.8.10"
  }
 },
 "nbformat": 4,
 "nbformat_minor": 5
}
