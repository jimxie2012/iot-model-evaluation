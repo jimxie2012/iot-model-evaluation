{
 "cells": [
  {
   "cell_type": "code",
   "execution_count": 2,
   "id": "93932a94",
   "metadata": {},
   "outputs": [],
   "source": [
    "import time,datetime,pytz"
   ]
  },
  {
   "cell_type": "code",
   "execution_count": 25,
   "id": "4fb9ca14",
   "metadata": {},
   "outputs": [],
   "source": [
    "TIME_ZONE = 'Asia/Tokyo'\n",
    "\n",
    "def convert2second(timestamp):\n",
    "    if isinstance(timestamp, str):\n",
    "        timestamp = int(timestamp)\n",
    "    return int(timestamp)\n",
    "\n",
    "def get_timestamp_by_datetime(dt):\n",
    "    try:\n",
    "        tz = pytz.timezone(TIME_ZONE)\n",
    "        t = tz.localize(dt)\n",
    "        t = t.astimezone(pytz.utc)\n",
    "        ts = int(time.mktime(t.utctimetuple())) - time.timezone\n",
    "        return convert2second(ts)\n",
    "    except Exception as e:\n",
    "        return 0\n",
    "    \n",
    "def str2datetime(dt_str, formatter=\"%Y-%m-%d %H:%M:%S\"):\n",
    "    return datetime.datetime.strptime(dt_str, formatter)\n",
    "\n",
    "def datetime2str(dt, formatter=\"%Y-%m-%d %H:%M:%S\"):\n",
    "    return dt.strftime(formatter)\n",
    "\n",
    "def get_datetime_by_ts(timestamp):\n",
    "    tz = pytz.timezone(TIME_ZONE)\n",
    "    dt = pytz.datetime.datetime.fromtimestamp(timestamp, tz)\n",
    "    return dt\n",
    "\n",
    "def get_str_by_ts(timestamp, formatter=\"%Y-%m-%d %H:%M:%S\"):\n",
    "    dt = get_datetime_by_ts(timestamp)\n",
    "    return datetime2str(dt, formatter)"
   ]
  },
  {
   "cell_type": "code",
   "execution_count": 35,
   "id": "cf6dbf76",
   "metadata": {},
   "outputs": [
    {
     "name": "stdout",
     "output_type": "stream",
     "text": [
      "1638802800\n",
      "2021-09-01 01:00:00\n"
     ]
    }
   ],
   "source": [
    "time_st = \"2021-12-07 00:00:00\"\n",
    "dt = str2datetime(time_st)\n",
    "time_ = get_timestamp_by_datetime(dt)\n",
    "print(time_)\n",
    "time_ = get_str_by_ts(1630425600)\n",
    "print(time_)"
   ]
  },
  {
   "cell_type": "code",
   "execution_count": null,
   "id": "96856c1a",
   "metadata": {},
   "outputs": [],
   "source": []
  }
 ],
 "metadata": {
  "kernelspec": {
   "display_name": "Python 3 (ipykernel)",
   "language": "python",
   "name": "python3"
  },
  "language_info": {
   "codemirror_mode": {
    "name": "ipython",
    "version": 3
   },
   "file_extension": ".py",
   "mimetype": "text/x-python",
   "name": "python",
   "nbconvert_exporter": "python",
   "pygments_lexer": "ipython3",
   "version": "3.8.10"
  }
 },
 "nbformat": 4,
 "nbformat_minor": 5
}
