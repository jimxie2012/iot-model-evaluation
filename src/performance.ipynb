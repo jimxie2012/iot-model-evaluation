{
 "cells": [
  {
   "cell_type": "code",
   "execution_count": 1,
   "id": "795bb4e0",
   "metadata": {},
   "outputs": [],
   "source": [
    "import h2o\n",
    "import time,json,os\n",
    "import numpy as np\n",
    "import pandas as pd\n",
    "from jsvm import CJSVM\n",
    "from common import preprocess,get_csv_files\n",
    "from sklearn.metrics import recall_score\n",
    "from sklearn.metrics import confusion_matrix\n",
    "from sklearn.metrics import matthews_corrcoef\n",
    "from sklearn.metrics import accuracy_score\n",
    "from sklearn.metrics import precision_score\n",
    "from sklearn.metrics import roc_auc_score\n",
    "from sklearn.metrics import log_loss\n",
    "from sklearn.metrics import f1_score\n",
    "from sklearn.metrics import roc_curve\n",
    "from sklearn.metrics import fbeta_score\n",
    "from warnings import filterwarnings\n",
    "filterwarnings(\"ignore\") \n",
    "np.set_printoptions(suppress=True)\n",
    "pd.set_option('display.float_format',lambda x : '%.8f' % x)"
   ]
  },
  {
   "cell_type": "code",
   "execution_count": 2,
   "id": "645b7b01",
   "metadata": {},
   "outputs": [],
   "source": [
    "#scan path and find all trinned models files\n",
    "def get_model_files(filepath,file_list=[]):\n",
    "    files = os.listdir(filepath)\n",
    "    for fi in files:\n",
    "        fi_d = os.path.join(filepath,fi)\n",
    "        if os.path.isdir(fi_d):\n",
    "            get_model_files(fi_d,file_list)\n",
    "        else:\n",
    "            if fi_d.find(\"_model_python_\") > 0:\n",
    "                file_list.append(fi_d)\n",
    "                \n",
    "#get all trained model information\n",
    "def get_all_models():\n",
    "    model_list = []\n",
    "    model_file_list = []\n",
    "    model_path = \"/data/dataset/model\"\n",
    "    get_model_files(model_path , model_file_list)\n",
    "    for fi in model_file_list:\n",
    "        t = fi.split(\"/\")\n",
    "        model_file = fi\n",
    "        model_name = t[-2]\n",
    "        dataset =  t[-4]\n",
    "        train_set = \"%s/dataset/%s/train.csv\"%(model_path,dataset)\n",
    "        valid_set = \"%s/dataset/%s/valid.csv\"%(model_path,dataset)\n",
    "        temp = {}\n",
    "        temp['model_file'] = model_file\n",
    "        temp['model_name'] = model_name\n",
    "        temp['dataset'] = dataset\n",
    "        temp['train_set'] = train_set\n",
    "        temp['valid_set'] = valid_set\n",
    "        model_list.append(temp)\n",
    "    return pd.DataFrame(model_list)"
   ]
  },
  {
   "cell_type": "code",
   "execution_count": 3,
   "id": "501f812d",
   "metadata": {},
   "outputs": [],
   "source": [
    "class CJPerformance(object):\n",
    "    \n",
    "    def __init__(self,model_file):\n",
    "        self.m_model_file = model_file\n",
    "        if not self.is_svm():\n",
    "            h2o.init(ip=\"localhost\" , port=54321)\n",
    "            self.m_model = h2o.load_model(model_file)\n",
    "        else:\n",
    "            self.m_model = CJSVM()\n",
    "            self.m_model.load(model_file)\n",
    "    \n",
    "    def is_svm(self):\n",
    "        if self.m_model_file.find(\"sklearn_model_python_svm.pkl\") >= 0:\n",
    "            return True\n",
    "        else:\n",
    "            return False\n",
    "    \n",
    "    def predict(self , sample_file , need_preprocess = True ):\n",
    "        df = pd.read_csv(sample_file,index_col=0)\n",
    "        if need_preprocess:\n",
    "            df_all = preprocess(df)\n",
    "        else:\n",
    "            df_all = df.copy( deep = True )\n",
    "        if not self.is_svm():\n",
    "            df_h2o = h2o.H2OFrame(df_all)\n",
    "            x = df_h2o.columns\n",
    "            y = \"label\"\n",
    "            #x.remove(y)\n",
    "            df_h2o[y] = df_h2o[y].asfactor()\n",
    "            pred = self.m_model.predict(df_h2o).as_data_frame()\n",
    "            y_true = df_all[y].to_list()\n",
    "            y_pred = pred['predict']\n",
    "        else:\n",
    "            X = df_all.copy( deep = True )\n",
    "            Y = X['label']\n",
    "            del X['label']\n",
    "            y_true = df_all['label'].to_list()\n",
    "            y_pred = self.m_model.predict(X)\n",
    "            \n",
    "        return y_true,y_pred\n",
    "    \n",
    "    def Test(self , sample_file , need_preprocess = True):\n",
    "        y_true , y_pred = self.predict( sample_file , need_preprocess )\n",
    "        result = {}\n",
    "        result['confusion_matrix'] = confusion_matrix(y_true,y_pred)\n",
    "        result['roc_curve'] = roc_curve(y_true,y_pred)\n",
    "        result['recall'] = recall_score(y_true,y_pred)\n",
    "        result['mcc'] = matthews_corrcoef(y_true,y_pred)\n",
    "        result['accuracy'] = accuracy_score(y_true,y_pred)\n",
    "        result['precision'] = precision_score(y_true,y_pred)\n",
    "        result['auc'] = roc_auc_score(y_true,y_pred)\n",
    "        result['log_loss'] = log_loss(y_true,y_pred)\n",
    "        result['f1_score'] = f1_score(y_true,y_pred)\n",
    "        result['fbeta_score'] = fbeta_score(y_true,y_pred,beta=0.5)\n",
    "        return pd.Series(result)"
   ]
  },
  {
   "cell_type": "raw",
   "id": "24fb80c1",
   "metadata": {},
   "source": [
    "test_file = \"/data/dataset/sample/base-0-1-train-1.csv\"\n",
    "model_file = \"/data/dataset/model/base-1-1-train-1/customized/svm/sklearn_model_python_svm.pkl\"\n",
    "test = CJPerformance(model_file)\n",
    "test.Test(test_file,True)"
   ]
  },
  {
   "cell_type": "code",
   "execution_count": 4,
   "id": "b2454865",
   "metadata": {
    "scrolled": false
   },
   "outputs": [
    {
     "name": "stdout",
     "output_type": "stream",
     "text": [
      "Checking whether there is an H2O instance running at http://localhost:54321 . connected.\n"
     ]
    },
    {
     "data": {
      "text/html": [
       "<div style=\"overflow:auto\"><table style=\"width:50%\"><tr><td>H2O_cluster_uptime:</td>\n",
       "<td>58 mins 23 secs</td></tr>\n",
       "<tr><td>H2O_cluster_timezone:</td>\n",
       "<td>UTC</td></tr>\n",
       "<tr><td>H2O_data_parsing_timezone:</td>\n",
       "<td>UTC</td></tr>\n",
       "<tr><td>H2O_cluster_version:</td>\n",
       "<td>3.34.0.3</td></tr>\n",
       "<tr><td>H2O_cluster_version_age:</td>\n",
       "<td>1 month and 18 days </td></tr>\n",
       "<tr><td>H2O_cluster_name:</td>\n",
       "<td>root</td></tr>\n",
       "<tr><td>H2O_cluster_total_nodes:</td>\n",
       "<td>1</td></tr>\n",
       "<tr><td>H2O_cluster_free_memory:</td>\n",
       "<td>8.46 Gb</td></tr>\n",
       "<tr><td>H2O_cluster_total_cores:</td>\n",
       "<td>22</td></tr>\n",
       "<tr><td>H2O_cluster_allowed_cores:</td>\n",
       "<td>22</td></tr>\n",
       "<tr><td>H2O_cluster_status:</td>\n",
       "<td>locked, healthy</td></tr>\n",
       "<tr><td>H2O_connection_url:</td>\n",
       "<td>http://localhost:54321</td></tr>\n",
       "<tr><td>H2O_connection_proxy:</td>\n",
       "<td>{\"http\": null, \"https\": null}</td></tr>\n",
       "<tr><td>H2O_internal_security:</td>\n",
       "<td>False</td></tr>\n",
       "<tr><td>H2O_API_Extensions:</td>\n",
       "<td>Amazon S3, XGBoost, Algos, AutoML, Core V3, TargetEncoder, Core V4</td></tr>\n",
       "<tr><td>Python_version:</td>\n",
       "<td>3.7.9 final</td></tr></table></div>"
      ],
      "text/plain": [
       "--------------------------  ------------------------------------------------------------------\n",
       "H2O_cluster_uptime:         58 mins 23 secs\n",
       "H2O_cluster_timezone:       UTC\n",
       "H2O_data_parsing_timezone:  UTC\n",
       "H2O_cluster_version:        3.34.0.3\n",
       "H2O_cluster_version_age:    1 month and 18 days\n",
       "H2O_cluster_name:           root\n",
       "H2O_cluster_total_nodes:    1\n",
       "H2O_cluster_free_memory:    8.46 Gb\n",
       "H2O_cluster_total_cores:    22\n",
       "H2O_cluster_allowed_cores:  22\n",
       "H2O_cluster_status:         locked, healthy\n",
       "H2O_connection_url:         http://localhost:54321\n",
       "H2O_connection_proxy:       {\"http\": null, \"https\": null}\n",
       "H2O_internal_security:      False\n",
       "H2O_API_Extensions:         Amazon S3, XGBoost, Algos, AutoML, Core V3, TargetEncoder, Core V4\n",
       "Python_version:             3.7.9 final\n",
       "--------------------------  ------------------------------------------------------------------"
      ]
     },
     "metadata": {},
     "output_type": "display_data"
    },
    {
     "name": "stdout",
     "output_type": "stream",
     "text": [
      "xgboost base-3-2-test-1\n",
      "Parse progress: |████████████████████████████████████████████████████████████████| (done) 100%\n",
      "xgboost prediction progress: |███████████████████████████████████████████████████| (done) 100%\n",
      "xgboost base-0-1-test-1\n",
      "Parse progress: |████████████████████████████████████████████████████████████████| (done) 100%\n",
      "xgboost prediction progress: |███████████████████████████████████████████████████| (done) 100%\n",
      "xgboost base-1-1-test-2\n",
      "Parse progress: |████████████████████████████████████████████████████████████████| (done) 100%\n",
      "xgboost prediction progress: |███████████████████████████████████████████████████| (done) 100%\n",
      "xgboost base-3-1-test-2\n",
      "Parse progress: |████████████████████████████████████████████████████████████████| (done) 100%\n",
      "xgboost prediction progress: |███████████████████████████████████████████████████| (done) 100%\n",
      "xgboost base-0-1-test-2\n",
      "Parse progress: |████████████████████████████████████████████████████████████████| (done) 100%\n",
      "xgboost prediction progress: |███████████████████████████████████████████████████| (done) 100%\n",
      "xgboost base-1-1-train-1\n",
      "Parse progress: |████████████████████████████████████████████████████████████████| (done) 100%\n",
      "xgboost prediction progress: |███████████████████████████████████████████████████| (done) 100%\n",
      "xgboost base-1-1-test-3\n",
      "Parse progress: |████████████████████████████████████████████████████████████████| (done) 100%\n",
      "xgboost prediction progress: |███████████████████████████████████████████████████| (done) 100%\n",
      "xgboost base-1-1-test-1\n",
      "Parse progress: |████████████████████████████████████████████████████████████████| (done) 100%\n",
      "xgboost prediction progress: |███████████████████████████████████████████████████| (done) 100%\n",
      "xgboost base-3-1-train-1\n",
      "Parse progress: |████████████████████████████████████████████████████████████████| (done) 100%\n",
      "xgboost prediction progress: |███████████████████████████████████████████████████| (done) 100%\n",
      "xgboost base-3-2-test-2\n",
      "Parse progress: |████████████████████████████████████████████████████████████████| (done) 100%\n",
      "xgboost prediction progress: |███████████████████████████████████████████████████| (done) 100%\n",
      "xgboost base-0-1-test-3\n",
      "Parse progress: |████████████████████████████████████████████████████████████████| (done) 100%\n",
      "xgboost prediction progress: |███████████████████████████████████████████████████| (done) 100%\n",
      "xgboost base-3-1-test-3\n",
      "Parse progress: |████████████████████████████████████████████████████████████████| (done) 100%\n",
      "xgboost prediction progress: |███████████████████████████████████████████████████| (done) 100%\n",
      "xgboost base-3-2-train-1\n",
      "Parse progress: |████████████████████████████████████████████████████████████████| (done) 100%\n",
      "xgboost prediction progress: |███████████████████████████████████████████████████| (done) 100%\n",
      "xgboost base-3-2-test-3\n",
      "Parse progress: |████████████████████████████████████████████████████████████████| (done) 100%\n",
      "xgboost prediction progress: |███████████████████████████████████████████████████| (done) 100%\n",
      "xgboost base-0-1-train-1\n",
      "Parse progress: |████████████████████████████████████████████████████████████████| (done) 100%\n",
      "xgboost prediction progress: |███████████████████████████████████████████████████| (done) 100%\n",
      "xgboost base-3-1-test-1\n",
      "Parse progress: |████████████████████████████████████████████████████████████████| (done) 100%\n",
      "xgboost prediction progress: |███████████████████████████████████████████████████| (done) 100%\n",
      "Checking whether there is an H2O instance running at http://localhost:54321 . connected.\n"
     ]
    },
    {
     "data": {
      "text/html": [
       "<div style=\"overflow:auto\"><table style=\"width:50%\"><tr><td>H2O_cluster_uptime:</td>\n",
       "<td>1 hour 3 mins</td></tr>\n",
       "<tr><td>H2O_cluster_timezone:</td>\n",
       "<td>UTC</td></tr>\n",
       "<tr><td>H2O_data_parsing_timezone:</td>\n",
       "<td>UTC</td></tr>\n",
       "<tr><td>H2O_cluster_version:</td>\n",
       "<td>3.34.0.3</td></tr>\n",
       "<tr><td>H2O_cluster_version_age:</td>\n",
       "<td>1 month and 18 days </td></tr>\n",
       "<tr><td>H2O_cluster_name:</td>\n",
       "<td>root</td></tr>\n",
       "<tr><td>H2O_cluster_total_nodes:</td>\n",
       "<td>1</td></tr>\n",
       "<tr><td>H2O_cluster_free_memory:</td>\n",
       "<td>8.62 Gb</td></tr>\n",
       "<tr><td>H2O_cluster_total_cores:</td>\n",
       "<td>22</td></tr>\n",
       "<tr><td>H2O_cluster_allowed_cores:</td>\n",
       "<td>22</td></tr>\n",
       "<tr><td>H2O_cluster_status:</td>\n",
       "<td>locked, healthy</td></tr>\n",
       "<tr><td>H2O_connection_url:</td>\n",
       "<td>http://localhost:54321</td></tr>\n",
       "<tr><td>H2O_connection_proxy:</td>\n",
       "<td>{\"http\": null, \"https\": null}</td></tr>\n",
       "<tr><td>H2O_internal_security:</td>\n",
       "<td>False</td></tr>\n",
       "<tr><td>H2O_API_Extensions:</td>\n",
       "<td>Amazon S3, XGBoost, Algos, AutoML, Core V3, TargetEncoder, Core V4</td></tr>\n",
       "<tr><td>Python_version:</td>\n",
       "<td>3.7.9 final</td></tr></table></div>"
      ],
      "text/plain": [
       "--------------------------  ------------------------------------------------------------------\n",
       "H2O_cluster_uptime:         1 hour 3 mins\n",
       "H2O_cluster_timezone:       UTC\n",
       "H2O_data_parsing_timezone:  UTC\n",
       "H2O_cluster_version:        3.34.0.3\n",
       "H2O_cluster_version_age:    1 month and 18 days\n",
       "H2O_cluster_name:           root\n",
       "H2O_cluster_total_nodes:    1\n",
       "H2O_cluster_free_memory:    8.62 Gb\n",
       "H2O_cluster_total_cores:    22\n",
       "H2O_cluster_allowed_cores:  22\n",
       "H2O_cluster_status:         locked, healthy\n",
       "H2O_connection_url:         http://localhost:54321\n",
       "H2O_connection_proxy:       {\"http\": null, \"https\": null}\n",
       "H2O_internal_security:      False\n",
       "H2O_API_Extensions:         Amazon S3, XGBoost, Algos, AutoML, Core V3, TargetEncoder, Core V4\n",
       "Python_version:             3.7.9 final\n",
       "--------------------------  ------------------------------------------------------------------"
      ]
     },
     "metadata": {},
     "output_type": "display_data"
    },
    {
     "name": "stdout",
     "output_type": "stream",
     "text": [
      "deeplearn base-3-2-test-1\n",
      "Parse progress: |████████████████████████████████████████████████████████████████| (done) 100%\n",
      "deeplearning prediction progress: |██████████████████████████████████████████████| (done) 100%\n",
      "deeplearn base-0-1-test-1\n",
      "Parse progress: |████████████████████████████████████████████████████████████████| (done) 100%\n",
      "deeplearning prediction progress: |██████████████████████████████████████████████| (done) 100%\n",
      "deeplearn base-1-1-test-2\n",
      "Parse progress: |████████████████████████████████████████████████████████████████| (done) 100%\n",
      "deeplearning prediction progress: |██████████████████████████████████████████████| (done) 100%\n",
      "deeplearn base-3-1-test-2\n",
      "Parse progress: |████████████████████████████████████████████████████████████████| (done) 100%\n",
      "deeplearning prediction progress: |██████████████████████████████████████████████| (done) 100%\n",
      "deeplearn base-0-1-test-2\n",
      "Parse progress: |████████████████████████████████████████████████████████████████| (done) 100%\n",
      "deeplearning prediction progress: |██████████████████████████████████████████████| (done) 100%\n",
      "deeplearn base-1-1-train-1\n",
      "Parse progress: |████████████████████████████████████████████████████████████████| (done) 100%\n",
      "deeplearning prediction progress: |██████████████████████████████████████████████| (done) 100%\n",
      "deeplearn base-1-1-test-3\n",
      "Parse progress: |████████████████████████████████████████████████████████████████| (done) 100%\n",
      "deeplearning prediction progress: |██████████████████████████████████████████████| (done) 100%\n",
      "deeplearn base-1-1-test-1\n",
      "Parse progress: |████████████████████████████████████████████████████████████████| (done) 100%\n",
      "deeplearning prediction progress: |██████████████████████████████████████████████| (done) 100%\n",
      "deeplearn base-3-1-train-1\n",
      "Parse progress: |████████████████████████████████████████████████████████████████| (done) 100%\n",
      "deeplearning prediction progress: |██████████████████████████████████████████████| (done) 100%\n",
      "deeplearn base-3-2-test-2\n",
      "Parse progress: |████████████████████████████████████████████████████████████████| (done) 100%\n",
      "deeplearning prediction progress: |██████████████████████████████████████████████| (done) 100%\n",
      "deeplearn base-0-1-test-3\n",
      "Parse progress: |████████████████████████████████████████████████████████████████| (done) 100%\n",
      "deeplearning prediction progress: |██████████████████████████████████████████████| (done) 100%\n",
      "deeplearn base-3-1-test-3\n",
      "Parse progress: |████████████████████████████████████████████████████████████████| (done) 100%\n",
      "deeplearning prediction progress: |██████████████████████████████████████████████| (done) 100%\n",
      "deeplearn base-3-2-train-1\n",
      "Parse progress: |████████████████████████████████████████████████████████████████| (done) 100%\n",
      "deeplearning prediction progress: |██████████████████████████████████████████████| (done) 100%\n",
      "deeplearn base-3-2-test-3\n",
      "Parse progress: |████████████████████████████████████████████████████████████████| (done) 100%\n",
      "deeplearning prediction progress: |██████████████████████████████████████████████| (done) 100%\n",
      "deeplearn base-0-1-train-1\n",
      "Parse progress: |████████████████████████████████████████████████████████████████| (done) 100%\n",
      "deeplearning prediction progress: |██████████████████████████████████████████████| (done) 100%\n",
      "deeplearn base-3-1-test-1\n",
      "Parse progress: |████████████████████████████████████████████████████████████████| (done) 100%\n",
      "deeplearning prediction progress: |██████████████████████████████████████████████| (done) 100%\n",
      "Checking whether there is an H2O instance running at http://localhost:54321 . connected.\n"
     ]
    },
    {
     "data": {
      "text/html": [
       "<div style=\"overflow:auto\"><table style=\"width:50%\"><tr><td>H2O_cluster_uptime:</td>\n",
       "<td>1 hour 9 mins</td></tr>\n",
       "<tr><td>H2O_cluster_timezone:</td>\n",
       "<td>UTC</td></tr>\n",
       "<tr><td>H2O_data_parsing_timezone:</td>\n",
       "<td>UTC</td></tr>\n",
       "<tr><td>H2O_cluster_version:</td>\n",
       "<td>3.34.0.3</td></tr>\n",
       "<tr><td>H2O_cluster_version_age:</td>\n",
       "<td>1 month and 18 days </td></tr>\n",
       "<tr><td>H2O_cluster_name:</td>\n",
       "<td>root</td></tr>\n",
       "<tr><td>H2O_cluster_total_nodes:</td>\n",
       "<td>1</td></tr>\n",
       "<tr><td>H2O_cluster_free_memory:</td>\n",
       "<td>8.29 Gb</td></tr>\n",
       "<tr><td>H2O_cluster_total_cores:</td>\n",
       "<td>22</td></tr>\n",
       "<tr><td>H2O_cluster_allowed_cores:</td>\n",
       "<td>22</td></tr>\n",
       "<tr><td>H2O_cluster_status:</td>\n",
       "<td>locked, healthy</td></tr>\n",
       "<tr><td>H2O_connection_url:</td>\n",
       "<td>http://localhost:54321</td></tr>\n",
       "<tr><td>H2O_connection_proxy:</td>\n",
       "<td>{\"http\": null, \"https\": null}</td></tr>\n",
       "<tr><td>H2O_internal_security:</td>\n",
       "<td>False</td></tr>\n",
       "<tr><td>H2O_API_Extensions:</td>\n",
       "<td>Amazon S3, XGBoost, Algos, AutoML, Core V3, TargetEncoder, Core V4</td></tr>\n",
       "<tr><td>Python_version:</td>\n",
       "<td>3.7.9 final</td></tr></table></div>"
      ],
      "text/plain": [
       "--------------------------  ------------------------------------------------------------------\n",
       "H2O_cluster_uptime:         1 hour 9 mins\n",
       "H2O_cluster_timezone:       UTC\n",
       "H2O_data_parsing_timezone:  UTC\n",
       "H2O_cluster_version:        3.34.0.3\n",
       "H2O_cluster_version_age:    1 month and 18 days\n",
       "H2O_cluster_name:           root\n",
       "H2O_cluster_total_nodes:    1\n",
       "H2O_cluster_free_memory:    8.29 Gb\n",
       "H2O_cluster_total_cores:    22\n",
       "H2O_cluster_allowed_cores:  22\n",
       "H2O_cluster_status:         locked, healthy\n",
       "H2O_connection_url:         http://localhost:54321\n",
       "H2O_connection_proxy:       {\"http\": null, \"https\": null}\n",
       "H2O_internal_security:      False\n",
       "H2O_API_Extensions:         Amazon S3, XGBoost, Algos, AutoML, Core V3, TargetEncoder, Core V4\n",
       "Python_version:             3.7.9 final\n",
       "--------------------------  ------------------------------------------------------------------"
      ]
     },
     "metadata": {},
     "output_type": "display_data"
    },
    {
     "name": "stdout",
     "output_type": "stream",
     "text": [
      "gbm base-3-2-test-1\n",
      "Parse progress: |████████████████████████████████████████████████████████████████| (done) 100%\n",
      "gbm prediction progress: |███████████████████████████████████████████████████████| (done) 100%\n",
      "gbm base-0-1-test-1\n",
      "Parse progress: |████████████████████████████████████████████████████████████████| (done) 100%\n",
      "gbm prediction progress: |███████████████████████████████████████████████████████| (done) 100%\n",
      "gbm base-1-1-test-2\n",
      "Parse progress: |████████████████████████████████████████████████████████████████| (done) 100%\n",
      "gbm prediction progress: |███████████████████████████████████████████████████████| (done) 100%\n",
      "gbm base-3-1-test-2\n",
      "Parse progress: |████████████████████████████████████████████████████████████████| (done) 100%\n",
      "gbm prediction progress: |███████████████████████████████████████████████████████| (done) 100%\n",
      "gbm base-0-1-test-2\n",
      "Parse progress: |████████████████████████████████████████████████████████████████| (done) 100%\n",
      "gbm prediction progress: |███████████████████████████████████████████████████████| (done) 100%\n",
      "gbm base-1-1-train-1\n",
      "Parse progress: |████████████████████████████████████████████████████████████████| (done) 100%\n",
      "gbm prediction progress: |███████████████████████████████████████████████████████| (done) 100%\n",
      "gbm base-1-1-test-3\n",
      "Parse progress: |████████████████████████████████████████████████████████████████| (done) 100%\n",
      "gbm prediction progress: |███████████████████████████████████████████████████████| (done) 100%\n",
      "gbm base-1-1-test-1\n",
      "Parse progress: |████████████████████████████████████████████████████████████████| (done) 100%\n",
      "gbm prediction progress: |███████████████████████████████████████████████████████| (done) 100%\n",
      "gbm base-3-1-train-1\n",
      "Parse progress: |████████████████████████████████████████████████████████████████| (done) 100%\n",
      "gbm prediction progress: |███████████████████████████████████████████████████████| (done) 100%\n",
      "gbm base-3-2-test-2\n",
      "Parse progress: |████████████████████████████████████████████████████████████████| (done) 100%\n",
      "gbm prediction progress: |███████████████████████████████████████████████████████| (done) 100%\n",
      "gbm base-0-1-test-3\n",
      "Parse progress: |████████████████████████████████████████████████████████████████| (done) 100%\n",
      "gbm prediction progress: |███████████████████████████████████████████████████████| (done) 100%\n",
      "gbm base-3-1-test-3\n",
      "Parse progress: |████████████████████████████████████████████████████████████████| (done) 100%\n",
      "gbm prediction progress: |███████████████████████████████████████████████████████| (done) 100%\n",
      "gbm base-3-2-train-1\n",
      "Parse progress: |████████████████████████████████████████████████████████████████| (done) 100%\n",
      "gbm prediction progress: |███████████████████████████████████████████████████████| (done) 100%\n",
      "gbm base-3-2-test-3\n",
      "Parse progress: |████████████████████████████████████████████████████████████████| (done) 100%\n",
      "gbm prediction progress: |███████████████████████████████████████████████████████| (done) 100%\n",
      "gbm base-0-1-train-1\n",
      "Parse progress: |████████████████████████████████████████████████████████████████| (done) 100%\n",
      "gbm prediction progress: |███████████████████████████████████████████████████████| (done) 100%\n",
      "gbm base-3-1-test-1\n",
      "Parse progress: |████████████████████████████████████████████████████████████████| (done) 100%\n",
      "gbm prediction progress: |███████████████████████████████████████████████████████| (done) 100%\n",
      "Checking whether there is an H2O instance running at http://localhost:54321 . connected.\n"
     ]
    },
    {
     "data": {
      "text/html": [
       "<div style=\"overflow:auto\"><table style=\"width:50%\"><tr><td>H2O_cluster_uptime:</td>\n",
       "<td>1 hour 14 mins</td></tr>\n",
       "<tr><td>H2O_cluster_timezone:</td>\n",
       "<td>UTC</td></tr>\n",
       "<tr><td>H2O_data_parsing_timezone:</td>\n",
       "<td>UTC</td></tr>\n",
       "<tr><td>H2O_cluster_version:</td>\n",
       "<td>3.34.0.3</td></tr>\n",
       "<tr><td>H2O_cluster_version_age:</td>\n",
       "<td>1 month and 18 days </td></tr>\n",
       "<tr><td>H2O_cluster_name:</td>\n",
       "<td>root</td></tr>\n",
       "<tr><td>H2O_cluster_total_nodes:</td>\n",
       "<td>1</td></tr>\n",
       "<tr><td>H2O_cluster_free_memory:</td>\n",
       "<td>8.14 Gb</td></tr>\n",
       "<tr><td>H2O_cluster_total_cores:</td>\n",
       "<td>22</td></tr>\n",
       "<tr><td>H2O_cluster_allowed_cores:</td>\n",
       "<td>22</td></tr>\n",
       "<tr><td>H2O_cluster_status:</td>\n",
       "<td>locked, healthy</td></tr>\n",
       "<tr><td>H2O_connection_url:</td>\n",
       "<td>http://localhost:54321</td></tr>\n",
       "<tr><td>H2O_connection_proxy:</td>\n",
       "<td>{\"http\": null, \"https\": null}</td></tr>\n",
       "<tr><td>H2O_internal_security:</td>\n",
       "<td>False</td></tr>\n",
       "<tr><td>H2O_API_Extensions:</td>\n",
       "<td>Amazon S3, XGBoost, Algos, AutoML, Core V3, TargetEncoder, Core V4</td></tr>\n",
       "<tr><td>Python_version:</td>\n",
       "<td>3.7.9 final</td></tr></table></div>"
      ],
      "text/plain": [
       "--------------------------  ------------------------------------------------------------------\n",
       "H2O_cluster_uptime:         1 hour 14 mins\n",
       "H2O_cluster_timezone:       UTC\n",
       "H2O_data_parsing_timezone:  UTC\n",
       "H2O_cluster_version:        3.34.0.3\n",
       "H2O_cluster_version_age:    1 month and 18 days\n",
       "H2O_cluster_name:           root\n",
       "H2O_cluster_total_nodes:    1\n",
       "H2O_cluster_free_memory:    8.14 Gb\n",
       "H2O_cluster_total_cores:    22\n",
       "H2O_cluster_allowed_cores:  22\n",
       "H2O_cluster_status:         locked, healthy\n",
       "H2O_connection_url:         http://localhost:54321\n",
       "H2O_connection_proxy:       {\"http\": null, \"https\": null}\n",
       "H2O_internal_security:      False\n",
       "H2O_API_Extensions:         Amazon S3, XGBoost, Algos, AutoML, Core V3, TargetEncoder, Core V4\n",
       "Python_version:             3.7.9 final\n",
       "--------------------------  ------------------------------------------------------------------"
      ]
     },
     "metadata": {},
     "output_type": "display_data"
    },
    {
     "name": "stdout",
     "output_type": "stream",
     "text": [
      "rf base-3-2-test-1\n",
      "Parse progress: |████████████████████████████████████████████████████████████████| (done) 100%\n",
      "drf prediction progress: |███████████████████████████████████████████████████████| (done) 100%\n",
      "rf base-0-1-test-1\n",
      "Parse progress: |████████████████████████████████████████████████████████████████| (done) 100%\n",
      "drf prediction progress: |███████████████████████████████████████████████████████| (done) 100%\n",
      "rf base-1-1-test-2\n",
      "Parse progress: |████████████████████████████████████████████████████████████████| (done) 100%\n",
      "drf prediction progress: |███████████████████████████████████████████████████████| (done) 100%\n",
      "rf base-3-1-test-2\n",
      "Parse progress: |████████████████████████████████████████████████████████████████| (done) 100%\n",
      "drf prediction progress: |███████████████████████████████████████████████████████| (done) 100%\n",
      "rf base-0-1-test-2\n",
      "Parse progress: |████████████████████████████████████████████████████████████████| (done) 100%\n",
      "drf prediction progress: |███████████████████████████████████████████████████████| (done) 100%\n",
      "rf base-1-1-train-1\n",
      "Parse progress: |████████████████████████████████████████████████████████████████| (done) 100%\n",
      "drf prediction progress: |███████████████████████████████████████████████████████| (done) 100%\n",
      "rf base-1-1-test-3\n",
      "Parse progress: |████████████████████████████████████████████████████████████████| (done) 100%\n",
      "drf prediction progress: |███████████████████████████████████████████████████████| (done) 100%\n",
      "rf base-1-1-test-1\n",
      "Parse progress: |████████████████████████████████████████████████████████████████| (done) 100%\n",
      "drf prediction progress: |███████████████████████████████████████████████████████| (done) 100%\n",
      "rf base-3-1-train-1\n",
      "Parse progress: |████████████████████████████████████████████████████████████████| (done) 100%\n",
      "drf prediction progress: |███████████████████████████████████████████████████████| (done) 100%\n",
      "rf base-3-2-test-2\n",
      "Parse progress: |████████████████████████████████████████████████████████████████| (done) 100%\n",
      "drf prediction progress: |███████████████████████████████████████████████████████| (done) 100%\n",
      "rf base-0-1-test-3\n",
      "Parse progress: |████████████████████████████████████████████████████████████████| (done) 100%\n",
      "drf prediction progress: |███████████████████████████████████████████████████████| (done) 100%\n",
      "rf base-3-1-test-3\n",
      "Parse progress: |████████████████████████████████████████████████████████████████| (done) 100%\n",
      "drf prediction progress: |███████████████████████████████████████████████████████| (done) 100%\n",
      "rf base-3-2-train-1\n",
      "Parse progress: |████████████████████████████████████████████████████████████████| (done) 100%\n",
      "drf prediction progress: |███████████████████████████████████████████████████████| (done) 100%\n",
      "rf base-3-2-test-3\n",
      "Parse progress: |████████████████████████████████████████████████████████████████| (done) 100%\n",
      "drf prediction progress: |███████████████████████████████████████████████████████| (done) 100%\n",
      "rf base-0-1-train-1\n",
      "Parse progress: |████████████████████████████████████████████████████████████████| (done) 100%\n",
      "drf prediction progress: |███████████████████████████████████████████████████████| (done) 100%\n",
      "rf base-3-1-test-1\n",
      "Parse progress: |████████████████████████████████████████████████████████████████| (done) 100%\n",
      "drf prediction progress: |███████████████████████████████████████████████████████| (done) 100%\n",
      "Checking whether there is an H2O instance running at http://localhost:54321 . connected.\n"
     ]
    },
    {
     "data": {
      "text/html": [
       "<div style=\"overflow:auto\"><table style=\"width:50%\"><tr><td>H2O_cluster_uptime:</td>\n",
       "<td>1 hour 19 mins</td></tr>\n",
       "<tr><td>H2O_cluster_timezone:</td>\n",
       "<td>UTC</td></tr>\n",
       "<tr><td>H2O_data_parsing_timezone:</td>\n",
       "<td>UTC</td></tr>\n",
       "<tr><td>H2O_cluster_version:</td>\n",
       "<td>3.34.0.3</td></tr>\n",
       "<tr><td>H2O_cluster_version_age:</td>\n",
       "<td>1 month and 18 days </td></tr>\n",
       "<tr><td>H2O_cluster_name:</td>\n",
       "<td>root</td></tr>\n",
       "<tr><td>H2O_cluster_total_nodes:</td>\n",
       "<td>1</td></tr>\n",
       "<tr><td>H2O_cluster_free_memory:</td>\n",
       "<td>7.940 Gb</td></tr>\n",
       "<tr><td>H2O_cluster_total_cores:</td>\n",
       "<td>22</td></tr>\n",
       "<tr><td>H2O_cluster_allowed_cores:</td>\n",
       "<td>22</td></tr>\n",
       "<tr><td>H2O_cluster_status:</td>\n",
       "<td>locked, healthy</td></tr>\n",
       "<tr><td>H2O_connection_url:</td>\n",
       "<td>http://localhost:54321</td></tr>\n",
       "<tr><td>H2O_connection_proxy:</td>\n",
       "<td>{\"http\": null, \"https\": null}</td></tr>\n",
       "<tr><td>H2O_internal_security:</td>\n",
       "<td>False</td></tr>\n",
       "<tr><td>H2O_API_Extensions:</td>\n",
       "<td>Amazon S3, XGBoost, Algos, AutoML, Core V3, TargetEncoder, Core V4</td></tr>\n",
       "<tr><td>Python_version:</td>\n",
       "<td>3.7.9 final</td></tr></table></div>"
      ],
      "text/plain": [
       "--------------------------  ------------------------------------------------------------------\n",
       "H2O_cluster_uptime:         1 hour 19 mins\n",
       "H2O_cluster_timezone:       UTC\n",
       "H2O_data_parsing_timezone:  UTC\n",
       "H2O_cluster_version:        3.34.0.3\n",
       "H2O_cluster_version_age:    1 month and 18 days\n",
       "H2O_cluster_name:           root\n",
       "H2O_cluster_total_nodes:    1\n",
       "H2O_cluster_free_memory:    7.940 Gb\n",
       "H2O_cluster_total_cores:    22\n",
       "H2O_cluster_allowed_cores:  22\n",
       "H2O_cluster_status:         locked, healthy\n",
       "H2O_connection_url:         http://localhost:54321\n",
       "H2O_connection_proxy:       {\"http\": null, \"https\": null}\n",
       "H2O_internal_security:      False\n",
       "H2O_API_Extensions:         Amazon S3, XGBoost, Algos, AutoML, Core V3, TargetEncoder, Core V4\n",
       "Python_version:             3.7.9 final\n",
       "--------------------------  ------------------------------------------------------------------"
      ]
     },
     "metadata": {},
     "output_type": "display_data"
    },
    {
     "name": "stdout",
     "output_type": "stream",
     "text": [
      "bayes base-3-2-test-1\n",
      "Parse progress: |████████████████████████████████████████████████████████████████| (done) 100%\n",
      "naivebayes prediction progress: |████████████████████████████████████████████████| (done) 100%\n",
      "bayes base-0-1-test-1\n",
      "Parse progress: |████████████████████████████████████████████████████████████████| (done) 100%\n",
      "naivebayes prediction progress: |████████████████████████████████████████████████| (done) 100%\n",
      "bayes base-1-1-test-2\n",
      "Parse progress: |████████████████████████████████████████████████████████████████| (done) 100%\n",
      "naivebayes prediction progress: |████████████████████████████████████████████████| (done) 100%\n",
      "bayes base-3-1-test-2\n",
      "Parse progress: |████████████████████████████████████████████████████████████████| (done) 100%\n",
      "naivebayes prediction progress: |████████████████████████████████████████████████| (done) 100%\n",
      "bayes base-0-1-test-2\n",
      "Parse progress: |████████████████████████████████████████████████████████████████| (done) 100%\n",
      "naivebayes prediction progress: |████████████████████████████████████████████████| (done) 100%\n",
      "bayes base-1-1-train-1\n",
      "Parse progress: |████████████████████████████████████████████████████████████████| (done) 100%\n",
      "naivebayes prediction progress: |████████████████████████████████████████████████| (done) 100%\n",
      "bayes base-1-1-test-3\n",
      "Parse progress: |████████████████████████████████████████████████████████████████| (done) 100%\n",
      "naivebayes prediction progress: |████████████████████████████████████████████████| (done) 100%\n",
      "bayes base-1-1-test-1\n",
      "Parse progress: |████████████████████████████████████████████████████████████████| (done) 100%\n",
      "naivebayes prediction progress: |████████████████████████████████████████████████| (done) 100%\n",
      "bayes base-3-1-train-1\n",
      "Parse progress: |████████████████████████████████████████████████████████████████| (done) 100%\n",
      "naivebayes prediction progress: |████████████████████████████████████████████████| (done) 100%\n",
      "bayes base-3-2-test-2\n",
      "Parse progress: |████████████████████████████████████████████████████████████████| (done) 100%\n",
      "naivebayes prediction progress: |████████████████████████████████████████████████| (done) 100%\n",
      "bayes base-0-1-test-3\n",
      "Parse progress: |████████████████████████████████████████████████████████████████| (done) 100%\n",
      "naivebayes prediction progress: |████████████████████████████████████████████████| (done) 100%\n",
      "bayes base-3-1-test-3\n",
      "Parse progress: |████████████████████████████████████████████████████████████████| (done) 100%\n",
      "naivebayes prediction progress: |████████████████████████████████████████████████| (done) 100%\n",
      "bayes base-3-2-train-1\n",
      "Parse progress: |████████████████████████████████████████████████████████████████| (done) 100%\n",
      "naivebayes prediction progress: |████████████████████████████████████████████████| (done) 100%\n",
      "bayes base-3-2-test-3\n",
      "Parse progress: |████████████████████████████████████████████████████████████████| (done) 100%\n",
      "naivebayes prediction progress: |████████████████████████████████████████████████| (done) 100%\n",
      "bayes base-0-1-train-1\n",
      "Parse progress: |████████████████████████████████████████████████████████████████| (done) 100%\n",
      "naivebayes prediction progress: |████████████████████████████████████████████████| (done) 100%\n",
      "bayes base-3-1-test-1\n",
      "Parse progress: |████████████████████████████████████████████████████████████████| (done) 100%\n",
      "naivebayes prediction progress: |████████████████████████████████████████████████| (done) 100%\n",
      "Checking whether there is an H2O instance running at http://localhost:54321 . connected.\n"
     ]
    },
    {
     "data": {
      "text/html": [
       "<div style=\"overflow:auto\"><table style=\"width:50%\"><tr><td>H2O_cluster_uptime:</td>\n",
       "<td>1 hour 24 mins</td></tr>\n",
       "<tr><td>H2O_cluster_timezone:</td>\n",
       "<td>UTC</td></tr>\n",
       "<tr><td>H2O_data_parsing_timezone:</td>\n",
       "<td>UTC</td></tr>\n",
       "<tr><td>H2O_cluster_version:</td>\n",
       "<td>3.34.0.3</td></tr>\n",
       "<tr><td>H2O_cluster_version_age:</td>\n",
       "<td>1 month and 18 days </td></tr>\n",
       "<tr><td>H2O_cluster_name:</td>\n",
       "<td>root</td></tr>\n",
       "<tr><td>H2O_cluster_total_nodes:</td>\n",
       "<td>1</td></tr>\n",
       "<tr><td>H2O_cluster_free_memory:</td>\n",
       "<td>7.758 Gb</td></tr>\n",
       "<tr><td>H2O_cluster_total_cores:</td>\n",
       "<td>22</td></tr>\n",
       "<tr><td>H2O_cluster_allowed_cores:</td>\n",
       "<td>22</td></tr>\n",
       "<tr><td>H2O_cluster_status:</td>\n",
       "<td>locked, healthy</td></tr>\n",
       "<tr><td>H2O_connection_url:</td>\n",
       "<td>http://localhost:54321</td></tr>\n",
       "<tr><td>H2O_connection_proxy:</td>\n",
       "<td>{\"http\": null, \"https\": null}</td></tr>\n",
       "<tr><td>H2O_internal_security:</td>\n",
       "<td>False</td></tr>\n",
       "<tr><td>H2O_API_Extensions:</td>\n",
       "<td>Amazon S3, XGBoost, Algos, AutoML, Core V3, TargetEncoder, Core V4</td></tr>\n",
       "<tr><td>Python_version:</td>\n",
       "<td>3.7.9 final</td></tr></table></div>"
      ],
      "text/plain": [
       "--------------------------  ------------------------------------------------------------------\n",
       "H2O_cluster_uptime:         1 hour 24 mins\n",
       "H2O_cluster_timezone:       UTC\n",
       "H2O_data_parsing_timezone:  UTC\n",
       "H2O_cluster_version:        3.34.0.3\n",
       "H2O_cluster_version_age:    1 month and 18 days\n",
       "H2O_cluster_name:           root\n",
       "H2O_cluster_total_nodes:    1\n",
       "H2O_cluster_free_memory:    7.758 Gb\n",
       "H2O_cluster_total_cores:    22\n",
       "H2O_cluster_allowed_cores:  22\n",
       "H2O_cluster_status:         locked, healthy\n",
       "H2O_connection_url:         http://localhost:54321\n",
       "H2O_connection_proxy:       {\"http\": null, \"https\": null}\n",
       "H2O_internal_security:      False\n",
       "H2O_API_Extensions:         Amazon S3, XGBoost, Algos, AutoML, Core V3, TargetEncoder, Core V4\n",
       "Python_version:             3.7.9 final\n",
       "--------------------------  ------------------------------------------------------------------"
      ]
     },
     "metadata": {},
     "output_type": "display_data"
    },
    {
     "name": "stdout",
     "output_type": "stream",
     "text": [
      "glm base-3-2-test-1\n",
      "Parse progress: |████████████████████████████████████████████████████████████████| (done) 100%\n",
      "glm prediction progress: |███████████████████████████████████████████████████████| (done) 100%\n",
      "glm base-0-1-test-1\n",
      "Parse progress: |████████████████████████████████████████████████████████████████| (done) 100%\n",
      "glm prediction progress: |███████████████████████████████████████████████████████| (done) 100%\n",
      "glm base-1-1-test-2\n",
      "Parse progress: |████████████████████████████████████████████████████████████████| (done) 100%\n",
      "glm prediction progress: |███████████████████████████████████████████████████████| (done) 100%\n",
      "glm base-3-1-test-2\n",
      "Parse progress: |████████████████████████████████████████████████████████████████| (done) 100%\n",
      "glm prediction progress: |███████████████████████████████████████████████████████| (done) 100%\n",
      "glm base-0-1-test-2\n",
      "Parse progress: |████████████████████████████████████████████████████████████████| (done) 100%\n",
      "glm prediction progress: |███████████████████████████████████████████████████████| (done) 100%\n",
      "glm base-1-1-train-1\n",
      "Parse progress: |████████████████████████████████████████████████████████████████| (done) 100%\n",
      "glm prediction progress: |███████████████████████████████████████████████████████| (done) 100%\n",
      "glm base-1-1-test-3\n",
      "Parse progress: |████████████████████████████████████████████████████████████████| (done) 100%\n",
      "glm prediction progress: |███████████████████████████████████████████████████████| (done) 100%\n",
      "glm base-1-1-test-1\n",
      "Parse progress: |████████████████████████████████████████████████████████████████| (done) 100%\n",
      "glm prediction progress: |███████████████████████████████████████████████████████| (done) 100%\n",
      "glm base-3-1-train-1\n",
      "Parse progress: |████████████████████████████████████████████████████████████████| (done) 100%\n",
      "glm prediction progress: |███████████████████████████████████████████████████████| (done) 100%\n",
      "glm base-3-2-test-2\n",
      "Parse progress: |████████████████████████████████████████████████████████████████| (done) 100%\n",
      "glm prediction progress: |███████████████████████████████████████████████████████| (done) 100%\n",
      "glm base-0-1-test-3\n",
      "Parse progress: |████████████████████████████████████████████████████████████████| (done) 100%\n",
      "glm prediction progress: |███████████████████████████████████████████████████████| (done) 100%\n",
      "glm base-3-1-test-3\n",
      "Parse progress: |████████████████████████████████████████████████████████████████| (done) 100%\n",
      "glm prediction progress: |███████████████████████████████████████████████████████| (done) 100%\n",
      "glm base-3-2-train-1\n",
      "Parse progress: |████████████████████████████████████████████████████████████████| (done) 100%\n",
      "glm prediction progress: |███████████████████████████████████████████████████████| (done) 100%\n",
      "glm base-3-2-test-3\n",
      "Parse progress: |████████████████████████████████████████████████████████████████| (done) 100%\n",
      "glm prediction progress: |███████████████████████████████████████████████████████| (done) 100%\n",
      "glm base-0-1-train-1\n",
      "Parse progress: |████████████████████████████████████████████████████████████████| (done) 100%\n",
      "glm prediction progress: |███████████████████████████████████████████████████████| (done) 100%\n",
      "glm base-3-1-test-1\n",
      "Parse progress: |████████████████████████████████████████████████████████████████| (done) 100%\n",
      "glm prediction progress: |███████████████████████████████████████████████████████| (done) 100%\n",
      "svm base-3-2-test-1\n"
     ]
    },
    {
     "name": "stderr",
     "output_type": "stream",
     "text": [
      "[Parallel(n_jobs=16)]: Using backend LokyBackend with 16 concurrent workers.\n",
      "[Parallel(n_jobs=16)]: Done   2 out of  16 | elapsed:   49.7s remaining:  5.8min\n",
      "[Parallel(n_jobs=16)]: Done  16 out of  16 | elapsed:  1.1min finished\n"
     ]
    },
    {
     "name": "stdout",
     "output_type": "stream",
     "text": [
      "svm base-0-1-test-1\n"
     ]
    },
    {
     "name": "stderr",
     "output_type": "stream",
     "text": [
      "[Parallel(n_jobs=16)]: Using backend LokyBackend with 16 concurrent workers.\n",
      "[Parallel(n_jobs=16)]: Done   2 out of  16 | elapsed:   41.3s remaining:  4.8min\n",
      "[Parallel(n_jobs=16)]: Done  16 out of  16 | elapsed:  1.0min finished\n"
     ]
    },
    {
     "name": "stdout",
     "output_type": "stream",
     "text": [
      "svm base-1-1-test-2\n"
     ]
    },
    {
     "name": "stderr",
     "output_type": "stream",
     "text": [
      "[Parallel(n_jobs=16)]: Using backend LokyBackend with 16 concurrent workers.\n",
      "[Parallel(n_jobs=16)]: Done   2 out of  16 | elapsed:  3.8min remaining: 26.9min\n",
      "[Parallel(n_jobs=16)]: Done  16 out of  16 | elapsed:  5.3min finished\n"
     ]
    },
    {
     "name": "stdout",
     "output_type": "stream",
     "text": [
      "svm base-3-1-test-2\n"
     ]
    },
    {
     "name": "stderr",
     "output_type": "stream",
     "text": [
      "[Parallel(n_jobs=16)]: Using backend LokyBackend with 16 concurrent workers.\n",
      "[Parallel(n_jobs=16)]: Done   2 out of  16 | elapsed:  3.9min remaining: 27.2min\n",
      "[Parallel(n_jobs=16)]: Done  16 out of  16 | elapsed:  5.4min finished\n"
     ]
    },
    {
     "name": "stdout",
     "output_type": "stream",
     "text": [
      "svm base-0-1-test-2\n"
     ]
    },
    {
     "name": "stderr",
     "output_type": "stream",
     "text": [
      "[Parallel(n_jobs=16)]: Using backend LokyBackend with 16 concurrent workers.\n",
      "[Parallel(n_jobs=16)]: Done   2 out of  16 | elapsed:  3.7min remaining: 25.8min\n",
      "[Parallel(n_jobs=16)]: Done  16 out of  16 | elapsed:  4.7min finished\n"
     ]
    },
    {
     "name": "stdout",
     "output_type": "stream",
     "text": [
      "svm base-1-1-train-1\n"
     ]
    },
    {
     "name": "stderr",
     "output_type": "stream",
     "text": [
      "[Parallel(n_jobs=16)]: Using backend LokyBackend with 16 concurrent workers.\n",
      "[Parallel(n_jobs=16)]: Done   2 out of  16 | elapsed:  4.1min remaining: 28.9min\n",
      "[Parallel(n_jobs=16)]: Done  16 out of  16 | elapsed:  4.9min finished\n"
     ]
    },
    {
     "name": "stdout",
     "output_type": "stream",
     "text": [
      "svm base-1-1-test-3\n"
     ]
    },
    {
     "name": "stderr",
     "output_type": "stream",
     "text": [
      "[Parallel(n_jobs=16)]: Using backend LokyBackend with 16 concurrent workers.\n",
      "[Parallel(n_jobs=16)]: Done   2 out of  16 | elapsed:  8.6min remaining: 60.2min\n",
      "[Parallel(n_jobs=16)]: Done  16 out of  16 | elapsed: 10.7min finished\n"
     ]
    },
    {
     "name": "stdout",
     "output_type": "stream",
     "text": [
      "svm base-1-1-test-1\n"
     ]
    },
    {
     "name": "stderr",
     "output_type": "stream",
     "text": [
      "[Parallel(n_jobs=16)]: Using backend LokyBackend with 16 concurrent workers.\n",
      "[Parallel(n_jobs=16)]: Done   2 out of  16 | elapsed:   45.4s remaining:  5.3min\n",
      "[Parallel(n_jobs=16)]: Done  16 out of  16 | elapsed:  1.1min finished\n"
     ]
    },
    {
     "name": "stdout",
     "output_type": "stream",
     "text": [
      "svm base-3-1-train-1\n"
     ]
    },
    {
     "name": "stderr",
     "output_type": "stream",
     "text": [
      "[Parallel(n_jobs=16)]: Using backend LokyBackend with 16 concurrent workers.\n",
      "[Parallel(n_jobs=16)]: Done   2 out of  16 | elapsed:  3.8min remaining: 26.5min\n",
      "[Parallel(n_jobs=16)]: Done  16 out of  16 | elapsed:  5.1min finished\n"
     ]
    },
    {
     "name": "stdout",
     "output_type": "stream",
     "text": [
      "svm base-3-2-test-2\n"
     ]
    },
    {
     "name": "stderr",
     "output_type": "stream",
     "text": [
      "[Parallel(n_jobs=16)]: Using backend LokyBackend with 16 concurrent workers.\n",
      "[Parallel(n_jobs=16)]: Done   2 out of  16 | elapsed:  4.0min remaining: 28.0min\n",
      "[Parallel(n_jobs=16)]: Done  16 out of  16 | elapsed:  5.1min finished\n"
     ]
    },
    {
     "name": "stdout",
     "output_type": "stream",
     "text": [
      "svm base-0-1-test-3\n"
     ]
    },
    {
     "name": "stderr",
     "output_type": "stream",
     "text": [
      "[Parallel(n_jobs=16)]: Using backend LokyBackend with 16 concurrent workers.\n",
      "[Parallel(n_jobs=16)]: Done   2 out of  16 | elapsed:  7.5min remaining: 52.8min\n",
      "[Parallel(n_jobs=16)]: Done  16 out of  16 | elapsed:  9.4min finished\n"
     ]
    },
    {
     "name": "stdout",
     "output_type": "stream",
     "text": [
      "svm base-3-1-test-3\n"
     ]
    },
    {
     "name": "stderr",
     "output_type": "stream",
     "text": [
      "[Parallel(n_jobs=16)]: Using backend LokyBackend with 16 concurrent workers.\n",
      "[Parallel(n_jobs=16)]: Done   2 out of  16 | elapsed:  8.4min remaining: 58.8min\n",
      "[Parallel(n_jobs=16)]: Done  16 out of  16 | elapsed: 10.3min finished\n"
     ]
    },
    {
     "name": "stdout",
     "output_type": "stream",
     "text": [
      "svm base-3-2-train-1\n"
     ]
    },
    {
     "name": "stderr",
     "output_type": "stream",
     "text": [
      "[Parallel(n_jobs=16)]: Using backend LokyBackend with 16 concurrent workers.\n",
      "[Parallel(n_jobs=16)]: Done   2 out of  16 | elapsed:  4.0min remaining: 28.1min\n",
      "[Parallel(n_jobs=16)]: Done  16 out of  16 | elapsed:  5.1min finished\n"
     ]
    },
    {
     "name": "stdout",
     "output_type": "stream",
     "text": [
      "svm base-3-2-test-3\n"
     ]
    },
    {
     "name": "stderr",
     "output_type": "stream",
     "text": [
      "[Parallel(n_jobs=16)]: Using backend LokyBackend with 16 concurrent workers.\n",
      "[Parallel(n_jobs=16)]: Done   2 out of  16 | elapsed:  8.5min remaining: 59.4min\n",
      "[Parallel(n_jobs=16)]: Done  16 out of  16 | elapsed:  9.7min finished\n"
     ]
    },
    {
     "name": "stdout",
     "output_type": "stream",
     "text": [
      "svm base-0-1-train-1\n"
     ]
    },
    {
     "name": "stderr",
     "output_type": "stream",
     "text": [
      "[Parallel(n_jobs=16)]: Using backend LokyBackend with 16 concurrent workers.\n",
      "[Parallel(n_jobs=16)]: Done   2 out of  16 | elapsed:  3.5min remaining: 24.6min\n",
      "[Parallel(n_jobs=16)]: Done  16 out of  16 | elapsed:  4.5min finished\n"
     ]
    },
    {
     "name": "stdout",
     "output_type": "stream",
     "text": [
      "svm base-3-1-test-1\n"
     ]
    },
    {
     "name": "stderr",
     "output_type": "stream",
     "text": [
      "[Parallel(n_jobs=16)]: Using backend LokyBackend with 16 concurrent workers.\n",
      "[Parallel(n_jobs=16)]: Done   2 out of  16 | elapsed:   45.6s remaining:  5.3min\n",
      "[Parallel(n_jobs=16)]: Done  16 out of  16 | elapsed:  1.0min finished\n"
     ]
    },
    {
     "name": "stdout",
     "output_type": "stream",
     "text": [
      "Checking whether there is an H2O instance running at http://localhost:54321 . connected.\n"
     ]
    },
    {
     "data": {
      "text/html": [
       "<div style=\"overflow:auto\"><table style=\"width:50%\"><tr><td>H2O_cluster_uptime:</td>\n",
       "<td>2 hours 56 mins</td></tr>\n",
       "<tr><td>H2O_cluster_timezone:</td>\n",
       "<td>UTC</td></tr>\n",
       "<tr><td>H2O_data_parsing_timezone:</td>\n",
       "<td>UTC</td></tr>\n",
       "<tr><td>H2O_cluster_version:</td>\n",
       "<td>3.34.0.3</td></tr>\n",
       "<tr><td>H2O_cluster_version_age:</td>\n",
       "<td>1 month and 18 days </td></tr>\n",
       "<tr><td>H2O_cluster_name:</td>\n",
       "<td>root</td></tr>\n",
       "<tr><td>H2O_cluster_total_nodes:</td>\n",
       "<td>1</td></tr>\n",
       "<tr><td>H2O_cluster_free_memory:</td>\n",
       "<td>7.565 Gb</td></tr>\n",
       "<tr><td>H2O_cluster_total_cores:</td>\n",
       "<td>22</td></tr>\n",
       "<tr><td>H2O_cluster_allowed_cores:</td>\n",
       "<td>22</td></tr>\n",
       "<tr><td>H2O_cluster_status:</td>\n",
       "<td>locked, healthy</td></tr>\n",
       "<tr><td>H2O_connection_url:</td>\n",
       "<td>http://localhost:54321</td></tr>\n",
       "<tr><td>H2O_connection_proxy:</td>\n",
       "<td>{\"http\": null, \"https\": null}</td></tr>\n",
       "<tr><td>H2O_internal_security:</td>\n",
       "<td>False</td></tr>\n",
       "<tr><td>H2O_API_Extensions:</td>\n",
       "<td>Amazon S3, XGBoost, Algos, AutoML, Core V3, TargetEncoder, Core V4</td></tr>\n",
       "<tr><td>Python_version:</td>\n",
       "<td>3.7.9 final</td></tr></table></div>"
      ],
      "text/plain": [
       "--------------------------  ------------------------------------------------------------------\n",
       "H2O_cluster_uptime:         2 hours 56 mins\n",
       "H2O_cluster_timezone:       UTC\n",
       "H2O_data_parsing_timezone:  UTC\n",
       "H2O_cluster_version:        3.34.0.3\n",
       "H2O_cluster_version_age:    1 month and 18 days\n",
       "H2O_cluster_name:           root\n",
       "H2O_cluster_total_nodes:    1\n",
       "H2O_cluster_free_memory:    7.565 Gb\n",
       "H2O_cluster_total_cores:    22\n",
       "H2O_cluster_allowed_cores:  22\n",
       "H2O_cluster_status:         locked, healthy\n",
       "H2O_connection_url:         http://localhost:54321\n",
       "H2O_connection_proxy:       {\"http\": null, \"https\": null}\n",
       "H2O_internal_security:      False\n",
       "H2O_API_Extensions:         Amazon S3, XGBoost, Algos, AutoML, Core V3, TargetEncoder, Core V4\n",
       "Python_version:             3.7.9 final\n",
       "--------------------------  ------------------------------------------------------------------"
      ]
     },
     "metadata": {},
     "output_type": "display_data"
    },
    {
     "name": "stdout",
     "output_type": "stream",
     "text": [
      "xgboost base-3-2-test-1\n",
      "Parse progress: |████████████████████████████████████████████████████████████████| (done) 100%\n",
      "xgboost prediction progress: |███████████████████████████████████████████████████| (done) 100%\n",
      "xgboost base-0-1-test-1\n",
      "Parse progress: |████████████████████████████████████████████████████████████████| (done) 100%\n",
      "xgboost prediction progress: |███████████████████████████████████████████████████| (done) 100%\n",
      "xgboost base-1-1-test-2\n",
      "Parse progress: |████████████████████████████████████████████████████████████████| (done) 100%\n",
      "xgboost prediction progress: |███████████████████████████████████████████████████| (done) 100%\n",
      "xgboost base-3-1-test-2\n",
      "Parse progress: |████████████████████████████████████████████████████████████████| (done) 100%\n",
      "xgboost prediction progress: |███████████████████████████████████████████████████| (done) 100%\n",
      "xgboost base-0-1-test-2\n",
      "Parse progress: |████████████████████████████████████████████████████████████████| (done) 100%\n",
      "xgboost prediction progress: |███████████████████████████████████████████████████| (done) 100%\n",
      "xgboost base-1-1-train-1\n",
      "Parse progress: |████████████████████████████████████████████████████████████████| (done) 100%\n",
      "xgboost prediction progress: |███████████████████████████████████████████████████| (done) 100%\n",
      "xgboost base-1-1-test-3\n",
      "Parse progress: |████████████████████████████████████████████████████████████████| (done) 100%\n",
      "xgboost prediction progress: |███████████████████████████████████████████████████| (done) 100%\n",
      "xgboost base-1-1-test-1\n",
      "Parse progress: |████████████████████████████████████████████████████████████████| (done) 100%\n",
      "xgboost prediction progress: |███████████████████████████████████████████████████| (done) 100%\n",
      "xgboost base-3-1-train-1\n",
      "Parse progress: |████████████████████████████████████████████████████████████████| (done) 100%\n",
      "xgboost prediction progress: |███████████████████████████████████████████████████| (done) 100%\n",
      "xgboost base-3-2-test-2\n",
      "Parse progress: |████████████████████████████████████████████████████████████████| (done) 100%\n",
      "xgboost prediction progress: |███████████████████████████████████████████████████| (done) 100%\n",
      "xgboost base-0-1-test-3\n",
      "Parse progress: |████████████████████████████████████████████████████████████████| (done) 100%\n",
      "xgboost prediction progress: |███████████████████████████████████████████████████| (done) 100%\n",
      "xgboost base-3-1-test-3\n",
      "Parse progress: |████████████████████████████████████████████████████████████████| (done) 100%\n",
      "xgboost prediction progress: |███████████████████████████████████████████████████| (done) 100%\n",
      "xgboost base-3-2-train-1\n",
      "Parse progress: |████████████████████████████████████████████████████████████████| (done) 100%\n",
      "xgboost prediction progress: |███████████████████████████████████████████████████| (done) 100%\n",
      "xgboost base-3-2-test-3\n",
      "Parse progress: |████████████████████████████████████████████████████████████████| (done) 100%\n",
      "xgboost prediction progress: |███████████████████████████████████████████████████| (done) 100%\n",
      "xgboost base-0-1-train-1\n",
      "Parse progress: |████████████████████████████████████████████████████████████████| (done) 100%\n",
      "xgboost prediction progress: |███████████████████████████████████████████████████| (done) 100%\n",
      "xgboost base-3-1-test-1\n",
      "Parse progress: |████████████████████████████████████████████████████████████████| (done) 100%\n",
      "xgboost prediction progress: |███████████████████████████████████████████████████| (done) 100%\n",
      "Checking whether there is an H2O instance running at http://localhost:54321 . connected.\n"
     ]
    },
    {
     "data": {
      "text/html": [
       "<div style=\"overflow:auto\"><table style=\"width:50%\"><tr><td>H2O_cluster_uptime:</td>\n",
       "<td>3 hours 1 min</td></tr>\n",
       "<tr><td>H2O_cluster_timezone:</td>\n",
       "<td>UTC</td></tr>\n",
       "<tr><td>H2O_data_parsing_timezone:</td>\n",
       "<td>UTC</td></tr>\n",
       "<tr><td>H2O_cluster_version:</td>\n",
       "<td>3.34.0.3</td></tr>\n",
       "<tr><td>H2O_cluster_version_age:</td>\n",
       "<td>1 month and 18 days </td></tr>\n",
       "<tr><td>H2O_cluster_name:</td>\n",
       "<td>root</td></tr>\n",
       "<tr><td>H2O_cluster_total_nodes:</td>\n",
       "<td>1</td></tr>\n",
       "<tr><td>H2O_cluster_free_memory:</td>\n",
       "<td>7.395 Gb</td></tr>\n",
       "<tr><td>H2O_cluster_total_cores:</td>\n",
       "<td>22</td></tr>\n",
       "<tr><td>H2O_cluster_allowed_cores:</td>\n",
       "<td>22</td></tr>\n",
       "<tr><td>H2O_cluster_status:</td>\n",
       "<td>locked, healthy</td></tr>\n",
       "<tr><td>H2O_connection_url:</td>\n",
       "<td>http://localhost:54321</td></tr>\n",
       "<tr><td>H2O_connection_proxy:</td>\n",
       "<td>{\"http\": null, \"https\": null}</td></tr>\n",
       "<tr><td>H2O_internal_security:</td>\n",
       "<td>False</td></tr>\n",
       "<tr><td>H2O_API_Extensions:</td>\n",
       "<td>Amazon S3, XGBoost, Algos, AutoML, Core V3, TargetEncoder, Core V4</td></tr>\n",
       "<tr><td>Python_version:</td>\n",
       "<td>3.7.9 final</td></tr></table></div>"
      ],
      "text/plain": [
       "--------------------------  ------------------------------------------------------------------\n",
       "H2O_cluster_uptime:         3 hours 1 min\n",
       "H2O_cluster_timezone:       UTC\n",
       "H2O_data_parsing_timezone:  UTC\n",
       "H2O_cluster_version:        3.34.0.3\n",
       "H2O_cluster_version_age:    1 month and 18 days\n",
       "H2O_cluster_name:           root\n",
       "H2O_cluster_total_nodes:    1\n",
       "H2O_cluster_free_memory:    7.395 Gb\n",
       "H2O_cluster_total_cores:    22\n",
       "H2O_cluster_allowed_cores:  22\n",
       "H2O_cluster_status:         locked, healthy\n",
       "H2O_connection_url:         http://localhost:54321\n",
       "H2O_connection_proxy:       {\"http\": null, \"https\": null}\n",
       "H2O_internal_security:      False\n",
       "H2O_API_Extensions:         Amazon S3, XGBoost, Algos, AutoML, Core V3, TargetEncoder, Core V4\n",
       "Python_version:             3.7.9 final\n",
       "--------------------------  ------------------------------------------------------------------"
      ]
     },
     "metadata": {},
     "output_type": "display_data"
    },
    {
     "name": "stdout",
     "output_type": "stream",
     "text": [
      "deeplearn base-3-2-test-1\n",
      "Parse progress: |████████████████████████████████████████████████████████████████| (done) 100%\n",
      "deeplearning prediction progress: |██████████████████████████████████████████████| (done) 100%\n",
      "deeplearn base-0-1-test-1\n",
      "Parse progress: |████████████████████████████████████████████████████████████████| (done) 100%\n",
      "deeplearning prediction progress: |██████████████████████████████████████████████| (done) 100%\n",
      "deeplearn base-1-1-test-2\n",
      "Parse progress: |████████████████████████████████████████████████████████████████| (done) 100%\n",
      "deeplearning prediction progress: |██████████████████████████████████████████████| (done) 100%\n",
      "deeplearn base-3-1-test-2\n",
      "Parse progress: |████████████████████████████████████████████████████████████████| (done) 100%\n",
      "deeplearning prediction progress: |██████████████████████████████████████████████| (done) 100%\n",
      "deeplearn base-0-1-test-2\n",
      "Parse progress: |████████████████████████████████████████████████████████████████| (done) 100%\n",
      "deeplearning prediction progress: |██████████████████████████████████████████████| (done) 100%\n",
      "deeplearn base-1-1-train-1\n",
      "Parse progress: |████████████████████████████████████████████████████████████████| (done) 100%\n",
      "deeplearning prediction progress: |██████████████████████████████████████████████| (done) 100%\n",
      "deeplearn base-1-1-test-3\n",
      "Parse progress: |████████████████████████████████████████████████████████████████| (done) 100%\n",
      "deeplearning prediction progress: |██████████████████████████████████████████████| (done) 100%\n",
      "deeplearn base-1-1-test-1\n",
      "Parse progress: |████████████████████████████████████████████████████████████████| (done) 100%\n",
      "deeplearning prediction progress: |██████████████████████████████████████████████| (done) 100%\n",
      "deeplearn base-3-1-train-1\n",
      "Parse progress: |████████████████████████████████████████████████████████████████| (done) 100%\n",
      "deeplearning prediction progress: |██████████████████████████████████████████████| (done) 100%\n",
      "deeplearn base-3-2-test-2\n",
      "Parse progress: |████████████████████████████████████████████████████████████████| (done) 100%\n",
      "deeplearning prediction progress: |██████████████████████████████████████████████| (done) 100%\n",
      "deeplearn base-0-1-test-3\n",
      "Parse progress: |████████████████████████████████████████████████████████████████| (done) 100%\n",
      "deeplearning prediction progress: |██████████████████████████████████████████████| (done) 100%\n",
      "deeplearn base-3-1-test-3\n",
      "Parse progress: |████████████████████████████████████████████████████████████████| (done) 100%\n",
      "deeplearning prediction progress: |██████████████████████████████████████████████| (done) 100%\n",
      "deeplearn base-3-2-train-1\n",
      "Parse progress: |████████████████████████████████████████████████████████████████| (done) 100%\n",
      "deeplearning prediction progress: |██████████████████████████████████████████████| (done) 100%\n",
      "deeplearn base-3-2-test-3\n",
      "Parse progress: |████████████████████████████████████████████████████████████████| (done) 100%\n",
      "deeplearning prediction progress: |██████████████████████████████████████████████| (done) 100%\n",
      "deeplearn base-0-1-train-1\n",
      "Parse progress: |████████████████████████████████████████████████████████████████| (done) 100%\n",
      "deeplearning prediction progress: |██████████████████████████████████████████████| (done) 100%\n",
      "deeplearn base-3-1-test-1\n",
      "Parse progress: |████████████████████████████████████████████████████████████████| (done) 100%\n",
      "deeplearning prediction progress: |██████████████████████████████████████████████| (done) 100%\n",
      "Checking whether there is an H2O instance running at http://localhost:54321 . connected.\n"
     ]
    },
    {
     "data": {
      "text/html": [
       "<div style=\"overflow:auto\"><table style=\"width:50%\"><tr><td>H2O_cluster_uptime:</td>\n",
       "<td>3 hours 8 mins</td></tr>\n",
       "<tr><td>H2O_cluster_timezone:</td>\n",
       "<td>UTC</td></tr>\n",
       "<tr><td>H2O_data_parsing_timezone:</td>\n",
       "<td>UTC</td></tr>\n",
       "<tr><td>H2O_cluster_version:</td>\n",
       "<td>3.34.0.3</td></tr>\n",
       "<tr><td>H2O_cluster_version_age:</td>\n",
       "<td>1 month and 18 days </td></tr>\n",
       "<tr><td>H2O_cluster_name:</td>\n",
       "<td>root</td></tr>\n",
       "<tr><td>H2O_cluster_total_nodes:</td>\n",
       "<td>1</td></tr>\n",
       "<tr><td>H2O_cluster_free_memory:</td>\n",
       "<td>7.159 Gb</td></tr>\n",
       "<tr><td>H2O_cluster_total_cores:</td>\n",
       "<td>22</td></tr>\n",
       "<tr><td>H2O_cluster_allowed_cores:</td>\n",
       "<td>22</td></tr>\n",
       "<tr><td>H2O_cluster_status:</td>\n",
       "<td>locked, healthy</td></tr>\n",
       "<tr><td>H2O_connection_url:</td>\n",
       "<td>http://localhost:54321</td></tr>\n",
       "<tr><td>H2O_connection_proxy:</td>\n",
       "<td>{\"http\": null, \"https\": null}</td></tr>\n",
       "<tr><td>H2O_internal_security:</td>\n",
       "<td>False</td></tr>\n",
       "<tr><td>H2O_API_Extensions:</td>\n",
       "<td>Amazon S3, XGBoost, Algos, AutoML, Core V3, TargetEncoder, Core V4</td></tr>\n",
       "<tr><td>Python_version:</td>\n",
       "<td>3.7.9 final</td></tr></table></div>"
      ],
      "text/plain": [
       "--------------------------  ------------------------------------------------------------------\n",
       "H2O_cluster_uptime:         3 hours 8 mins\n",
       "H2O_cluster_timezone:       UTC\n",
       "H2O_data_parsing_timezone:  UTC\n",
       "H2O_cluster_version:        3.34.0.3\n",
       "H2O_cluster_version_age:    1 month and 18 days\n",
       "H2O_cluster_name:           root\n",
       "H2O_cluster_total_nodes:    1\n",
       "H2O_cluster_free_memory:    7.159 Gb\n",
       "H2O_cluster_total_cores:    22\n",
       "H2O_cluster_allowed_cores:  22\n",
       "H2O_cluster_status:         locked, healthy\n",
       "H2O_connection_url:         http://localhost:54321\n",
       "H2O_connection_proxy:       {\"http\": null, \"https\": null}\n",
       "H2O_internal_security:      False\n",
       "H2O_API_Extensions:         Amazon S3, XGBoost, Algos, AutoML, Core V3, TargetEncoder, Core V4\n",
       "Python_version:             3.7.9 final\n",
       "--------------------------  ------------------------------------------------------------------"
      ]
     },
     "metadata": {},
     "output_type": "display_data"
    },
    {
     "name": "stdout",
     "output_type": "stream",
     "text": [
      "gbm base-3-2-test-1\n",
      "Parse progress: |████████████████████████████████████████████████████████████████| (done) 100%\n",
      "gbm prediction progress: |███████████████████████████████████████████████████████| (done) 100%\n",
      "gbm base-0-1-test-1\n",
      "Parse progress: |████████████████████████████████████████████████████████████████| (done) 100%\n",
      "gbm prediction progress: |███████████████████████████████████████████████████████| (done) 100%\n",
      "gbm base-1-1-test-2\n",
      "Parse progress: |████████████████████████████████████████████████████████████████| (done) 100%\n",
      "gbm prediction progress: |███████████████████████████████████████████████████████| (done) 100%\n",
      "gbm base-3-1-test-2\n",
      "Parse progress: |████████████████████████████████████████████████████████████████| (done) 100%\n",
      "gbm prediction progress: |███████████████████████████████████████████████████████| (done) 100%\n",
      "gbm base-0-1-test-2\n",
      "Parse progress: |████████████████████████████████████████████████████████████████| (done) 100%\n",
      "gbm prediction progress: |███████████████████████████████████████████████████████| (done) 100%\n",
      "gbm base-1-1-train-1\n",
      "Parse progress: |████████████████████████████████████████████████████████████████| (done) 100%\n",
      "gbm prediction progress: |███████████████████████████████████████████████████████| (done) 100%\n",
      "gbm base-1-1-test-3\n",
      "Parse progress: |████████████████████████████████████████████████████████████████| (done) 100%\n",
      "gbm prediction progress: |███████████████████████████████████████████████████████| (done) 100%\n",
      "gbm base-1-1-test-1\n",
      "Parse progress: |████████████████████████████████████████████████████████████████| (done) 100%\n",
      "gbm prediction progress: |███████████████████████████████████████████████████████| (done) 100%\n",
      "gbm base-3-1-train-1\n",
      "Parse progress: |████████████████████████████████████████████████████████████████| (done) 100%\n",
      "gbm prediction progress: |███████████████████████████████████████████████████████| (done) 100%\n",
      "gbm base-3-2-test-2\n",
      "Parse progress: |████████████████████████████████████████████████████████████████| (done) 100%\n",
      "gbm prediction progress: |███████████████████████████████████████████████████████| (done) 100%\n",
      "gbm base-0-1-test-3\n",
      "Parse progress: |████████████████████████████████████████████████████████████████| (done) 100%\n",
      "gbm prediction progress: |███████████████████████████████████████████████████████| (done) 100%\n",
      "gbm base-3-1-test-3\n",
      "Parse progress: |████████████████████████████████████████████████████████████████| (done) 100%\n",
      "gbm prediction progress: |███████████████████████████████████████████████████████| (done) 100%\n",
      "gbm base-3-2-train-1\n",
      "Parse progress: |████████████████████████████████████████████████████████████████| (done) 100%\n",
      "gbm prediction progress: |███████████████████████████████████████████████████████| (done) 100%\n",
      "gbm base-3-2-test-3\n",
      "Parse progress: |████████████████████████████████████████████████████████████████| (done) 100%\n",
      "gbm prediction progress: |███████████████████████████████████████████████████████| (done) 100%\n",
      "gbm base-0-1-train-1\n",
      "Parse progress: |████████████████████████████████████████████████████████████████| (done) 100%\n",
      "gbm prediction progress: |███████████████████████████████████████████████████████| (done) 100%\n",
      "gbm base-3-1-test-1\n",
      "Parse progress: |████████████████████████████████████████████████████████████████| (done) 100%\n",
      "gbm prediction progress: |███████████████████████████████████████████████████████| (done) 100%\n",
      "Checking whether there is an H2O instance running at http://localhost:54321 . connected.\n"
     ]
    },
    {
     "data": {
      "text/html": [
       "<div style=\"overflow:auto\"><table style=\"width:50%\"><tr><td>H2O_cluster_uptime:</td>\n",
       "<td>3 hours 13 mins</td></tr>\n",
       "<tr><td>H2O_cluster_timezone:</td>\n",
       "<td>UTC</td></tr>\n",
       "<tr><td>H2O_data_parsing_timezone:</td>\n",
       "<td>UTC</td></tr>\n",
       "<tr><td>H2O_cluster_version:</td>\n",
       "<td>3.34.0.3</td></tr>\n",
       "<tr><td>H2O_cluster_version_age:</td>\n",
       "<td>1 month and 18 days </td></tr>\n",
       "<tr><td>H2O_cluster_name:</td>\n",
       "<td>root</td></tr>\n",
       "<tr><td>H2O_cluster_total_nodes:</td>\n",
       "<td>1</td></tr>\n",
       "<tr><td>H2O_cluster_free_memory:</td>\n",
       "<td>7.008 Gb</td></tr>\n",
       "<tr><td>H2O_cluster_total_cores:</td>\n",
       "<td>22</td></tr>\n",
       "<tr><td>H2O_cluster_allowed_cores:</td>\n",
       "<td>22</td></tr>\n",
       "<tr><td>H2O_cluster_status:</td>\n",
       "<td>locked, healthy</td></tr>\n",
       "<tr><td>H2O_connection_url:</td>\n",
       "<td>http://localhost:54321</td></tr>\n",
       "<tr><td>H2O_connection_proxy:</td>\n",
       "<td>{\"http\": null, \"https\": null}</td></tr>\n",
       "<tr><td>H2O_internal_security:</td>\n",
       "<td>False</td></tr>\n",
       "<tr><td>H2O_API_Extensions:</td>\n",
       "<td>Amazon S3, XGBoost, Algos, AutoML, Core V3, TargetEncoder, Core V4</td></tr>\n",
       "<tr><td>Python_version:</td>\n",
       "<td>3.7.9 final</td></tr></table></div>"
      ],
      "text/plain": [
       "--------------------------  ------------------------------------------------------------------\n",
       "H2O_cluster_uptime:         3 hours 13 mins\n",
       "H2O_cluster_timezone:       UTC\n",
       "H2O_data_parsing_timezone:  UTC\n",
       "H2O_cluster_version:        3.34.0.3\n",
       "H2O_cluster_version_age:    1 month and 18 days\n",
       "H2O_cluster_name:           root\n",
       "H2O_cluster_total_nodes:    1\n",
       "H2O_cluster_free_memory:    7.008 Gb\n",
       "H2O_cluster_total_cores:    22\n",
       "H2O_cluster_allowed_cores:  22\n",
       "H2O_cluster_status:         locked, healthy\n",
       "H2O_connection_url:         http://localhost:54321\n",
       "H2O_connection_proxy:       {\"http\": null, \"https\": null}\n",
       "H2O_internal_security:      False\n",
       "H2O_API_Extensions:         Amazon S3, XGBoost, Algos, AutoML, Core V3, TargetEncoder, Core V4\n",
       "Python_version:             3.7.9 final\n",
       "--------------------------  ------------------------------------------------------------------"
      ]
     },
     "metadata": {},
     "output_type": "display_data"
    },
    {
     "name": "stdout",
     "output_type": "stream",
     "text": [
      "rf base-3-2-test-1\n",
      "Parse progress: |████████████████████████████████████████████████████████████████| (done) 100%\n",
      "drf prediction progress: |███████████████████████████████████████████████████████| (done) 100%\n",
      "rf base-0-1-test-1\n",
      "Parse progress: |████████████████████████████████████████████████████████████████| (done) 100%\n",
      "drf prediction progress: |███████████████████████████████████████████████████████| (done) 100%\n",
      "rf base-1-1-test-2\n",
      "Parse progress: |████████████████████████████████████████████████████████████████| (done) 100%\n",
      "drf prediction progress: |███████████████████████████████████████████████████████| (done) 100%\n",
      "rf base-3-1-test-2\n",
      "Parse progress: |████████████████████████████████████████████████████████████████| (done) 100%\n",
      "drf prediction progress: |███████████████████████████████████████████████████████| (done) 100%\n",
      "rf base-0-1-test-2\n",
      "Parse progress: |████████████████████████████████████████████████████████████████| (done) 100%\n",
      "drf prediction progress: |███████████████████████████████████████████████████████| (done) 100%\n",
      "rf base-1-1-train-1\n",
      "Parse progress: |████████████████████████████████████████████████████████████████| (done) 100%\n",
      "drf prediction progress: |███████████████████████████████████████████████████████| (done) 100%\n",
      "rf base-1-1-test-3\n",
      "Parse progress: |████████████████████████████████████████████████████████████████| (done) 100%\n",
      "drf prediction progress: |███████████████████████████████████████████████████████| (done) 100%\n",
      "rf base-1-1-test-1\n",
      "Parse progress: |████████████████████████████████████████████████████████████████| (done) 100%\n",
      "drf prediction progress: |███████████████████████████████████████████████████████| (done) 100%\n",
      "rf base-3-1-train-1\n",
      "Parse progress: |████████████████████████████████████████████████████████████████| (done) 100%\n",
      "drf prediction progress: |███████████████████████████████████████████████████████| (done) 100%\n",
      "rf base-3-2-test-2\n",
      "Parse progress: |████████████████████████████████████████████████████████████████| (done) 100%\n",
      "drf prediction progress: |███████████████████████████████████████████████████████| (done) 100%\n",
      "rf base-0-1-test-3\n",
      "Parse progress: |████████████████████████████████████████████████████████████████| (done) 100%\n",
      "drf prediction progress: |███████████████████████████████████████████████████████| (done) 100%\n",
      "rf base-3-1-test-3\n",
      "Parse progress: |████████████████████████████████████████████████████████████████| (done) 100%\n",
      "drf prediction progress: |███████████████████████████████████████████████████████| (done) 100%\n",
      "rf base-3-2-train-1\n",
      "Parse progress: |████████████████████████████████████████████████████████████████| (done) 100%\n",
      "drf prediction progress: |███████████████████████████████████████████████████████| (done) 100%\n",
      "rf base-3-2-test-3\n",
      "Parse progress: |████████████████████████████████████████████████████████████████| (done) 100%\n",
      "drf prediction progress: |███████████████████████████████████████████████████████| (done) 100%\n",
      "rf base-0-1-train-1\n",
      "Parse progress: |████████████████████████████████████████████████████████████████| (done) 100%\n",
      "drf prediction progress: |███████████████████████████████████████████████████████| (done) 100%\n",
      "rf base-3-1-test-1\n",
      "Parse progress: |████████████████████████████████████████████████████████████████| (done) 100%\n",
      "drf prediction progress: |███████████████████████████████████████████████████████| (done) 100%\n",
      "Checking whether there is an H2O instance running at http://localhost:54321 . connected.\n"
     ]
    },
    {
     "data": {
      "text/html": [
       "<div style=\"overflow:auto\"><table style=\"width:50%\"><tr><td>H2O_cluster_uptime:</td>\n",
       "<td>3 hours 19 mins</td></tr>\n",
       "<tr><td>H2O_cluster_timezone:</td>\n",
       "<td>UTC</td></tr>\n",
       "<tr><td>H2O_data_parsing_timezone:</td>\n",
       "<td>UTC</td></tr>\n",
       "<tr><td>H2O_cluster_version:</td>\n",
       "<td>3.34.0.3</td></tr>\n",
       "<tr><td>H2O_cluster_version_age:</td>\n",
       "<td>1 month and 18 days </td></tr>\n",
       "<tr><td>H2O_cluster_name:</td>\n",
       "<td>root</td></tr>\n",
       "<tr><td>H2O_cluster_total_nodes:</td>\n",
       "<td>1</td></tr>\n",
       "<tr><td>H2O_cluster_free_memory:</td>\n",
       "<td>6.824 Gb</td></tr>\n",
       "<tr><td>H2O_cluster_total_cores:</td>\n",
       "<td>22</td></tr>\n",
       "<tr><td>H2O_cluster_allowed_cores:</td>\n",
       "<td>22</td></tr>\n",
       "<tr><td>H2O_cluster_status:</td>\n",
       "<td>locked, healthy</td></tr>\n",
       "<tr><td>H2O_connection_url:</td>\n",
       "<td>http://localhost:54321</td></tr>\n",
       "<tr><td>H2O_connection_proxy:</td>\n",
       "<td>{\"http\": null, \"https\": null}</td></tr>\n",
       "<tr><td>H2O_internal_security:</td>\n",
       "<td>False</td></tr>\n",
       "<tr><td>H2O_API_Extensions:</td>\n",
       "<td>Amazon S3, XGBoost, Algos, AutoML, Core V3, TargetEncoder, Core V4</td></tr>\n",
       "<tr><td>Python_version:</td>\n",
       "<td>3.7.9 final</td></tr></table></div>"
      ],
      "text/plain": [
       "--------------------------  ------------------------------------------------------------------\n",
       "H2O_cluster_uptime:         3 hours 19 mins\n",
       "H2O_cluster_timezone:       UTC\n",
       "H2O_data_parsing_timezone:  UTC\n",
       "H2O_cluster_version:        3.34.0.3\n",
       "H2O_cluster_version_age:    1 month and 18 days\n",
       "H2O_cluster_name:           root\n",
       "H2O_cluster_total_nodes:    1\n",
       "H2O_cluster_free_memory:    6.824 Gb\n",
       "H2O_cluster_total_cores:    22\n",
       "H2O_cluster_allowed_cores:  22\n",
       "H2O_cluster_status:         locked, healthy\n",
       "H2O_connection_url:         http://localhost:54321\n",
       "H2O_connection_proxy:       {\"http\": null, \"https\": null}\n",
       "H2O_internal_security:      False\n",
       "H2O_API_Extensions:         Amazon S3, XGBoost, Algos, AutoML, Core V3, TargetEncoder, Core V4\n",
       "Python_version:             3.7.9 final\n",
       "--------------------------  ------------------------------------------------------------------"
      ]
     },
     "metadata": {},
     "output_type": "display_data"
    },
    {
     "name": "stdout",
     "output_type": "stream",
     "text": [
      "bayes base-3-2-test-1\n",
      "Parse progress: |████████████████████████████████████████████████████████████████| (done) 100%\n",
      "naivebayes prediction progress: |████████████████████████████████████████████████| (done) 100%\n",
      "bayes base-0-1-test-1\n",
      "Parse progress: |████████████████████████████████████████████████████████████████| (done) 100%\n",
      "naivebayes prediction progress: |████████████████████████████████████████████████| (done) 100%\n",
      "bayes base-1-1-test-2\n",
      "Parse progress: |████████████████████████████████████████████████████████████████| (done) 100%\n",
      "naivebayes prediction progress: |████████████████████████████████████████████████| (done) 100%\n",
      "bayes base-3-1-test-2\n",
      "Parse progress: |████████████████████████████████████████████████████████████████| (done) 100%\n",
      "naivebayes prediction progress: |████████████████████████████████████████████████| (done) 100%\n",
      "bayes base-0-1-test-2\n",
      "Parse progress: |████████████████████████████████████████████████████████████████| (done) 100%\n",
      "naivebayes prediction progress: |████████████████████████████████████████████████| (done) 100%\n",
      "bayes base-1-1-train-1\n",
      "Parse progress: |████████████████████████████████████████████████████████████████| (done) 100%\n",
      "naivebayes prediction progress: |████████████████████████████████████████████████| (done) 100%\n",
      "bayes base-1-1-test-3\n",
      "Parse progress: |████████████████████████████████████████████████████████████████| (done) 100%\n",
      "naivebayes prediction progress: |████████████████████████████████████████████████| (done) 100%\n",
      "bayes base-1-1-test-1\n",
      "Parse progress: |████████████████████████████████████████████████████████████████| (done) 100%\n",
      "naivebayes prediction progress: |████████████████████████████████████████████████| (done) 100%\n",
      "bayes base-3-1-train-1\n",
      "Parse progress: |████████████████████████████████████████████████████████████████| (done) 100%\n",
      "naivebayes prediction progress: |████████████████████████████████████████████████| (done) 100%\n",
      "bayes base-3-2-test-2\n",
      "Parse progress: |████████████████████████████████████████████████████████████████| (done) 100%\n",
      "naivebayes prediction progress: |████████████████████████████████████████████████| (done) 100%\n",
      "bayes base-0-1-test-3\n",
      "Parse progress: |████████████████████████████████████████████████████████████████| (done) 100%\n",
      "naivebayes prediction progress: |████████████████████████████████████████████████| (done) 100%\n",
      "bayes base-3-1-test-3\n",
      "Parse progress: |████████████████████████████████████████████████████████████████| (done) 100%\n",
      "naivebayes prediction progress: |████████████████████████████████████████████████| (done) 100%\n",
      "bayes base-3-2-train-1\n",
      "Parse progress: |████████████████████████████████████████████████████████████████| (done) 100%\n",
      "naivebayes prediction progress: |████████████████████████████████████████████████| (done) 100%\n",
      "bayes base-3-2-test-3\n",
      "Parse progress: |████████████████████████████████████████████████████████████████| (done) 100%\n",
      "naivebayes prediction progress: |████████████████████████████████████████████████| (done) 100%\n",
      "bayes base-0-1-train-1\n",
      "Parse progress: |████████████████████████████████████████████████████████████████| (done) 100%\n",
      "naivebayes prediction progress: |████████████████████████████████████████████████| (done) 100%\n",
      "bayes base-3-1-test-1\n",
      "Parse progress: |████████████████████████████████████████████████████████████████| (done) 100%\n",
      "naivebayes prediction progress: |████████████████████████████████████████████████| (done) 100%\n",
      "Checking whether there is an H2O instance running at http://localhost:54321 . connected.\n"
     ]
    },
    {
     "data": {
      "text/html": [
       "<div style=\"overflow:auto\"><table style=\"width:50%\"><tr><td>H2O_cluster_uptime:</td>\n",
       "<td>3 hours 25 mins</td></tr>\n",
       "<tr><td>H2O_cluster_timezone:</td>\n",
       "<td>UTC</td></tr>\n",
       "<tr><td>H2O_data_parsing_timezone:</td>\n",
       "<td>UTC</td></tr>\n",
       "<tr><td>H2O_cluster_version:</td>\n",
       "<td>3.34.0.3</td></tr>\n",
       "<tr><td>H2O_cluster_version_age:</td>\n",
       "<td>1 month and 18 days </td></tr>\n",
       "<tr><td>H2O_cluster_name:</td>\n",
       "<td>root</td></tr>\n",
       "<tr><td>H2O_cluster_total_nodes:</td>\n",
       "<td>1</td></tr>\n",
       "<tr><td>H2O_cluster_free_memory:</td>\n",
       "<td>6.646 Gb</td></tr>\n",
       "<tr><td>H2O_cluster_total_cores:</td>\n",
       "<td>22</td></tr>\n",
       "<tr><td>H2O_cluster_allowed_cores:</td>\n",
       "<td>22</td></tr>\n",
       "<tr><td>H2O_cluster_status:</td>\n",
       "<td>locked, healthy</td></tr>\n",
       "<tr><td>H2O_connection_url:</td>\n",
       "<td>http://localhost:54321</td></tr>\n",
       "<tr><td>H2O_connection_proxy:</td>\n",
       "<td>{\"http\": null, \"https\": null}</td></tr>\n",
       "<tr><td>H2O_internal_security:</td>\n",
       "<td>False</td></tr>\n",
       "<tr><td>H2O_API_Extensions:</td>\n",
       "<td>Amazon S3, XGBoost, Algos, AutoML, Core V3, TargetEncoder, Core V4</td></tr>\n",
       "<tr><td>Python_version:</td>\n",
       "<td>3.7.9 final</td></tr></table></div>"
      ],
      "text/plain": [
       "--------------------------  ------------------------------------------------------------------\n",
       "H2O_cluster_uptime:         3 hours 25 mins\n",
       "H2O_cluster_timezone:       UTC\n",
       "H2O_data_parsing_timezone:  UTC\n",
       "H2O_cluster_version:        3.34.0.3\n",
       "H2O_cluster_version_age:    1 month and 18 days\n",
       "H2O_cluster_name:           root\n",
       "H2O_cluster_total_nodes:    1\n",
       "H2O_cluster_free_memory:    6.646 Gb\n",
       "H2O_cluster_total_cores:    22\n",
       "H2O_cluster_allowed_cores:  22\n",
       "H2O_cluster_status:         locked, healthy\n",
       "H2O_connection_url:         http://localhost:54321\n",
       "H2O_connection_proxy:       {\"http\": null, \"https\": null}\n",
       "H2O_internal_security:      False\n",
       "H2O_API_Extensions:         Amazon S3, XGBoost, Algos, AutoML, Core V3, TargetEncoder, Core V4\n",
       "Python_version:             3.7.9 final\n",
       "--------------------------  ------------------------------------------------------------------"
      ]
     },
     "metadata": {},
     "output_type": "display_data"
    },
    {
     "name": "stdout",
     "output_type": "stream",
     "text": [
      "glm base-3-2-test-1\n",
      "Parse progress: |████████████████████████████████████████████████████████████████| (done) 100%\n",
      "glm prediction progress: |███████████████████████████████████████████████████████| (done) 100%\n",
      "glm base-0-1-test-1\n",
      "Parse progress: |████████████████████████████████████████████████████████████████| (done) 100%\n",
      "glm prediction progress: |███████████████████████████████████████████████████████| (done) 100%\n",
      "glm base-1-1-test-2\n",
      "Parse progress: |████████████████████████████████████████████████████████████████| (done) 100%\n",
      "glm prediction progress: |███████████████████████████████████████████████████████| (done) 100%\n",
      "glm base-3-1-test-2\n",
      "Parse progress: |████████████████████████████████████████████████████████████████| (done) 100%\n",
      "glm prediction progress: |███████████████████████████████████████████████████████| (done) 100%\n",
      "glm base-0-1-test-2\n",
      "Parse progress: |████████████████████████████████████████████████████████████████| (done) 100%\n",
      "glm prediction progress: |███████████████████████████████████████████████████████| (done) 100%\n",
      "glm base-1-1-train-1\n",
      "Parse progress: |████████████████████████████████████████████████████████████████| (done) 100%\n",
      "glm prediction progress: |███████████████████████████████████████████████████████| (done) 100%\n",
      "glm base-1-1-test-3\n",
      "Parse progress: |████████████████████████████████████████████████████████████████| (done) 100%\n",
      "glm prediction progress: |███████████████████████████████████████████████████████| (done) 100%\n",
      "glm base-1-1-test-1\n",
      "Parse progress: |████████████████████████████████████████████████████████████████| (done) 100%\n",
      "glm prediction progress: |███████████████████████████████████████████████████████| (done) 100%\n",
      "glm base-3-1-train-1\n",
      "Parse progress: |████████████████████████████████████████████████████████████████| (done) 100%\n",
      "glm prediction progress: |███████████████████████████████████████████████████████| (done) 100%\n",
      "glm base-3-2-test-2\n",
      "Parse progress: |████████████████████████████████████████████████████████████████| (done) 100%\n",
      "glm prediction progress: |███████████████████████████████████████████████████████| (done) 100%\n",
      "glm base-0-1-test-3\n",
      "Parse progress: |████████████████████████████████████████████████████████████████| (done) 100%\n",
      "glm prediction progress: |███████████████████████████████████████████████████████| (done) 100%\n",
      "glm base-3-1-test-3\n",
      "Parse progress: |████████████████████████████████████████████████████████████████| (done) 100%\n",
      "glm prediction progress: |███████████████████████████████████████████████████████| (done) 100%\n",
      "glm base-3-2-train-1\n",
      "Parse progress: |████████████████████████████████████████████████████████████████| (done) 100%\n",
      "glm prediction progress: |███████████████████████████████████████████████████████| (done) 100%\n",
      "glm base-3-2-test-3\n",
      "Parse progress: |████████████████████████████████████████████████████████████████| (done) 100%\n",
      "glm prediction progress: |███████████████████████████████████████████████████████| (done) 100%\n",
      "glm base-0-1-train-1\n",
      "Parse progress: |████████████████████████████████████████████████████████████████| (done) 100%\n",
      "glm prediction progress: |███████████████████████████████████████████████████████| (done) 100%\n",
      "glm base-3-1-test-1\n",
      "Parse progress: |████████████████████████████████████████████████████████████████| (done) 100%\n",
      "glm prediction progress: |███████████████████████████████████████████████████████| (done) 100%\n",
      "svm base-3-2-test-1\n"
     ]
    },
    {
     "name": "stderr",
     "output_type": "stream",
     "text": [
      "[Parallel(n_jobs=16)]: Using backend LokyBackend with 16 concurrent workers.\n",
      "[Parallel(n_jobs=16)]: Done   2 out of  16 | elapsed:   46.1s remaining:  5.4min\n",
      "[Parallel(n_jobs=16)]: Done  16 out of  16 | elapsed:  1.1min finished\n"
     ]
    },
    {
     "name": "stdout",
     "output_type": "stream",
     "text": [
      "svm base-0-1-test-1\n"
     ]
    },
    {
     "name": "stderr",
     "output_type": "stream",
     "text": [
      "[Parallel(n_jobs=16)]: Using backend LokyBackend with 16 concurrent workers.\n",
      "[Parallel(n_jobs=16)]: Done   2 out of  16 | elapsed:   44.0s remaining:  5.1min\n",
      "[Parallel(n_jobs=16)]: Done  16 out of  16 | elapsed:   58.2s finished\n"
     ]
    },
    {
     "name": "stdout",
     "output_type": "stream",
     "text": [
      "svm base-1-1-test-2\n"
     ]
    },
    {
     "name": "stderr",
     "output_type": "stream",
     "text": [
      "[Parallel(n_jobs=16)]: Using backend LokyBackend with 16 concurrent workers.\n",
      "[Parallel(n_jobs=16)]: Done   2 out of  16 | elapsed:  3.7min remaining: 25.9min\n",
      "[Parallel(n_jobs=16)]: Done  16 out of  16 | elapsed:  5.2min finished\n"
     ]
    },
    {
     "name": "stdout",
     "output_type": "stream",
     "text": [
      "svm base-3-1-test-2\n"
     ]
    },
    {
     "name": "stderr",
     "output_type": "stream",
     "text": [
      "[Parallel(n_jobs=16)]: Using backend LokyBackend with 16 concurrent workers.\n",
      "[Parallel(n_jobs=16)]: Done   2 out of  16 | elapsed:  3.9min remaining: 27.0min\n",
      "[Parallel(n_jobs=16)]: Done  16 out of  16 | elapsed:  5.3min finished\n"
     ]
    },
    {
     "name": "stdout",
     "output_type": "stream",
     "text": [
      "svm base-0-1-test-2\n"
     ]
    },
    {
     "name": "stderr",
     "output_type": "stream",
     "text": [
      "[Parallel(n_jobs=16)]: Using backend LokyBackend with 16 concurrent workers.\n",
      "[Parallel(n_jobs=16)]: Done   2 out of  16 | elapsed:  3.6min remaining: 25.0min\n",
      "[Parallel(n_jobs=16)]: Done  16 out of  16 | elapsed:  4.9min finished\n"
     ]
    },
    {
     "name": "stdout",
     "output_type": "stream",
     "text": [
      "svm base-1-1-train-1\n"
     ]
    },
    {
     "name": "stderr",
     "output_type": "stream",
     "text": [
      "[Parallel(n_jobs=16)]: Using backend LokyBackend with 16 concurrent workers.\n",
      "[Parallel(n_jobs=16)]: Done   2 out of  16 | elapsed:  4.1min remaining: 28.5min\n",
      "[Parallel(n_jobs=16)]: Done  16 out of  16 | elapsed:  5.2min finished\n"
     ]
    },
    {
     "name": "stdout",
     "output_type": "stream",
     "text": [
      "svm base-1-1-test-3\n"
     ]
    },
    {
     "name": "stderr",
     "output_type": "stream",
     "text": [
      "[Parallel(n_jobs=16)]: Using backend LokyBackend with 16 concurrent workers.\n",
      "[Parallel(n_jobs=16)]: Done   2 out of  16 | elapsed:  8.2min remaining: 57.1min\n",
      "[Parallel(n_jobs=16)]: Done  16 out of  16 | elapsed: 10.2min finished\n"
     ]
    },
    {
     "name": "stdout",
     "output_type": "stream",
     "text": [
      "svm base-1-1-test-1\n"
     ]
    },
    {
     "name": "stderr",
     "output_type": "stream",
     "text": [
      "[Parallel(n_jobs=16)]: Using backend LokyBackend with 16 concurrent workers.\n",
      "[Parallel(n_jobs=16)]: Done   2 out of  16 | elapsed:   42.0s remaining:  4.9min\n",
      "[Parallel(n_jobs=16)]: Done  16 out of  16 | elapsed:  1.1min finished\n"
     ]
    },
    {
     "name": "stdout",
     "output_type": "stream",
     "text": [
      "svm base-3-1-train-1\n"
     ]
    },
    {
     "name": "stderr",
     "output_type": "stream",
     "text": [
      "[Parallel(n_jobs=16)]: Using backend LokyBackend with 16 concurrent workers.\n",
      "[Parallel(n_jobs=16)]: Done   2 out of  16 | elapsed:  3.8min remaining: 26.7min\n",
      "[Parallel(n_jobs=16)]: Done  16 out of  16 | elapsed:  5.0min finished\n"
     ]
    },
    {
     "name": "stdout",
     "output_type": "stream",
     "text": [
      "svm base-3-2-test-2\n"
     ]
    },
    {
     "name": "stderr",
     "output_type": "stream",
     "text": [
      "[Parallel(n_jobs=16)]: Using backend LokyBackend with 16 concurrent workers.\n",
      "[Parallel(n_jobs=16)]: Done   2 out of  16 | elapsed:  4.1min remaining: 28.5min\n",
      "[Parallel(n_jobs=16)]: Done  16 out of  16 | elapsed:  5.1min finished\n"
     ]
    },
    {
     "name": "stdout",
     "output_type": "stream",
     "text": [
      "svm base-0-1-test-3\n"
     ]
    },
    {
     "name": "stderr",
     "output_type": "stream",
     "text": [
      "[Parallel(n_jobs=16)]: Using backend LokyBackend with 16 concurrent workers.\n",
      "[Parallel(n_jobs=16)]: Done   2 out of  16 | elapsed:  7.4min remaining: 52.0min\n",
      "[Parallel(n_jobs=16)]: Done  16 out of  16 | elapsed:  9.6min finished\n"
     ]
    },
    {
     "name": "stdout",
     "output_type": "stream",
     "text": [
      "svm base-3-1-test-3\n"
     ]
    },
    {
     "name": "stderr",
     "output_type": "stream",
     "text": [
      "[Parallel(n_jobs=16)]: Using backend LokyBackend with 16 concurrent workers.\n",
      "[Parallel(n_jobs=16)]: Done   2 out of  16 | elapsed:  8.9min remaining: 62.6min\n",
      "[Parallel(n_jobs=16)]: Done  16 out of  16 | elapsed: 10.8min finished\n"
     ]
    },
    {
     "name": "stdout",
     "output_type": "stream",
     "text": [
      "svm base-3-2-train-1\n"
     ]
    },
    {
     "name": "stderr",
     "output_type": "stream",
     "text": [
      "[Parallel(n_jobs=16)]: Using backend LokyBackend with 16 concurrent workers.\n",
      "[Parallel(n_jobs=16)]: Done   2 out of  16 | elapsed:  4.4min remaining: 30.7min\n",
      "[Parallel(n_jobs=16)]: Done  16 out of  16 | elapsed:  5.4min finished\n"
     ]
    },
    {
     "name": "stdout",
     "output_type": "stream",
     "text": [
      "svm base-3-2-test-3\n"
     ]
    },
    {
     "name": "stderr",
     "output_type": "stream",
     "text": [
      "[Parallel(n_jobs=16)]: Using backend LokyBackend with 16 concurrent workers.\n",
      "[Parallel(n_jobs=16)]: Done   2 out of  16 | elapsed:  9.2min remaining: 64.5min\n",
      "[Parallel(n_jobs=16)]: Done  16 out of  16 | elapsed: 10.5min finished\n"
     ]
    },
    {
     "name": "stdout",
     "output_type": "stream",
     "text": [
      "svm base-0-1-train-1\n"
     ]
    },
    {
     "name": "stderr",
     "output_type": "stream",
     "text": [
      "[Parallel(n_jobs=16)]: Using backend LokyBackend with 16 concurrent workers.\n",
      "[Parallel(n_jobs=16)]: Done   2 out of  16 | elapsed:  4.6min remaining: 32.0min\n",
      "[Parallel(n_jobs=16)]: Done  16 out of  16 | elapsed:  5.4min finished\n"
     ]
    },
    {
     "name": "stdout",
     "output_type": "stream",
     "text": [
      "svm base-3-1-test-1\n"
     ]
    },
    {
     "name": "stderr",
     "output_type": "stream",
     "text": [
      "[Parallel(n_jobs=16)]: Using backend LokyBackend with 16 concurrent workers.\n",
      "[Parallel(n_jobs=16)]: Done   2 out of  16 | elapsed:   42.4s remaining:  4.9min\n",
      "[Parallel(n_jobs=16)]: Done  16 out of  16 | elapsed:  1.0min finished\n"
     ]
    },
    {
     "name": "stdout",
     "output_type": "stream",
     "text": [
      "Checking whether there is an H2O instance running at http://localhost:54321 . connected.\n"
     ]
    },
    {
     "data": {
      "text/html": [
       "<div style=\"overflow:auto\"><table style=\"width:50%\"><tr><td>H2O_cluster_uptime:</td>\n",
       "<td>4 hours 58 mins</td></tr>\n",
       "<tr><td>H2O_cluster_timezone:</td>\n",
       "<td>UTC</td></tr>\n",
       "<tr><td>H2O_data_parsing_timezone:</td>\n",
       "<td>UTC</td></tr>\n",
       "<tr><td>H2O_cluster_version:</td>\n",
       "<td>3.34.0.3</td></tr>\n",
       "<tr><td>H2O_cluster_version_age:</td>\n",
       "<td>1 month and 18 days </td></tr>\n",
       "<tr><td>H2O_cluster_name:</td>\n",
       "<td>root</td></tr>\n",
       "<tr><td>H2O_cluster_total_nodes:</td>\n",
       "<td>1</td></tr>\n",
       "<tr><td>H2O_cluster_free_memory:</td>\n",
       "<td>6.288 Gb</td></tr>\n",
       "<tr><td>H2O_cluster_total_cores:</td>\n",
       "<td>22</td></tr>\n",
       "<tr><td>H2O_cluster_allowed_cores:</td>\n",
       "<td>22</td></tr>\n",
       "<tr><td>H2O_cluster_status:</td>\n",
       "<td>locked, healthy</td></tr>\n",
       "<tr><td>H2O_connection_url:</td>\n",
       "<td>http://localhost:54321</td></tr>\n",
       "<tr><td>H2O_connection_proxy:</td>\n",
       "<td>{\"http\": null, \"https\": null}</td></tr>\n",
       "<tr><td>H2O_internal_security:</td>\n",
       "<td>False</td></tr>\n",
       "<tr><td>H2O_API_Extensions:</td>\n",
       "<td>Amazon S3, XGBoost, Algos, AutoML, Core V3, TargetEncoder, Core V4</td></tr>\n",
       "<tr><td>Python_version:</td>\n",
       "<td>3.7.9 final</td></tr></table></div>"
      ],
      "text/plain": [
       "--------------------------  ------------------------------------------------------------------\n",
       "H2O_cluster_uptime:         4 hours 58 mins\n",
       "H2O_cluster_timezone:       UTC\n",
       "H2O_data_parsing_timezone:  UTC\n",
       "H2O_cluster_version:        3.34.0.3\n",
       "H2O_cluster_version_age:    1 month and 18 days\n",
       "H2O_cluster_name:           root\n",
       "H2O_cluster_total_nodes:    1\n",
       "H2O_cluster_free_memory:    6.288 Gb\n",
       "H2O_cluster_total_cores:    22\n",
       "H2O_cluster_allowed_cores:  22\n",
       "H2O_cluster_status:         locked, healthy\n",
       "H2O_connection_url:         http://localhost:54321\n",
       "H2O_connection_proxy:       {\"http\": null, \"https\": null}\n",
       "H2O_internal_security:      False\n",
       "H2O_API_Extensions:         Amazon S3, XGBoost, Algos, AutoML, Core V3, TargetEncoder, Core V4\n",
       "Python_version:             3.7.9 final\n",
       "--------------------------  ------------------------------------------------------------------"
      ]
     },
     "metadata": {},
     "output_type": "display_data"
    },
    {
     "name": "stdout",
     "output_type": "stream",
     "text": [
      "xgboost base-3-2-test-1\n",
      "Parse progress: |████████████████████████████████████████████████████████████████| (done) 100%\n",
      "xgboost prediction progress: |███████████████████████████████████████████████████| (done) 100%\n",
      "xgboost base-0-1-test-1\n",
      "Parse progress: |████████████████████████████████████████████████████████████████| (done) 100%\n",
      "xgboost prediction progress: |███████████████████████████████████████████████████| (done) 100%\n",
      "xgboost base-1-1-test-2\n",
      "Parse progress: |████████████████████████████████████████████████████████████████| (done) 100%\n",
      "xgboost prediction progress: |███████████████████████████████████████████████████| (done) 100%\n",
      "xgboost base-3-1-test-2\n",
      "Parse progress: |████████████████████████████████████████████████████████████████| (done) 100%\n",
      "xgboost prediction progress: |███████████████████████████████████████████████████| (done) 100%\n",
      "xgboost base-0-1-test-2\n",
      "Parse progress: |████████████████████████████████████████████████████████████████| (done) 100%\n",
      "xgboost prediction progress: |███████████████████████████████████████████████████| (done) 100%\n",
      "xgboost base-1-1-train-1\n",
      "Parse progress: |████████████████████████████████████████████████████████████████| (done) 100%\n",
      "xgboost prediction progress: |███████████████████████████████████████████████████| (done) 100%\n",
      "xgboost base-1-1-test-3\n",
      "Parse progress: |████████████████████████████████████████████████████████████████| (done) 100%\n",
      "xgboost prediction progress: |███████████████████████████████████████████████████| (done) 100%\n",
      "xgboost base-1-1-test-1\n",
      "Parse progress: |████████████████████████████████████████████████████████████████| (done) 100%\n",
      "xgboost prediction progress: |███████████████████████████████████████████████████| (done) 100%\n",
      "xgboost base-3-1-train-1\n",
      "Parse progress: |████████████████████████████████████████████████████████████████| (done) 100%\n",
      "xgboost prediction progress: |███████████████████████████████████████████████████| (done) 100%\n",
      "xgboost base-3-2-test-2\n",
      "Parse progress: |████████████████████████████████████████████████████████████████| (done) 100%\n",
      "xgboost prediction progress: |███████████████████████████████████████████████████| (done) 100%\n",
      "xgboost base-0-1-test-3\n",
      "Parse progress: |████████████████████████████████████████████████████████████████| (done) 100%\n",
      "xgboost prediction progress: |███████████████████████████████████████████████████| (done) 100%\n",
      "xgboost base-3-1-test-3\n",
      "Parse progress: |████████████████████████████████████████████████████████████████| (done) 100%\n",
      "xgboost prediction progress: |███████████████████████████████████████████████████| (done) 100%\n",
      "xgboost base-3-2-train-1\n",
      "Parse progress: |████████████████████████████████████████████████████████████████| (done) 100%\n",
      "xgboost prediction progress: |███████████████████████████████████████████████████| (done) 100%\n",
      "xgboost base-3-2-test-3\n",
      "Parse progress: |████████████████████████████████████████████████████████████████| (done) 100%\n",
      "xgboost prediction progress: |███████████████████████████████████████████████████| (done) 100%\n",
      "xgboost base-0-1-train-1\n",
      "Parse progress: |████████████████████████████████████████████████████████████████| (done) 100%\n",
      "xgboost prediction progress: |███████████████████████████████████████████████████| (done) 100%\n",
      "xgboost base-3-1-test-1\n",
      "Parse progress: |████████████████████████████████████████████████████████████████| (done) 100%\n",
      "xgboost prediction progress: |███████████████████████████████████████████████████| (done) 100%\n",
      "Checking whether there is an H2O instance running at http://localhost:54321 . connected.\n"
     ]
    },
    {
     "data": {
      "text/html": [
       "<div style=\"overflow:auto\"><table style=\"width:50%\"><tr><td>H2O_cluster_uptime:</td>\n",
       "<td>5 hours 6 mins</td></tr>\n",
       "<tr><td>H2O_cluster_timezone:</td>\n",
       "<td>UTC</td></tr>\n",
       "<tr><td>H2O_data_parsing_timezone:</td>\n",
       "<td>UTC</td></tr>\n",
       "<tr><td>H2O_cluster_version:</td>\n",
       "<td>3.34.0.3</td></tr>\n",
       "<tr><td>H2O_cluster_version_age:</td>\n",
       "<td>1 month and 18 days </td></tr>\n",
       "<tr><td>H2O_cluster_name:</td>\n",
       "<td>root</td></tr>\n",
       "<tr><td>H2O_cluster_total_nodes:</td>\n",
       "<td>1</td></tr>\n",
       "<tr><td>H2O_cluster_free_memory:</td>\n",
       "<td>6.227 Gb</td></tr>\n",
       "<tr><td>H2O_cluster_total_cores:</td>\n",
       "<td>22</td></tr>\n",
       "<tr><td>H2O_cluster_allowed_cores:</td>\n",
       "<td>22</td></tr>\n",
       "<tr><td>H2O_cluster_status:</td>\n",
       "<td>locked, healthy</td></tr>\n",
       "<tr><td>H2O_connection_url:</td>\n",
       "<td>http://localhost:54321</td></tr>\n",
       "<tr><td>H2O_connection_proxy:</td>\n",
       "<td>{\"http\": null, \"https\": null}</td></tr>\n",
       "<tr><td>H2O_internal_security:</td>\n",
       "<td>False</td></tr>\n",
       "<tr><td>H2O_API_Extensions:</td>\n",
       "<td>Amazon S3, XGBoost, Algos, AutoML, Core V3, TargetEncoder, Core V4</td></tr>\n",
       "<tr><td>Python_version:</td>\n",
       "<td>3.7.9 final</td></tr></table></div>"
      ],
      "text/plain": [
       "--------------------------  ------------------------------------------------------------------\n",
       "H2O_cluster_uptime:         5 hours 6 mins\n",
       "H2O_cluster_timezone:       UTC\n",
       "H2O_data_parsing_timezone:  UTC\n",
       "H2O_cluster_version:        3.34.0.3\n",
       "H2O_cluster_version_age:    1 month and 18 days\n",
       "H2O_cluster_name:           root\n",
       "H2O_cluster_total_nodes:    1\n",
       "H2O_cluster_free_memory:    6.227 Gb\n",
       "H2O_cluster_total_cores:    22\n",
       "H2O_cluster_allowed_cores:  22\n",
       "H2O_cluster_status:         locked, healthy\n",
       "H2O_connection_url:         http://localhost:54321\n",
       "H2O_connection_proxy:       {\"http\": null, \"https\": null}\n",
       "H2O_internal_security:      False\n",
       "H2O_API_Extensions:         Amazon S3, XGBoost, Algos, AutoML, Core V3, TargetEncoder, Core V4\n",
       "Python_version:             3.7.9 final\n",
       "--------------------------  ------------------------------------------------------------------"
      ]
     },
     "metadata": {},
     "output_type": "display_data"
    },
    {
     "name": "stdout",
     "output_type": "stream",
     "text": [
      "deeplearn base-3-2-test-1\n",
      "Parse progress: |████████████████████████████████████████████████████████████████| (done) 100%\n",
      "deeplearning prediction progress: |██████████████████████████████████████████████| (done) 100%\n",
      "deeplearn base-0-1-test-1\n",
      "Parse progress: |████████████████████████████████████████████████████████████████| (done) 100%\n",
      "deeplearning prediction progress: |██████████████████████████████████████████████| (done) 100%\n",
      "deeplearn base-1-1-test-2\n",
      "Parse progress: |████████████████████████████████████████████████████████████████| (done) 100%\n",
      "deeplearning prediction progress: |██████████████████████████████████████████████| (done) 100%\n",
      "deeplearn base-3-1-test-2\n",
      "Parse progress: |████████████████████████████████████████████████████████████████| (done) 100%\n",
      "deeplearning prediction progress: |██████████████████████████████████████████████| (done) 100%\n",
      "deeplearn base-0-1-test-2\n",
      "Parse progress: |████████████████████████████████████████████████████████████████| (done) 100%\n",
      "deeplearning prediction progress: |██████████████████████████████████████████████| (done) 100%\n",
      "deeplearn base-1-1-train-1\n",
      "Parse progress: |████████████████████████████████████████████████████████████████| (done) 100%\n",
      "deeplearning prediction progress: |██████████████████████████████████████████████| (done) 100%\n",
      "deeplearn base-1-1-test-3\n",
      "Parse progress: |████████████████████████████████████████████████████████████████| (done) 100%\n",
      "deeplearning prediction progress: |██████████████████████████████████████████████| (done) 100%\n",
      "deeplearn base-1-1-test-1\n",
      "Parse progress: |████████████████████████████████████████████████████████████████| (done) 100%\n",
      "deeplearning prediction progress: |██████████████████████████████████████████████| (done) 100%\n",
      "deeplearn base-3-1-train-1\n",
      "Parse progress: |████████████████████████████████████████████████████████████████| (done) 100%\n",
      "deeplearning prediction progress: |██████████████████████████████████████████████| (done) 100%\n",
      "deeplearn base-3-2-test-2\n",
      "Parse progress: |████████████████████████████████████████████████████████████████| (done) 100%\n",
      "deeplearning prediction progress: |██████████████████████████████████████████████| (done) 100%\n",
      "deeplearn base-0-1-test-3\n",
      "Parse progress: |████████████████████████████████████████████████████████████████| (done) 100%\n",
      "deeplearning prediction progress: |██████████████████████████████████████████████| (done) 100%\n",
      "deeplearn base-3-1-test-3\n",
      "Parse progress: |████████████████████████████████████████████████████████████████| (done) 100%\n",
      "deeplearning prediction progress: |██████████████████████████████████████████████| (done) 100%\n",
      "deeplearn base-3-2-train-1\n",
      "Parse progress: |████████████████████████████████████████████████████████████████| (done) 100%\n",
      "deeplearning prediction progress: |██████████████████████████████████████████████| (done) 100%\n",
      "deeplearn base-3-2-test-3\n",
      "Parse progress: |████████████████████████████████████████████████████████████████| (done) 100%\n",
      "deeplearning prediction progress: |██████████████████████████████████████████████| (done) 100%\n",
      "deeplearn base-0-1-train-1\n",
      "Parse progress: |████████████████████████████████████████████████████████████████| (done) 100%\n",
      "deeplearning prediction progress: |██████████████████████████████████████████████| (done) 100%\n",
      "deeplearn base-3-1-test-1\n",
      "Parse progress: |████████████████████████████████████████████████████████████████| (done) 100%\n",
      "deeplearning prediction progress: |██████████████████████████████████████████████| (done) 100%\n",
      "Checking whether there is an H2O instance running at http://localhost:54321 . connected.\n"
     ]
    },
    {
     "data": {
      "text/html": [
       "<div style=\"overflow:auto\"><table style=\"width:50%\"><tr><td>H2O_cluster_uptime:</td>\n",
       "<td>5 hours 14 mins</td></tr>\n",
       "<tr><td>H2O_cluster_timezone:</td>\n",
       "<td>UTC</td></tr>\n",
       "<tr><td>H2O_data_parsing_timezone:</td>\n",
       "<td>UTC</td></tr>\n",
       "<tr><td>H2O_cluster_version:</td>\n",
       "<td>3.34.0.3</td></tr>\n",
       "<tr><td>H2O_cluster_version_age:</td>\n",
       "<td>1 month and 18 days </td></tr>\n",
       "<tr><td>H2O_cluster_name:</td>\n",
       "<td>root</td></tr>\n",
       "<tr><td>H2O_cluster_total_nodes:</td>\n",
       "<td>1</td></tr>\n",
       "<tr><td>H2O_cluster_free_memory:</td>\n",
       "<td>6.015 Gb</td></tr>\n",
       "<tr><td>H2O_cluster_total_cores:</td>\n",
       "<td>22</td></tr>\n",
       "<tr><td>H2O_cluster_allowed_cores:</td>\n",
       "<td>22</td></tr>\n",
       "<tr><td>H2O_cluster_status:</td>\n",
       "<td>locked, healthy</td></tr>\n",
       "<tr><td>H2O_connection_url:</td>\n",
       "<td>http://localhost:54321</td></tr>\n",
       "<tr><td>H2O_connection_proxy:</td>\n",
       "<td>{\"http\": null, \"https\": null}</td></tr>\n",
       "<tr><td>H2O_internal_security:</td>\n",
       "<td>False</td></tr>\n",
       "<tr><td>H2O_API_Extensions:</td>\n",
       "<td>Amazon S3, XGBoost, Algos, AutoML, Core V3, TargetEncoder, Core V4</td></tr>\n",
       "<tr><td>Python_version:</td>\n",
       "<td>3.7.9 final</td></tr></table></div>"
      ],
      "text/plain": [
       "--------------------------  ------------------------------------------------------------------\n",
       "H2O_cluster_uptime:         5 hours 14 mins\n",
       "H2O_cluster_timezone:       UTC\n",
       "H2O_data_parsing_timezone:  UTC\n",
       "H2O_cluster_version:        3.34.0.3\n",
       "H2O_cluster_version_age:    1 month and 18 days\n",
       "H2O_cluster_name:           root\n",
       "H2O_cluster_total_nodes:    1\n",
       "H2O_cluster_free_memory:    6.015 Gb\n",
       "H2O_cluster_total_cores:    22\n",
       "H2O_cluster_allowed_cores:  22\n",
       "H2O_cluster_status:         locked, healthy\n",
       "H2O_connection_url:         http://localhost:54321\n",
       "H2O_connection_proxy:       {\"http\": null, \"https\": null}\n",
       "H2O_internal_security:      False\n",
       "H2O_API_Extensions:         Amazon S3, XGBoost, Algos, AutoML, Core V3, TargetEncoder, Core V4\n",
       "Python_version:             3.7.9 final\n",
       "--------------------------  ------------------------------------------------------------------"
      ]
     },
     "metadata": {},
     "output_type": "display_data"
    },
    {
     "name": "stdout",
     "output_type": "stream",
     "text": [
      "gbm base-3-2-test-1\n",
      "Parse progress: |████████████████████████████████████████████████████████████████| (done) 100%\n",
      "gbm prediction progress: |███████████████████████████████████████████████████████| (done) 100%\n",
      "gbm base-0-1-test-1\n",
      "Parse progress: |████████████████████████████████████████████████████████████████| (done) 100%\n",
      "gbm prediction progress: |███████████████████████████████████████████████████████| (done) 100%\n",
      "gbm base-1-1-test-2\n",
      "Parse progress: |████████████████████████████████████████████████████████████████| (done) 100%\n",
      "gbm prediction progress: |███████████████████████████████████████████████████████| (done) 100%\n",
      "gbm base-3-1-test-2\n",
      "Parse progress: |████████████████████████████████████████████████████████████████| (done) 100%\n",
      "gbm prediction progress: |███████████████████████████████████████████████████████| (done) 100%\n",
      "gbm base-0-1-test-2\n",
      "Parse progress: |████████████████████████████████████████████████████████████████| (done) 100%\n",
      "gbm prediction progress: |███████████████████████████████████████████████████████| (done) 100%\n",
      "gbm base-1-1-train-1\n",
      "Parse progress: |████████████████████████████████████████████████████████████████| (done) 100%\n",
      "gbm prediction progress: |███████████████████████████████████████████████████████| (done) 100%\n",
      "gbm base-1-1-test-3\n",
      "Parse progress: |████████████████████████████████████████████████████████████████| (done) 100%\n",
      "gbm prediction progress: |███████████████████████████████████████████████████████| (done) 100%\n",
      "gbm base-1-1-test-1\n",
      "Parse progress: |████████████████████████████████████████████████████████████████| (done) 100%\n",
      "gbm prediction progress: |███████████████████████████████████████████████████████| (done) 100%\n",
      "gbm base-3-1-train-1\n",
      "Parse progress: |████████████████████████████████████████████████████████████████| (done) 100%\n",
      "gbm prediction progress: |███████████████████████████████████████████████████████| (done) 100%\n",
      "gbm base-3-2-test-2\n",
      "Parse progress: |████████████████████████████████████████████████████████████████| (done) 100%\n",
      "gbm prediction progress: |███████████████████████████████████████████████████████| (done) 100%\n",
      "gbm base-0-1-test-3\n",
      "Parse progress: |████████████████████████████████████████████████████████████████| (done) 100%\n",
      "gbm prediction progress: |███████████████████████████████████████████████████████| (done) 100%\n",
      "gbm base-3-1-test-3\n",
      "Parse progress: |████████████████████████████████████████████████████████████████| (done) 100%\n",
      "gbm prediction progress: |███████████████████████████████████████████████████████| (done) 100%\n",
      "gbm base-3-2-train-1\n",
      "Parse progress: |████████████████████████████████████████████████████████████████| (done) 100%\n",
      "gbm prediction progress: |███████████████████████████████████████████████████████| (done) 100%\n",
      "gbm base-3-2-test-3\n",
      "Parse progress: |████████████████████████████████████████████████████████████████| (done) 100%\n",
      "gbm prediction progress: |███████████████████████████████████████████████████████| (done) 100%\n",
      "gbm base-0-1-train-1\n",
      "Parse progress: |████████████████████████████████████████████████████████████████| (done) 100%\n",
      "gbm prediction progress: |███████████████████████████████████████████████████████| (done) 100%\n",
      "gbm base-3-1-test-1\n",
      "Parse progress: |████████████████████████████████████████████████████████████████| (done) 100%\n",
      "gbm prediction progress: |███████████████████████████████████████████████████████| (done) 100%\n",
      "Checking whether there is an H2O instance running at http://localhost:54321 . connected.\n"
     ]
    },
    {
     "data": {
      "text/html": [
       "<div style=\"overflow:auto\"><table style=\"width:50%\"><tr><td>H2O_cluster_uptime:</td>\n",
       "<td>5 hours 18 mins</td></tr>\n",
       "<tr><td>H2O_cluster_timezone:</td>\n",
       "<td>UTC</td></tr>\n",
       "<tr><td>H2O_data_parsing_timezone:</td>\n",
       "<td>UTC</td></tr>\n",
       "<tr><td>H2O_cluster_version:</td>\n",
       "<td>3.34.0.3</td></tr>\n",
       "<tr><td>H2O_cluster_version_age:</td>\n",
       "<td>1 month and 18 days </td></tr>\n",
       "<tr><td>H2O_cluster_name:</td>\n",
       "<td>root</td></tr>\n",
       "<tr><td>H2O_cluster_total_nodes:</td>\n",
       "<td>1</td></tr>\n",
       "<tr><td>H2O_cluster_free_memory:</td>\n",
       "<td>5.837 Gb</td></tr>\n",
       "<tr><td>H2O_cluster_total_cores:</td>\n",
       "<td>22</td></tr>\n",
       "<tr><td>H2O_cluster_allowed_cores:</td>\n",
       "<td>22</td></tr>\n",
       "<tr><td>H2O_cluster_status:</td>\n",
       "<td>locked, healthy</td></tr>\n",
       "<tr><td>H2O_connection_url:</td>\n",
       "<td>http://localhost:54321</td></tr>\n",
       "<tr><td>H2O_connection_proxy:</td>\n",
       "<td>{\"http\": null, \"https\": null}</td></tr>\n",
       "<tr><td>H2O_internal_security:</td>\n",
       "<td>False</td></tr>\n",
       "<tr><td>H2O_API_Extensions:</td>\n",
       "<td>Amazon S3, XGBoost, Algos, AutoML, Core V3, TargetEncoder, Core V4</td></tr>\n",
       "<tr><td>Python_version:</td>\n",
       "<td>3.7.9 final</td></tr></table></div>"
      ],
      "text/plain": [
       "--------------------------  ------------------------------------------------------------------\n",
       "H2O_cluster_uptime:         5 hours 18 mins\n",
       "H2O_cluster_timezone:       UTC\n",
       "H2O_data_parsing_timezone:  UTC\n",
       "H2O_cluster_version:        3.34.0.3\n",
       "H2O_cluster_version_age:    1 month and 18 days\n",
       "H2O_cluster_name:           root\n",
       "H2O_cluster_total_nodes:    1\n",
       "H2O_cluster_free_memory:    5.837 Gb\n",
       "H2O_cluster_total_cores:    22\n",
       "H2O_cluster_allowed_cores:  22\n",
       "H2O_cluster_status:         locked, healthy\n",
       "H2O_connection_url:         http://localhost:54321\n",
       "H2O_connection_proxy:       {\"http\": null, \"https\": null}\n",
       "H2O_internal_security:      False\n",
       "H2O_API_Extensions:         Amazon S3, XGBoost, Algos, AutoML, Core V3, TargetEncoder, Core V4\n",
       "Python_version:             3.7.9 final\n",
       "--------------------------  ------------------------------------------------------------------"
      ]
     },
     "metadata": {},
     "output_type": "display_data"
    },
    {
     "name": "stdout",
     "output_type": "stream",
     "text": [
      "rf base-3-2-test-1\n",
      "Parse progress: |████████████████████████████████████████████████████████████████| (done) 100%\n",
      "drf prediction progress: |███████████████████████████████████████████████████████| (done) 100%\n",
      "rf base-0-1-test-1\n",
      "Parse progress: |████████████████████████████████████████████████████████████████| (done) 100%\n",
      "drf prediction progress: |███████████████████████████████████████████████████████| (done) 100%\n",
      "rf base-1-1-test-2\n",
      "Parse progress: |████████████████████████████████████████████████████████████████| (done) 100%\n",
      "drf prediction progress: |███████████████████████████████████████████████████████| (done) 100%\n",
      "rf base-3-1-test-2\n",
      "Parse progress: |████████████████████████████████████████████████████████████████| (done) 100%\n",
      "drf prediction progress: |███████████████████████████████████████████████████████| (done) 100%\n",
      "rf base-0-1-test-2\n",
      "Parse progress: |████████████████████████████████████████████████████████████████| (done) 100%\n",
      "drf prediction progress: |███████████████████████████████████████████████████████| (done) 100%\n",
      "rf base-1-1-train-1\n",
      "Parse progress: |████████████████████████████████████████████████████████████████| (done) 100%\n",
      "drf prediction progress: |███████████████████████████████████████████████████████| (done) 100%\n",
      "rf base-1-1-test-3\n",
      "Parse progress: |████████████████████████████████████████████████████████████████| (done) 100%\n",
      "drf prediction progress: |███████████████████████████████████████████████████████| (done) 100%\n",
      "rf base-1-1-test-1\n",
      "Parse progress: |████████████████████████████████████████████████████████████████| (done) 100%\n",
      "drf prediction progress: |███████████████████████████████████████████████████████| (done) 100%\n",
      "rf base-3-1-train-1\n",
      "Parse progress: |████████████████████████████████████████████████████████████████| (done) 100%\n",
      "drf prediction progress: |███████████████████████████████████████████████████████| (done) 100%\n",
      "rf base-3-2-test-2\n",
      "Parse progress: |████████████████████████████████████████████████████████████████| (done) 100%\n",
      "drf prediction progress: |███████████████████████████████████████████████████████| (done) 100%\n",
      "rf base-0-1-test-3\n",
      "Parse progress: |████████████████████████████████████████████████████████████████| (done) 100%\n",
      "drf prediction progress: |███████████████████████████████████████████████████████| (done) 100%\n",
      "rf base-3-1-test-3\n",
      "Parse progress: |████████████████████████████████████████████████████████████████| (done) 100%\n",
      "drf prediction progress: |███████████████████████████████████████████████████████| (done) 100%\n",
      "rf base-3-2-train-1\n",
      "Parse progress: |████████████████████████████████████████████████████████████████| (done) 100%\n",
      "drf prediction progress: |███████████████████████████████████████████████████████| (done) 100%\n",
      "rf base-3-2-test-3\n",
      "Parse progress: |████████████████████████████████████████████████████████████████| (done) 100%\n",
      "drf prediction progress: |███████████████████████████████████████████████████████| (done) 100%\n",
      "rf base-0-1-train-1\n",
      "Parse progress: |████████████████████████████████████████████████████████████████| (done) 100%\n",
      "drf prediction progress: |███████████████████████████████████████████████████████| (done) 100%\n",
      "rf base-3-1-test-1\n",
      "Parse progress: |████████████████████████████████████████████████████████████████| (done) 100%\n",
      "drf prediction progress: |███████████████████████████████████████████████████████| (done) 100%\n",
      "Checking whether there is an H2O instance running at http://localhost:54321 . connected.\n"
     ]
    },
    {
     "data": {
      "text/html": [
       "<div style=\"overflow:auto\"><table style=\"width:50%\"><tr><td>H2O_cluster_uptime:</td>\n",
       "<td>5 hours 23 mins</td></tr>\n",
       "<tr><td>H2O_cluster_timezone:</td>\n",
       "<td>UTC</td></tr>\n",
       "<tr><td>H2O_data_parsing_timezone:</td>\n",
       "<td>UTC</td></tr>\n",
       "<tr><td>H2O_cluster_version:</td>\n",
       "<td>3.34.0.3</td></tr>\n",
       "<tr><td>H2O_cluster_version_age:</td>\n",
       "<td>1 month and 18 days </td></tr>\n",
       "<tr><td>H2O_cluster_name:</td>\n",
       "<td>root</td></tr>\n",
       "<tr><td>H2O_cluster_total_nodes:</td>\n",
       "<td>1</td></tr>\n",
       "<tr><td>H2O_cluster_free_memory:</td>\n",
       "<td>5.619 Gb</td></tr>\n",
       "<tr><td>H2O_cluster_total_cores:</td>\n",
       "<td>22</td></tr>\n",
       "<tr><td>H2O_cluster_allowed_cores:</td>\n",
       "<td>22</td></tr>\n",
       "<tr><td>H2O_cluster_status:</td>\n",
       "<td>locked, healthy</td></tr>\n",
       "<tr><td>H2O_connection_url:</td>\n",
       "<td>http://localhost:54321</td></tr>\n",
       "<tr><td>H2O_connection_proxy:</td>\n",
       "<td>{\"http\": null, \"https\": null}</td></tr>\n",
       "<tr><td>H2O_internal_security:</td>\n",
       "<td>False</td></tr>\n",
       "<tr><td>H2O_API_Extensions:</td>\n",
       "<td>Amazon S3, XGBoost, Algos, AutoML, Core V3, TargetEncoder, Core V4</td></tr>\n",
       "<tr><td>Python_version:</td>\n",
       "<td>3.7.9 final</td></tr></table></div>"
      ],
      "text/plain": [
       "--------------------------  ------------------------------------------------------------------\n",
       "H2O_cluster_uptime:         5 hours 23 mins\n",
       "H2O_cluster_timezone:       UTC\n",
       "H2O_data_parsing_timezone:  UTC\n",
       "H2O_cluster_version:        3.34.0.3\n",
       "H2O_cluster_version_age:    1 month and 18 days\n",
       "H2O_cluster_name:           root\n",
       "H2O_cluster_total_nodes:    1\n",
       "H2O_cluster_free_memory:    5.619 Gb\n",
       "H2O_cluster_total_cores:    22\n",
       "H2O_cluster_allowed_cores:  22\n",
       "H2O_cluster_status:         locked, healthy\n",
       "H2O_connection_url:         http://localhost:54321\n",
       "H2O_connection_proxy:       {\"http\": null, \"https\": null}\n",
       "H2O_internal_security:      False\n",
       "H2O_API_Extensions:         Amazon S3, XGBoost, Algos, AutoML, Core V3, TargetEncoder, Core V4\n",
       "Python_version:             3.7.9 final\n",
       "--------------------------  ------------------------------------------------------------------"
      ]
     },
     "metadata": {},
     "output_type": "display_data"
    },
    {
     "name": "stdout",
     "output_type": "stream",
     "text": [
      "bayes base-3-2-test-1\n",
      "Parse progress: |████████████████████████████████████████████████████████████████| (done) 100%\n",
      "naivebayes prediction progress: |████████████████████████████████████████████████| (done) 100%\n",
      "bayes base-0-1-test-1\n",
      "Parse progress: |████████████████████████████████████████████████████████████████| (done) 100%\n",
      "naivebayes prediction progress: |████████████████████████████████████████████████| (done) 100%\n",
      "bayes base-1-1-test-2\n",
      "Parse progress: |████████████████████████████████████████████████████████████████| (done) 100%\n",
      "naivebayes prediction progress: |████████████████████████████████████████████████| (done) 100%\n",
      "bayes base-3-1-test-2\n",
      "Parse progress: |████████████████████████████████████████████████████████████████| (done) 100%\n",
      "naivebayes prediction progress: |████████████████████████████████████████████████| (done) 100%\n",
      "bayes base-0-1-test-2\n",
      "Parse progress: |████████████████████████████████████████████████████████████████| (done) 100%\n",
      "naivebayes prediction progress: |████████████████████████████████████████████████| (done) 100%\n",
      "bayes base-1-1-train-1\n",
      "Parse progress: |████████████████████████████████████████████████████████████████| (done) 100%\n",
      "naivebayes prediction progress: |████████████████████████████████████████████████| (done) 100%\n",
      "bayes base-1-1-test-3\n",
      "Parse progress: |████████████████████████████████████████████████████████████████| (done) 100%\n",
      "naivebayes prediction progress: |████████████████████████████████████████████████| (done) 100%\n",
      "bayes base-1-1-test-1\n",
      "Parse progress: |████████████████████████████████████████████████████████████████| (done) 100%\n",
      "naivebayes prediction progress: |████████████████████████████████████████████████| (done) 100%\n",
      "bayes base-3-1-train-1\n",
      "Parse progress: |████████████████████████████████████████████████████████████████| (done) 100%\n",
      "naivebayes prediction progress: |████████████████████████████████████████████████| (done) 100%\n",
      "bayes base-3-2-test-2\n",
      "Parse progress: |████████████████████████████████████████████████████████████████| (done) 100%\n",
      "naivebayes prediction progress: |████████████████████████████████████████████████| (done) 100%\n",
      "bayes base-0-1-test-3\n",
      "Parse progress: |████████████████████████████████████████████████████████████████| (done) 100%\n",
      "naivebayes prediction progress: |████████████████████████████████████████████████| (done) 100%\n",
      "bayes base-3-1-test-3\n",
      "Parse progress: |████████████████████████████████████████████████████████████████| (done) 100%\n",
      "naivebayes prediction progress: |████████████████████████████████████████████████| (done) 100%\n",
      "bayes base-3-2-train-1\n",
      "Parse progress: |████████████████████████████████████████████████████████████████| (done) 100%\n",
      "naivebayes prediction progress: |████████████████████████████████████████████████| (done) 100%\n",
      "bayes base-3-2-test-3\n",
      "Parse progress: |████████████████████████████████████████████████████████████████| (done) 100%\n",
      "naivebayes prediction progress: |████████████████████████████████████████████████| (done) 100%\n",
      "bayes base-0-1-train-1\n",
      "Parse progress: |████████████████████████████████████████████████████████████████| (done) 100%\n",
      "naivebayes prediction progress: |████████████████████████████████████████████████| (done) 100%\n",
      "bayes base-3-1-test-1\n",
      "Parse progress: |████████████████████████████████████████████████████████████████| (done) 100%\n",
      "naivebayes prediction progress: |████████████████████████████████████████████████| (done) 100%\n",
      "Checking whether there is an H2O instance running at http://localhost:54321 . connected.\n"
     ]
    },
    {
     "data": {
      "text/html": [
       "<div style=\"overflow:auto\"><table style=\"width:50%\"><tr><td>H2O_cluster_uptime:</td>\n",
       "<td>5 hours 28 mins</td></tr>\n",
       "<tr><td>H2O_cluster_timezone:</td>\n",
       "<td>UTC</td></tr>\n",
       "<tr><td>H2O_data_parsing_timezone:</td>\n",
       "<td>UTC</td></tr>\n",
       "<tr><td>H2O_cluster_version:</td>\n",
       "<td>3.34.0.3</td></tr>\n",
       "<tr><td>H2O_cluster_version_age:</td>\n",
       "<td>1 month and 18 days </td></tr>\n",
       "<tr><td>H2O_cluster_name:</td>\n",
       "<td>root</td></tr>\n",
       "<tr><td>H2O_cluster_total_nodes:</td>\n",
       "<td>1</td></tr>\n",
       "<tr><td>H2O_cluster_free_memory:</td>\n",
       "<td>5.421 Gb</td></tr>\n",
       "<tr><td>H2O_cluster_total_cores:</td>\n",
       "<td>22</td></tr>\n",
       "<tr><td>H2O_cluster_allowed_cores:</td>\n",
       "<td>22</td></tr>\n",
       "<tr><td>H2O_cluster_status:</td>\n",
       "<td>locked, healthy</td></tr>\n",
       "<tr><td>H2O_connection_url:</td>\n",
       "<td>http://localhost:54321</td></tr>\n",
       "<tr><td>H2O_connection_proxy:</td>\n",
       "<td>{\"http\": null, \"https\": null}</td></tr>\n",
       "<tr><td>H2O_internal_security:</td>\n",
       "<td>False</td></tr>\n",
       "<tr><td>H2O_API_Extensions:</td>\n",
       "<td>Amazon S3, XGBoost, Algos, AutoML, Core V3, TargetEncoder, Core V4</td></tr>\n",
       "<tr><td>Python_version:</td>\n",
       "<td>3.7.9 final</td></tr></table></div>"
      ],
      "text/plain": [
       "--------------------------  ------------------------------------------------------------------\n",
       "H2O_cluster_uptime:         5 hours 28 mins\n",
       "H2O_cluster_timezone:       UTC\n",
       "H2O_data_parsing_timezone:  UTC\n",
       "H2O_cluster_version:        3.34.0.3\n",
       "H2O_cluster_version_age:    1 month and 18 days\n",
       "H2O_cluster_name:           root\n",
       "H2O_cluster_total_nodes:    1\n",
       "H2O_cluster_free_memory:    5.421 Gb\n",
       "H2O_cluster_total_cores:    22\n",
       "H2O_cluster_allowed_cores:  22\n",
       "H2O_cluster_status:         locked, healthy\n",
       "H2O_connection_url:         http://localhost:54321\n",
       "H2O_connection_proxy:       {\"http\": null, \"https\": null}\n",
       "H2O_internal_security:      False\n",
       "H2O_API_Extensions:         Amazon S3, XGBoost, Algos, AutoML, Core V3, TargetEncoder, Core V4\n",
       "Python_version:             3.7.9 final\n",
       "--------------------------  ------------------------------------------------------------------"
      ]
     },
     "metadata": {},
     "output_type": "display_data"
    },
    {
     "name": "stdout",
     "output_type": "stream",
     "text": [
      "glm base-3-2-test-1\n",
      "Parse progress: |████████████████████████████████████████████████████████████████| (done) 100%\n",
      "glm prediction progress: |███████████████████████████████████████████████████████| (done) 100%\n",
      "glm base-0-1-test-1\n",
      "Parse progress: |████████████████████████████████████████████████████████████████| (done) 100%\n",
      "glm prediction progress: |███████████████████████████████████████████████████████| (done) 100%\n",
      "glm base-1-1-test-2\n",
      "Parse progress: |████████████████████████████████████████████████████████████████| (done) 100%\n",
      "glm prediction progress: |███████████████████████████████████████████████████████| (done) 100%\n",
      "glm base-3-1-test-2\n",
      "Parse progress: |████████████████████████████████████████████████████████████████| (done) 100%\n",
      "glm prediction progress: |███████████████████████████████████████████████████████| (done) 100%\n",
      "glm base-0-1-test-2\n",
      "Parse progress: |████████████████████████████████████████████████████████████████| (done) 100%\n",
      "glm prediction progress: |███████████████████████████████████████████████████████| (done) 100%\n",
      "glm base-1-1-train-1\n",
      "Parse progress: |████████████████████████████████████████████████████████████████| (done) 100%\n",
      "glm prediction progress: |███████████████████████████████████████████████████████| (done) 100%\n",
      "glm base-1-1-test-3\n",
      "Parse progress: |████████████████████████████████████████████████████████████████| (done) 100%\n",
      "glm prediction progress: |███████████████████████████████████████████████████████| (done) 100%\n",
      "glm base-1-1-test-1\n",
      "Parse progress: |████████████████████████████████████████████████████████████████| (done) 100%\n",
      "glm prediction progress: |███████████████████████████████████████████████████████| (done) 100%\n",
      "glm base-3-1-train-1\n",
      "Parse progress: |████████████████████████████████████████████████████████████████| (done) 100%\n",
      "glm prediction progress: |███████████████████████████████████████████████████████| (done) 100%\n",
      "glm base-3-2-test-2\n",
      "Parse progress: |████████████████████████████████████████████████████████████████| (done) 100%\n",
      "glm prediction progress: |███████████████████████████████████████████████████████| (done) 100%\n",
      "glm base-0-1-test-3\n",
      "Parse progress: |████████████████████████████████████████████████████████████████| (done) 100%\n",
      "glm prediction progress: |███████████████████████████████████████████████████████| (done) 100%\n",
      "glm base-3-1-test-3\n",
      "Parse progress: |████████████████████████████████████████████████████████████████| (done) 100%\n",
      "glm prediction progress: |███████████████████████████████████████████████████████| (done) 100%\n",
      "glm base-3-2-train-1\n",
      "Parse progress: |████████████████████████████████████████████████████████████████| (done) 100%\n",
      "glm prediction progress: |███████████████████████████████████████████████████████| (done) 100%\n",
      "glm base-3-2-test-3\n",
      "Parse progress: |████████████████████████████████████████████████████████████████| (done) 100%\n",
      "glm prediction progress: |███████████████████████████████████████████████████████| (done) 100%\n",
      "glm base-0-1-train-1\n",
      "Parse progress: |████████████████████████████████████████████████████████████████| (done) 100%\n",
      "glm prediction progress: |███████████████████████████████████████████████████████| (done) 100%\n",
      "glm base-3-1-test-1\n",
      "Parse progress: |████████████████████████████████████████████████████████████████| (done) 100%\n",
      "glm prediction progress: |███████████████████████████████████████████████████████| (done) 100%\n",
      "svm base-3-2-test-1\n"
     ]
    },
    {
     "name": "stderr",
     "output_type": "stream",
     "text": [
      "[Parallel(n_jobs=16)]: Using backend LokyBackend with 16 concurrent workers.\n",
      "[Parallel(n_jobs=16)]: Done   2 out of  16 | elapsed:   55.1s remaining:  6.4min\n",
      "[Parallel(n_jobs=16)]: Done  16 out of  16 | elapsed:  1.2min finished\n"
     ]
    },
    {
     "name": "stdout",
     "output_type": "stream",
     "text": [
      "svm base-0-1-test-1\n"
     ]
    },
    {
     "name": "stderr",
     "output_type": "stream",
     "text": [
      "[Parallel(n_jobs=16)]: Using backend LokyBackend with 16 concurrent workers.\n",
      "[Parallel(n_jobs=16)]: Done   2 out of  16 | elapsed:   43.4s remaining:  5.1min\n",
      "[Parallel(n_jobs=16)]: Done  16 out of  16 | elapsed:  1.0min finished\n"
     ]
    },
    {
     "name": "stdout",
     "output_type": "stream",
     "text": [
      "svm base-1-1-test-2\n"
     ]
    },
    {
     "name": "stderr",
     "output_type": "stream",
     "text": [
      "[Parallel(n_jobs=16)]: Using backend LokyBackend with 16 concurrent workers.\n",
      "[Parallel(n_jobs=16)]: Done   2 out of  16 | elapsed:  4.3min remaining: 30.1min\n",
      "[Parallel(n_jobs=16)]: Done  16 out of  16 | elapsed:  5.4min finished\n"
     ]
    },
    {
     "name": "stdout",
     "output_type": "stream",
     "text": [
      "svm base-3-1-test-2\n"
     ]
    },
    {
     "name": "stderr",
     "output_type": "stream",
     "text": [
      "[Parallel(n_jobs=16)]: Using backend LokyBackend with 16 concurrent workers.\n",
      "[Parallel(n_jobs=16)]: Done   2 out of  16 | elapsed:  4.1min remaining: 28.7min\n",
      "[Parallel(n_jobs=16)]: Done  16 out of  16 | elapsed:  5.3min finished\n"
     ]
    },
    {
     "name": "stdout",
     "output_type": "stream",
     "text": [
      "svm base-0-1-test-2\n"
     ]
    },
    {
     "name": "stderr",
     "output_type": "stream",
     "text": [
      "[Parallel(n_jobs=16)]: Using backend LokyBackend with 16 concurrent workers.\n",
      "[Parallel(n_jobs=16)]: Done   2 out of  16 | elapsed:  3.8min remaining: 26.3min\n",
      "[Parallel(n_jobs=16)]: Done  16 out of  16 | elapsed:  4.9min finished\n"
     ]
    },
    {
     "name": "stdout",
     "output_type": "stream",
     "text": [
      "svm base-1-1-train-1\n"
     ]
    },
    {
     "name": "stderr",
     "output_type": "stream",
     "text": [
      "[Parallel(n_jobs=16)]: Using backend LokyBackend with 16 concurrent workers.\n",
      "[Parallel(n_jobs=16)]: Done   2 out of  16 | elapsed:  4.5min remaining: 31.5min\n",
      "[Parallel(n_jobs=16)]: Done  16 out of  16 | elapsed:  5.2min finished\n"
     ]
    },
    {
     "name": "stdout",
     "output_type": "stream",
     "text": [
      "svm base-1-1-test-3\n"
     ]
    },
    {
     "name": "stderr",
     "output_type": "stream",
     "text": [
      "[Parallel(n_jobs=16)]: Using backend LokyBackend with 16 concurrent workers.\n",
      "[Parallel(n_jobs=16)]: Done   2 out of  16 | elapsed:  9.7min remaining: 67.8min\n",
      "[Parallel(n_jobs=16)]: Done  16 out of  16 | elapsed: 11.2min finished\n"
     ]
    },
    {
     "name": "stdout",
     "output_type": "stream",
     "text": [
      "svm base-1-1-test-1\n"
     ]
    },
    {
     "name": "stderr",
     "output_type": "stream",
     "text": [
      "[Parallel(n_jobs=16)]: Using backend LokyBackend with 16 concurrent workers.\n",
      "[Parallel(n_jobs=16)]: Done   2 out of  16 | elapsed:   49.6s remaining:  5.8min\n",
      "[Parallel(n_jobs=16)]: Done  16 out of  16 | elapsed:  1.1min finished\n"
     ]
    },
    {
     "name": "stdout",
     "output_type": "stream",
     "text": [
      "svm base-3-1-train-1\n"
     ]
    },
    {
     "name": "stderr",
     "output_type": "stream",
     "text": [
      "[Parallel(n_jobs=16)]: Using backend LokyBackend with 16 concurrent workers.\n",
      "[Parallel(n_jobs=16)]: Done   2 out of  16 | elapsed:  4.3min remaining: 30.3min\n",
      "[Parallel(n_jobs=16)]: Done  16 out of  16 | elapsed:  5.3min finished\n"
     ]
    },
    {
     "name": "stdout",
     "output_type": "stream",
     "text": [
      "svm base-3-2-test-2\n"
     ]
    },
    {
     "name": "stderr",
     "output_type": "stream",
     "text": [
      "[Parallel(n_jobs=16)]: Using backend LokyBackend with 16 concurrent workers.\n",
      "[Parallel(n_jobs=16)]: Done   2 out of  16 | elapsed:  5.0min remaining: 34.8min\n",
      "[Parallel(n_jobs=16)]: Done  16 out of  16 | elapsed:  6.2min finished\n"
     ]
    },
    {
     "name": "stdout",
     "output_type": "stream",
     "text": [
      "svm base-0-1-test-3\n"
     ]
    },
    {
     "name": "stderr",
     "output_type": "stream",
     "text": [
      "[Parallel(n_jobs=16)]: Using backend LokyBackend with 16 concurrent workers.\n",
      "[Parallel(n_jobs=16)]: Done   2 out of  16 | elapsed:  9.1min remaining: 63.5min\n",
      "[Parallel(n_jobs=16)]: Done  16 out of  16 | elapsed: 10.6min finished\n"
     ]
    },
    {
     "name": "stdout",
     "output_type": "stream",
     "text": [
      "svm base-3-1-test-3\n"
     ]
    },
    {
     "name": "stderr",
     "output_type": "stream",
     "text": [
      "[Parallel(n_jobs=16)]: Using backend LokyBackend with 16 concurrent workers.\n",
      "[Parallel(n_jobs=16)]: Done   2 out of  16 | elapsed:  8.8min remaining: 61.9min\n",
      "[Parallel(n_jobs=16)]: Done  16 out of  16 | elapsed: 10.6min finished\n"
     ]
    },
    {
     "name": "stdout",
     "output_type": "stream",
     "text": [
      "svm base-3-2-train-1\n"
     ]
    },
    {
     "name": "stderr",
     "output_type": "stream",
     "text": [
      "[Parallel(n_jobs=16)]: Using backend LokyBackend with 16 concurrent workers.\n",
      "[Parallel(n_jobs=16)]: Done   2 out of  16 | elapsed:  4.3min remaining: 30.2min\n",
      "[Parallel(n_jobs=16)]: Done  16 out of  16 | elapsed:  5.2min finished\n"
     ]
    },
    {
     "name": "stdout",
     "output_type": "stream",
     "text": [
      "svm base-3-2-test-3\n"
     ]
    },
    {
     "name": "stderr",
     "output_type": "stream",
     "text": [
      "[Parallel(n_jobs=16)]: Using backend LokyBackend with 16 concurrent workers.\n",
      "[Parallel(n_jobs=16)]: Done   2 out of  16 | elapsed:  8.3min remaining: 57.9min\n",
      "[Parallel(n_jobs=16)]: Done  16 out of  16 | elapsed: 10.5min finished\n"
     ]
    },
    {
     "name": "stdout",
     "output_type": "stream",
     "text": [
      "svm base-0-1-train-1\n"
     ]
    },
    {
     "name": "stderr",
     "output_type": "stream",
     "text": [
      "[Parallel(n_jobs=16)]: Using backend LokyBackend with 16 concurrent workers.\n",
      "[Parallel(n_jobs=16)]: Done   2 out of  16 | elapsed:  4.0min remaining: 27.7min\n",
      "[Parallel(n_jobs=16)]: Done  16 out of  16 | elapsed:  4.9min finished\n"
     ]
    },
    {
     "name": "stdout",
     "output_type": "stream",
     "text": [
      "svm base-3-1-test-1\n"
     ]
    },
    {
     "name": "stderr",
     "output_type": "stream",
     "text": [
      "[Parallel(n_jobs=16)]: Using backend LokyBackend with 16 concurrent workers.\n",
      "[Parallel(n_jobs=16)]: Done   2 out of  16 | elapsed:   43.3s remaining:  5.1min\n",
      "[Parallel(n_jobs=16)]: Done  16 out of  16 | elapsed:  1.1min finished\n"
     ]
    },
    {
     "name": "stdout",
     "output_type": "stream",
     "text": [
      "Checking whether there is an H2O instance running at http://localhost:54321 . connected.\n"
     ]
    },
    {
     "data": {
      "text/html": [
       "<div style=\"overflow:auto\"><table style=\"width:50%\"><tr><td>H2O_cluster_uptime:</td>\n",
       "<td>7 hours 4 mins</td></tr>\n",
       "<tr><td>H2O_cluster_timezone:</td>\n",
       "<td>UTC</td></tr>\n",
       "<tr><td>H2O_data_parsing_timezone:</td>\n",
       "<td>UTC</td></tr>\n",
       "<tr><td>H2O_cluster_version:</td>\n",
       "<td>3.34.0.3</td></tr>\n",
       "<tr><td>H2O_cluster_version_age:</td>\n",
       "<td>1 month and 18 days </td></tr>\n",
       "<tr><td>H2O_cluster_name:</td>\n",
       "<td>root</td></tr>\n",
       "<tr><td>H2O_cluster_total_nodes:</td>\n",
       "<td>1</td></tr>\n",
       "<tr><td>H2O_cluster_free_memory:</td>\n",
       "<td>5.235 Gb</td></tr>\n",
       "<tr><td>H2O_cluster_total_cores:</td>\n",
       "<td>22</td></tr>\n",
       "<tr><td>H2O_cluster_allowed_cores:</td>\n",
       "<td>22</td></tr>\n",
       "<tr><td>H2O_cluster_status:</td>\n",
       "<td>locked, healthy</td></tr>\n",
       "<tr><td>H2O_connection_url:</td>\n",
       "<td>http://localhost:54321</td></tr>\n",
       "<tr><td>H2O_connection_proxy:</td>\n",
       "<td>{\"http\": null, \"https\": null}</td></tr>\n",
       "<tr><td>H2O_internal_security:</td>\n",
       "<td>False</td></tr>\n",
       "<tr><td>H2O_API_Extensions:</td>\n",
       "<td>Amazon S3, XGBoost, Algos, AutoML, Core V3, TargetEncoder, Core V4</td></tr>\n",
       "<tr><td>Python_version:</td>\n",
       "<td>3.7.9 final</td></tr></table></div>"
      ],
      "text/plain": [
       "--------------------------  ------------------------------------------------------------------\n",
       "H2O_cluster_uptime:         7 hours 4 mins\n",
       "H2O_cluster_timezone:       UTC\n",
       "H2O_data_parsing_timezone:  UTC\n",
       "H2O_cluster_version:        3.34.0.3\n",
       "H2O_cluster_version_age:    1 month and 18 days\n",
       "H2O_cluster_name:           root\n",
       "H2O_cluster_total_nodes:    1\n",
       "H2O_cluster_free_memory:    5.235 Gb\n",
       "H2O_cluster_total_cores:    22\n",
       "H2O_cluster_allowed_cores:  22\n",
       "H2O_cluster_status:         locked, healthy\n",
       "H2O_connection_url:         http://localhost:54321\n",
       "H2O_connection_proxy:       {\"http\": null, \"https\": null}\n",
       "H2O_internal_security:      False\n",
       "H2O_API_Extensions:         Amazon S3, XGBoost, Algos, AutoML, Core V3, TargetEncoder, Core V4\n",
       "Python_version:             3.7.9 final\n",
       "--------------------------  ------------------------------------------------------------------"
      ]
     },
     "metadata": {},
     "output_type": "display_data"
    },
    {
     "name": "stdout",
     "output_type": "stream",
     "text": [
      "xgboost base-3-2-test-1\n",
      "Parse progress: |████████████████████████████████████████████████████████████████| (done) 100%\n",
      "xgboost prediction progress: |███████████████████████████████████████████████████| (done) 100%\n",
      "xgboost base-0-1-test-1\n",
      "Parse progress: |████████████████████████████████████████████████████████████████| (done) 100%\n",
      "xgboost prediction progress: |███████████████████████████████████████████████████| (done) 100%\n",
      "xgboost base-1-1-test-2\n",
      "Parse progress: |████████████████████████████████████████████████████████████████| (done) 100%\n",
      "xgboost prediction progress: |███████████████████████████████████████████████████| (done) 100%\n",
      "xgboost base-3-1-test-2\n",
      "Parse progress: |████████████████████████████████████████████████████████████████| (done) 100%\n",
      "xgboost prediction progress: |███████████████████████████████████████████████████| (done) 100%\n",
      "xgboost base-0-1-test-2\n",
      "Parse progress: |████████████████████████████████████████████████████████████████| (done) 100%\n",
      "xgboost prediction progress: |███████████████████████████████████████████████████| (done) 100%\n",
      "xgboost base-1-1-train-1\n",
      "Parse progress: |████████████████████████████████████████████████████████████████| (done) 100%\n",
      "xgboost prediction progress: |███████████████████████████████████████████████████| (done) 100%\n",
      "xgboost base-1-1-test-3\n",
      "Parse progress: |████████████████████████████████████████████████████████████████| (done) 100%\n",
      "xgboost prediction progress: |███████████████████████████████████████████████████| (done) 100%\n",
      "xgboost base-1-1-test-1\n",
      "Parse progress: |████████████████████████████████████████████████████████████████| (done) 100%\n",
      "xgboost prediction progress: |███████████████████████████████████████████████████| (done) 100%\n",
      "xgboost base-3-1-train-1\n",
      "Parse progress: |████████████████████████████████████████████████████████████████| (done) 100%\n",
      "xgboost prediction progress: |███████████████████████████████████████████████████| (done) 100%\n",
      "xgboost base-3-2-test-2\n",
      "Parse progress: |████████████████████████████████████████████████████████████████| (done) 100%\n",
      "xgboost prediction progress: |███████████████████████████████████████████████████| (done) 100%\n",
      "xgboost base-0-1-test-3\n",
      "Parse progress: |████████████████████████████████████████████████████████████████| (done) 100%\n",
      "xgboost prediction progress: |███████████████████████████████████████████████████| (done) 100%\n",
      "xgboost base-3-1-test-3\n",
      "Parse progress: |████████████████████████████████████████████████████████████████| (done) 100%\n",
      "xgboost prediction progress: |███████████████████████████████████████████████████| (done) 100%\n",
      "xgboost base-3-2-train-1\n",
      "Parse progress: |████████████████████████████████████████████████████████████████| (done) 100%\n",
      "xgboost prediction progress: |███████████████████████████████████████████████████| (done) 100%\n",
      "xgboost base-3-2-test-3\n",
      "Parse progress: |████████████████████████████████████████████████████████████████| (done) 100%\n",
      "xgboost prediction progress: |███████████████████████████████████████████████████| (done) 100%\n",
      "xgboost base-0-1-train-1\n",
      "Parse progress: |████████████████████████████████████████████████████████████████| (done) 100%\n",
      "xgboost prediction progress: |███████████████████████████████████████████████████| (done) 100%\n",
      "xgboost base-3-1-test-1\n",
      "Parse progress: |████████████████████████████████████████████████████████████████| (done) 100%\n",
      "xgboost prediction progress: |███████████████████████████████████████████████████| (done) 100%\n",
      "Checking whether there is an H2O instance running at http://localhost:54321 . connected.\n"
     ]
    },
    {
     "data": {
      "text/html": [
       "<div style=\"overflow:auto\"><table style=\"width:50%\"><tr><td>H2O_cluster_uptime:</td>\n",
       "<td>7 hours 13 mins</td></tr>\n",
       "<tr><td>H2O_cluster_timezone:</td>\n",
       "<td>UTC</td></tr>\n",
       "<tr><td>H2O_data_parsing_timezone:</td>\n",
       "<td>UTC</td></tr>\n",
       "<tr><td>H2O_cluster_version:</td>\n",
       "<td>3.34.0.3</td></tr>\n",
       "<tr><td>H2O_cluster_version_age:</td>\n",
       "<td>1 month and 18 days </td></tr>\n",
       "<tr><td>H2O_cluster_name:</td>\n",
       "<td>root</td></tr>\n",
       "<tr><td>H2O_cluster_total_nodes:</td>\n",
       "<td>1</td></tr>\n",
       "<tr><td>H2O_cluster_free_memory:</td>\n",
       "<td>4.860 Gb</td></tr>\n",
       "<tr><td>H2O_cluster_total_cores:</td>\n",
       "<td>22</td></tr>\n",
       "<tr><td>H2O_cluster_allowed_cores:</td>\n",
       "<td>22</td></tr>\n",
       "<tr><td>H2O_cluster_status:</td>\n",
       "<td>locked, healthy</td></tr>\n",
       "<tr><td>H2O_connection_url:</td>\n",
       "<td>http://localhost:54321</td></tr>\n",
       "<tr><td>H2O_connection_proxy:</td>\n",
       "<td>{\"http\": null, \"https\": null}</td></tr>\n",
       "<tr><td>H2O_internal_security:</td>\n",
       "<td>False</td></tr>\n",
       "<tr><td>H2O_API_Extensions:</td>\n",
       "<td>Amazon S3, XGBoost, Algos, AutoML, Core V3, TargetEncoder, Core V4</td></tr>\n",
       "<tr><td>Python_version:</td>\n",
       "<td>3.7.9 final</td></tr></table></div>"
      ],
      "text/plain": [
       "--------------------------  ------------------------------------------------------------------\n",
       "H2O_cluster_uptime:         7 hours 13 mins\n",
       "H2O_cluster_timezone:       UTC\n",
       "H2O_data_parsing_timezone:  UTC\n",
       "H2O_cluster_version:        3.34.0.3\n",
       "H2O_cluster_version_age:    1 month and 18 days\n",
       "H2O_cluster_name:           root\n",
       "H2O_cluster_total_nodes:    1\n",
       "H2O_cluster_free_memory:    4.860 Gb\n",
       "H2O_cluster_total_cores:    22\n",
       "H2O_cluster_allowed_cores:  22\n",
       "H2O_cluster_status:         locked, healthy\n",
       "H2O_connection_url:         http://localhost:54321\n",
       "H2O_connection_proxy:       {\"http\": null, \"https\": null}\n",
       "H2O_internal_security:      False\n",
       "H2O_API_Extensions:         Amazon S3, XGBoost, Algos, AutoML, Core V3, TargetEncoder, Core V4\n",
       "Python_version:             3.7.9 final\n",
       "--------------------------  ------------------------------------------------------------------"
      ]
     },
     "metadata": {},
     "output_type": "display_data"
    },
    {
     "name": "stdout",
     "output_type": "stream",
     "text": [
      "deeplearn base-3-2-test-1\n",
      "Parse progress: |████████████████████████████████████████████████████████████████| (done) 100%\n",
      "deeplearning prediction progress: |██████████████████████████████████████████████| (done) 100%\n",
      "deeplearn base-0-1-test-1\n",
      "Parse progress: |████████████████████████████████████████████████████████████████| (done) 100%\n",
      "deeplearning prediction progress: |██████████████████████████████████████████████| (done) 100%\n",
      "deeplearn base-1-1-test-2\n",
      "Parse progress: |████████████████████████████████████████████████████████████████| (done) 100%\n",
      "deeplearning prediction progress: |██████████████████████████████████████████████| (done) 100%\n",
      "deeplearn base-3-1-test-2\n",
      "Parse progress: |████████████████████████████████████████████████████████████████| (done) 100%\n",
      "deeplearning prediction progress: |██████████████████████████████████████████████| (done) 100%\n",
      "deeplearn base-0-1-test-2\n",
      "Parse progress: |████████████████████████████████████████████████████████████████| (done) 100%\n",
      "deeplearning prediction progress: |██████████████████████████████████████████████| (done) 100%\n",
      "deeplearn base-1-1-train-1\n",
      "Parse progress: |████████████████████████████████████████████████████████████████| (done) 100%\n",
      "deeplearning prediction progress: |██████████████████████████████████████████████| (done) 100%\n",
      "deeplearn base-1-1-test-3\n",
      "Parse progress: |████████████████████████████████████████████████████████████████| (done) 100%\n",
      "deeplearning prediction progress: |██████████████████████████████████████████████| (done) 100%\n",
      "deeplearn base-1-1-test-1\n",
      "Parse progress: |████████████████████████████████████████████████████████████████| (done) 100%\n",
      "deeplearning prediction progress: |██████████████████████████████████████████████| (done) 100%\n",
      "deeplearn base-3-1-train-1\n",
      "Parse progress: |████████████████████████████████████████████████████████████████| (done) 100%\n",
      "deeplearning prediction progress: |██████████████████████████████████████████████| (done) 100%\n",
      "deeplearn base-3-2-test-2\n",
      "Parse progress: |████████████████████████████████████████████████████████████████| (done) 100%\n",
      "deeplearning prediction progress: |██████████████████████████████████████████████| (done) 100%\n",
      "deeplearn base-0-1-test-3\n",
      "Parse progress: |████████████████████████████████████████████████████████████████| (done) 100%\n",
      "deeplearning prediction progress: |██████████████████████████████████████████████| (done) 100%\n",
      "deeplearn base-3-1-test-3\n",
      "Parse progress: |████████████████████████████████████████████████████████████████| (done) 100%\n",
      "deeplearning prediction progress: |██████████████████████████████████████████████| (done) 100%\n",
      "deeplearn base-3-2-train-1\n",
      "Parse progress: |████████████████████████████████████████████████████████████████| (done) 100%\n",
      "deeplearning prediction progress: |██████████████████████████████████████████████| (done) 100%\n",
      "deeplearn base-3-2-test-3\n",
      "Parse progress: |████████████████████████████████████████████████████████████████| (done) 100%\n",
      "deeplearning prediction progress: |██████████████████████████████████████████████| (done) 100%\n",
      "deeplearn base-0-1-train-1\n",
      "Parse progress: |████████████████████████████████████████████████████████████████| (done) 100%\n",
      "deeplearning prediction progress: |██████████████████████████████████████████████| (done) 100%\n",
      "deeplearn base-3-1-test-1\n",
      "Parse progress: |████████████████████████████████████████████████████████████████| (done) 100%\n",
      "deeplearning prediction progress: |██████████████████████████████████████████████| (done) 100%\n",
      "Checking whether there is an H2O instance running at http://localhost:54321 . connected.\n"
     ]
    },
    {
     "data": {
      "text/html": [
       "<div style=\"overflow:auto\"><table style=\"width:50%\"><tr><td>H2O_cluster_uptime:</td>\n",
       "<td>7 hours 20 mins</td></tr>\n",
       "<tr><td>H2O_cluster_timezone:</td>\n",
       "<td>UTC</td></tr>\n",
       "<tr><td>H2O_data_parsing_timezone:</td>\n",
       "<td>UTC</td></tr>\n",
       "<tr><td>H2O_cluster_version:</td>\n",
       "<td>3.34.0.3</td></tr>\n",
       "<tr><td>H2O_cluster_version_age:</td>\n",
       "<td>1 month and 18 days </td></tr>\n",
       "<tr><td>H2O_cluster_name:</td>\n",
       "<td>root</td></tr>\n",
       "<tr><td>H2O_cluster_total_nodes:</td>\n",
       "<td>1</td></tr>\n",
       "<tr><td>H2O_cluster_free_memory:</td>\n",
       "<td>4.650 Gb</td></tr>\n",
       "<tr><td>H2O_cluster_total_cores:</td>\n",
       "<td>22</td></tr>\n",
       "<tr><td>H2O_cluster_allowed_cores:</td>\n",
       "<td>22</td></tr>\n",
       "<tr><td>H2O_cluster_status:</td>\n",
       "<td>locked, healthy</td></tr>\n",
       "<tr><td>H2O_connection_url:</td>\n",
       "<td>http://localhost:54321</td></tr>\n",
       "<tr><td>H2O_connection_proxy:</td>\n",
       "<td>{\"http\": null, \"https\": null}</td></tr>\n",
       "<tr><td>H2O_internal_security:</td>\n",
       "<td>False</td></tr>\n",
       "<tr><td>H2O_API_Extensions:</td>\n",
       "<td>Amazon S3, XGBoost, Algos, AutoML, Core V3, TargetEncoder, Core V4</td></tr>\n",
       "<tr><td>Python_version:</td>\n",
       "<td>3.7.9 final</td></tr></table></div>"
      ],
      "text/plain": [
       "--------------------------  ------------------------------------------------------------------\n",
       "H2O_cluster_uptime:         7 hours 20 mins\n",
       "H2O_cluster_timezone:       UTC\n",
       "H2O_data_parsing_timezone:  UTC\n",
       "H2O_cluster_version:        3.34.0.3\n",
       "H2O_cluster_version_age:    1 month and 18 days\n",
       "H2O_cluster_name:           root\n",
       "H2O_cluster_total_nodes:    1\n",
       "H2O_cluster_free_memory:    4.650 Gb\n",
       "H2O_cluster_total_cores:    22\n",
       "H2O_cluster_allowed_cores:  22\n",
       "H2O_cluster_status:         locked, healthy\n",
       "H2O_connection_url:         http://localhost:54321\n",
       "H2O_connection_proxy:       {\"http\": null, \"https\": null}\n",
       "H2O_internal_security:      False\n",
       "H2O_API_Extensions:         Amazon S3, XGBoost, Algos, AutoML, Core V3, TargetEncoder, Core V4\n",
       "Python_version:             3.7.9 final\n",
       "--------------------------  ------------------------------------------------------------------"
      ]
     },
     "metadata": {},
     "output_type": "display_data"
    },
    {
     "name": "stdout",
     "output_type": "stream",
     "text": [
      "gbm base-3-2-test-1\n",
      "Parse progress: |████████████████████████████████████████████████████████████████| (done) 100%\n",
      "gbm prediction progress: |███████████████████████████████████████████████████████| (done) 100%\n",
      "gbm base-0-1-test-1\n",
      "Parse progress: |████████████████████████████████████████████████████████████████| (done) 100%\n",
      "gbm prediction progress: |███████████████████████████████████████████████████████| (done) 100%\n",
      "gbm base-1-1-test-2\n",
      "Parse progress: |████████████████████████████████████████████████████████████████| (done) 100%\n",
      "gbm prediction progress: |███████████████████████████████████████████████████████| (done) 100%\n",
      "gbm base-3-1-test-2\n",
      "Parse progress: |████████████████████████████████████████████████████████████████| (done) 100%\n",
      "gbm prediction progress: |███████████████████████████████████████████████████████| (done) 100%\n",
      "gbm base-0-1-test-2\n",
      "Parse progress: |████████████████████████████████████████████████████████████████| (done) 100%\n",
      "gbm prediction progress: |███████████████████████████████████████████████████████| (done) 100%\n",
      "gbm base-1-1-train-1\n",
      "Parse progress: |████████████████████████████████████████████████████████████████| (done) 100%\n",
      "gbm prediction progress: |███████████████████████████████████████████████████████| (done) 100%\n",
      "gbm base-1-1-test-3\n",
      "Parse progress: |████████████████████████████████████████████████████████████████| (done) 100%\n",
      "gbm prediction progress: |███████████████████████████████████████████████████████| (done) 100%\n",
      "gbm base-1-1-test-1\n",
      "Parse progress: |████████████████████████████████████████████████████████████████| (done) 100%\n",
      "gbm prediction progress: |███████████████████████████████████████████████████████| (done) 100%\n",
      "gbm base-3-1-train-1\n",
      "Parse progress: |████████████████████████████████████████████████████████████████| (done) 100%\n",
      "gbm prediction progress: |███████████████████████████████████████████████████████| (done) 100%\n",
      "gbm base-3-2-test-2\n",
      "Parse progress: |████████████████████████████████████████████████████████████████| (done) 100%\n",
      "gbm prediction progress: |███████████████████████████████████████████████████████| (done) 100%\n",
      "gbm base-0-1-test-3\n",
      "Parse progress: |████████████████████████████████████████████████████████████████| (done) 100%\n",
      "gbm prediction progress: |███████████████████████████████████████████████████████| (done) 100%\n",
      "gbm base-3-1-test-3\n",
      "Parse progress: |████████████████████████████████████████████████████████████████| (done) 100%\n",
      "gbm prediction progress: |███████████████████████████████████████████████████████| (done) 100%\n",
      "gbm base-3-2-train-1\n",
      "Parse progress: |████████████████████████████████████████████████████████████████| (done) 100%\n",
      "gbm prediction progress: |███████████████████████████████████████████████████████| (done) 100%\n",
      "gbm base-3-2-test-3\n",
      "Parse progress: |████████████████████████████████████████████████████████████████| (done) 100%\n",
      "gbm prediction progress: |███████████████████████████████████████████████████████| (done) 100%\n",
      "gbm base-0-1-train-1\n",
      "Parse progress: |████████████████████████████████████████████████████████████████| (done) 100%\n",
      "gbm prediction progress: |███████████████████████████████████████████████████████| (done) 100%\n",
      "gbm base-3-1-test-1\n",
      "Parse progress: |████████████████████████████████████████████████████████████████| (done) 100%\n",
      "gbm prediction progress: |███████████████████████████████████████████████████████| (done) 100%\n",
      "Checking whether there is an H2O instance running at http://localhost:54321 . connected.\n"
     ]
    },
    {
     "data": {
      "text/html": [
       "<div style=\"overflow:auto\"><table style=\"width:50%\"><tr><td>H2O_cluster_uptime:</td>\n",
       "<td>7 hours 25 mins</td></tr>\n",
       "<tr><td>H2O_cluster_timezone:</td>\n",
       "<td>UTC</td></tr>\n",
       "<tr><td>H2O_data_parsing_timezone:</td>\n",
       "<td>UTC</td></tr>\n",
       "<tr><td>H2O_cluster_version:</td>\n",
       "<td>3.34.0.3</td></tr>\n",
       "<tr><td>H2O_cluster_version_age:</td>\n",
       "<td>1 month and 18 days </td></tr>\n",
       "<tr><td>H2O_cluster_name:</td>\n",
       "<td>root</td></tr>\n",
       "<tr><td>H2O_cluster_total_nodes:</td>\n",
       "<td>1</td></tr>\n",
       "<tr><td>H2O_cluster_free_memory:</td>\n",
       "<td>4.466 Gb</td></tr>\n",
       "<tr><td>H2O_cluster_total_cores:</td>\n",
       "<td>22</td></tr>\n",
       "<tr><td>H2O_cluster_allowed_cores:</td>\n",
       "<td>22</td></tr>\n",
       "<tr><td>H2O_cluster_status:</td>\n",
       "<td>locked, healthy</td></tr>\n",
       "<tr><td>H2O_connection_url:</td>\n",
       "<td>http://localhost:54321</td></tr>\n",
       "<tr><td>H2O_connection_proxy:</td>\n",
       "<td>{\"http\": null, \"https\": null}</td></tr>\n",
       "<tr><td>H2O_internal_security:</td>\n",
       "<td>False</td></tr>\n",
       "<tr><td>H2O_API_Extensions:</td>\n",
       "<td>Amazon S3, XGBoost, Algos, AutoML, Core V3, TargetEncoder, Core V4</td></tr>\n",
       "<tr><td>Python_version:</td>\n",
       "<td>3.7.9 final</td></tr></table></div>"
      ],
      "text/plain": [
       "--------------------------  ------------------------------------------------------------------\n",
       "H2O_cluster_uptime:         7 hours 25 mins\n",
       "H2O_cluster_timezone:       UTC\n",
       "H2O_data_parsing_timezone:  UTC\n",
       "H2O_cluster_version:        3.34.0.3\n",
       "H2O_cluster_version_age:    1 month and 18 days\n",
       "H2O_cluster_name:           root\n",
       "H2O_cluster_total_nodes:    1\n",
       "H2O_cluster_free_memory:    4.466 Gb\n",
       "H2O_cluster_total_cores:    22\n",
       "H2O_cluster_allowed_cores:  22\n",
       "H2O_cluster_status:         locked, healthy\n",
       "H2O_connection_url:         http://localhost:54321\n",
       "H2O_connection_proxy:       {\"http\": null, \"https\": null}\n",
       "H2O_internal_security:      False\n",
       "H2O_API_Extensions:         Amazon S3, XGBoost, Algos, AutoML, Core V3, TargetEncoder, Core V4\n",
       "Python_version:             3.7.9 final\n",
       "--------------------------  ------------------------------------------------------------------"
      ]
     },
     "metadata": {},
     "output_type": "display_data"
    },
    {
     "name": "stdout",
     "output_type": "stream",
     "text": [
      "rf base-3-2-test-1\n",
      "Parse progress: |████████████████████████████████████████████████████████████████| (done) 100%\n",
      "drf prediction progress: |███████████████████████████████████████████████████████| (done) 100%\n",
      "rf base-0-1-test-1\n",
      "Parse progress: |████████████████████████████████████████████████████████████████| (done) 100%\n",
      "drf prediction progress: |███████████████████████████████████████████████████████| (done) 100%\n",
      "rf base-1-1-test-2\n",
      "Parse progress: |████████████████████████████████████████████████████████████████| (done) 100%\n",
      "drf prediction progress: |███████████████████████████████████████████████████████| (done) 100%\n",
      "rf base-3-1-test-2\n",
      "Parse progress: |████████████████████████████████████████████████████████████████| (done) 100%\n",
      "drf prediction progress: |███████████████████████████████████████████████████████| (done) 100%\n",
      "rf base-0-1-test-2\n",
      "Parse progress: |████████████████████████████████████████████████████████████████| (done) 100%\n",
      "drf prediction progress: |███████████████████████████████████████████████████████| (done) 100%\n",
      "rf base-1-1-train-1\n",
      "Parse progress: |████████████████████████████████████████████████████████████████| (done) 100%\n",
      "drf prediction progress: |███████████████████████████████████████████████████████| (done) 100%\n",
      "rf base-1-1-test-3\n",
      "Parse progress: |████████████████████████████████████████████████████████████████| (done) 100%\n",
      "drf prediction progress: |███████████████████████████████████████████████████████| (done) 100%\n",
      "rf base-1-1-test-1\n",
      "Parse progress: |████████████████████████████████████████████████████████████████| (done) 100%\n",
      "drf prediction progress: |███████████████████████████████████████████████████████| (done) 100%\n",
      "rf base-3-1-train-1\n",
      "Parse progress: |████████████████████████████████████████████████████████████████| (done) 100%\n",
      "drf prediction progress: |███████████████████████████████████████████████████████| (done) 100%\n",
      "rf base-3-2-test-2\n",
      "Parse progress: |████████████████████████████████████████████████████████████████| (done) 100%\n",
      "drf prediction progress: |███████████████████████████████████████████████████████| (done) 100%\n",
      "rf base-0-1-test-3\n",
      "Parse progress: |████████████████████████████████████████████████████████████████| (done) 100%\n",
      "drf prediction progress: |███████████████████████████████████████████████████████| (done) 100%\n",
      "rf base-3-1-test-3\n",
      "Parse progress: |████████████████████████████████████████████████████████████████| (done) 100%\n",
      "drf prediction progress: |███████████████████████████████████████████████████████| (done) 100%\n",
      "rf base-3-2-train-1\n",
      "Parse progress: |████████████████████████████████████████████████████████████████| (done) 100%\n",
      "drf prediction progress: |███████████████████████████████████████████████████████| (done) 100%\n",
      "rf base-3-2-test-3\n",
      "Parse progress: |████████████████████████████████████████████████████████████████| (done) 100%\n",
      "drf prediction progress: |███████████████████████████████████████████████████████| (done) 100%\n",
      "rf base-0-1-train-1\n",
      "Parse progress: |████████████████████████████████████████████████████████████████| (done) 100%\n",
      "drf prediction progress: |███████████████████████████████████████████████████████| (done) 100%\n",
      "rf base-3-1-test-1\n",
      "Parse progress: |████████████████████████████████████████████████████████████████| (done) 100%\n",
      "drf prediction progress: |███████████████████████████████████████████████████████| (done) 100%\n",
      "Checking whether there is an H2O instance running at http://localhost:54321 . connected.\n"
     ]
    },
    {
     "data": {
      "text/html": [
       "<div style=\"overflow:auto\"><table style=\"width:50%\"><tr><td>H2O_cluster_uptime:</td>\n",
       "<td>7 hours 30 mins</td></tr>\n",
       "<tr><td>H2O_cluster_timezone:</td>\n",
       "<td>UTC</td></tr>\n",
       "<tr><td>H2O_data_parsing_timezone:</td>\n",
       "<td>UTC</td></tr>\n",
       "<tr><td>H2O_cluster_version:</td>\n",
       "<td>3.34.0.3</td></tr>\n",
       "<tr><td>H2O_cluster_version_age:</td>\n",
       "<td>1 month and 18 days </td></tr>\n",
       "<tr><td>H2O_cluster_name:</td>\n",
       "<td>root</td></tr>\n",
       "<tr><td>H2O_cluster_total_nodes:</td>\n",
       "<td>1</td></tr>\n",
       "<tr><td>H2O_cluster_free_memory:</td>\n",
       "<td>4.272 Gb</td></tr>\n",
       "<tr><td>H2O_cluster_total_cores:</td>\n",
       "<td>22</td></tr>\n",
       "<tr><td>H2O_cluster_allowed_cores:</td>\n",
       "<td>22</td></tr>\n",
       "<tr><td>H2O_cluster_status:</td>\n",
       "<td>locked, healthy</td></tr>\n",
       "<tr><td>H2O_connection_url:</td>\n",
       "<td>http://localhost:54321</td></tr>\n",
       "<tr><td>H2O_connection_proxy:</td>\n",
       "<td>{\"http\": null, \"https\": null}</td></tr>\n",
       "<tr><td>H2O_internal_security:</td>\n",
       "<td>False</td></tr>\n",
       "<tr><td>H2O_API_Extensions:</td>\n",
       "<td>Amazon S3, XGBoost, Algos, AutoML, Core V3, TargetEncoder, Core V4</td></tr>\n",
       "<tr><td>Python_version:</td>\n",
       "<td>3.7.9 final</td></tr></table></div>"
      ],
      "text/plain": [
       "--------------------------  ------------------------------------------------------------------\n",
       "H2O_cluster_uptime:         7 hours 30 mins\n",
       "H2O_cluster_timezone:       UTC\n",
       "H2O_data_parsing_timezone:  UTC\n",
       "H2O_cluster_version:        3.34.0.3\n",
       "H2O_cluster_version_age:    1 month and 18 days\n",
       "H2O_cluster_name:           root\n",
       "H2O_cluster_total_nodes:    1\n",
       "H2O_cluster_free_memory:    4.272 Gb\n",
       "H2O_cluster_total_cores:    22\n",
       "H2O_cluster_allowed_cores:  22\n",
       "H2O_cluster_status:         locked, healthy\n",
       "H2O_connection_url:         http://localhost:54321\n",
       "H2O_connection_proxy:       {\"http\": null, \"https\": null}\n",
       "H2O_internal_security:      False\n",
       "H2O_API_Extensions:         Amazon S3, XGBoost, Algos, AutoML, Core V3, TargetEncoder, Core V4\n",
       "Python_version:             3.7.9 final\n",
       "--------------------------  ------------------------------------------------------------------"
      ]
     },
     "metadata": {},
     "output_type": "display_data"
    },
    {
     "name": "stdout",
     "output_type": "stream",
     "text": [
      "bayes base-3-2-test-1\n",
      "Parse progress: |████████████████████████████████████████████████████████████████| (done) 100%\n",
      "naivebayes prediction progress: |████████████████████████████████████████████████| (done) 100%\n",
      "bayes base-0-1-test-1\n",
      "Parse progress: |████████████████████████████████████████████████████████████████| (done) 100%\n",
      "naivebayes prediction progress: |████████████████████████████████████████████████| (done) 100%\n",
      "bayes base-1-1-test-2\n",
      "Parse progress: |████████████████████████████████████████████████████████████████| (done) 100%\n",
      "naivebayes prediction progress: |████████████████████████████████████████████████| (done) 100%\n",
      "bayes base-3-1-test-2\n",
      "Parse progress: |████████████████████████████████████████████████████████████████| (done) 100%\n",
      "naivebayes prediction progress: |████████████████████████████████████████████████| (done) 100%\n",
      "bayes base-0-1-test-2\n",
      "Parse progress: |████████████████████████████████████████████████████████████████| (done) 100%\n",
      "naivebayes prediction progress: |████████████████████████████████████████████████| (done) 100%\n",
      "bayes base-1-1-train-1\n",
      "Parse progress: |████████████████████████████████████████████████████████████████| (done) 100%\n",
      "naivebayes prediction progress: |████████████████████████████████████████████████| (done) 100%\n",
      "bayes base-1-1-test-3\n",
      "Parse progress: |████████████████████████████████████████████████████████████████| (done) 100%\n",
      "naivebayes prediction progress: |████████████████████████████████████████████████| (done) 100%\n",
      "bayes base-1-1-test-1\n",
      "Parse progress: |████████████████████████████████████████████████████████████████| (done) 100%\n",
      "naivebayes prediction progress: |████████████████████████████████████████████████| (done) 100%\n",
      "bayes base-3-1-train-1\n",
      "Parse progress: |████████████████████████████████████████████████████████████████| (done) 100%\n",
      "naivebayes prediction progress: |████████████████████████████████████████████████| (done) 100%\n",
      "bayes base-3-2-test-2\n",
      "Parse progress: |████████████████████████████████████████████████████████████████| (done) 100%\n",
      "naivebayes prediction progress: |████████████████████████████████████████████████| (done) 100%\n",
      "bayes base-0-1-test-3\n",
      "Parse progress: |████████████████████████████████████████████████████████████████| (done) 100%\n",
      "naivebayes prediction progress: |████████████████████████████████████████████████| (done) 100%\n",
      "bayes base-3-1-test-3\n",
      "Parse progress: |████████████████████████████████████████████████████████████████| (done) 100%\n",
      "naivebayes prediction progress: |████████████████████████████████████████████████| (done) 100%\n",
      "bayes base-3-2-train-1\n",
      "Parse progress: |████████████████████████████████████████████████████████████████| (done) 100%\n",
      "naivebayes prediction progress: |████████████████████████████████████████████████| (done) 100%\n",
      "bayes base-3-2-test-3\n",
      "Parse progress: |████████████████████████████████████████████████████████████████| (done) 100%\n",
      "naivebayes prediction progress: |████████████████████████████████████████████████| (done) 100%\n",
      "bayes base-0-1-train-1\n",
      "Parse progress: |████████████████████████████████████████████████████████████████| (done) 100%\n",
      "naivebayes prediction progress: |████████████████████████████████████████████████| (done) 100%\n",
      "bayes base-3-1-test-1\n",
      "Parse progress: |████████████████████████████████████████████████████████████████| (done) 100%\n",
      "naivebayes prediction progress: |████████████████████████████████████████████████| (done) 100%\n",
      "Checking whether there is an H2O instance running at http://localhost:54321 . connected.\n"
     ]
    },
    {
     "data": {
      "text/html": [
       "<div style=\"overflow:auto\"><table style=\"width:50%\"><tr><td>H2O_cluster_uptime:</td>\n",
       "<td>7 hours 35 mins</td></tr>\n",
       "<tr><td>H2O_cluster_timezone:</td>\n",
       "<td>UTC</td></tr>\n",
       "<tr><td>H2O_data_parsing_timezone:</td>\n",
       "<td>UTC</td></tr>\n",
       "<tr><td>H2O_cluster_version:</td>\n",
       "<td>3.34.0.3</td></tr>\n",
       "<tr><td>H2O_cluster_version_age:</td>\n",
       "<td>1 month and 18 days </td></tr>\n",
       "<tr><td>H2O_cluster_name:</td>\n",
       "<td>root</td></tr>\n",
       "<tr><td>H2O_cluster_total_nodes:</td>\n",
       "<td>1</td></tr>\n",
       "<tr><td>H2O_cluster_free_memory:</td>\n",
       "<td>4.092 Gb</td></tr>\n",
       "<tr><td>H2O_cluster_total_cores:</td>\n",
       "<td>22</td></tr>\n",
       "<tr><td>H2O_cluster_allowed_cores:</td>\n",
       "<td>22</td></tr>\n",
       "<tr><td>H2O_cluster_status:</td>\n",
       "<td>locked, healthy</td></tr>\n",
       "<tr><td>H2O_connection_url:</td>\n",
       "<td>http://localhost:54321</td></tr>\n",
       "<tr><td>H2O_connection_proxy:</td>\n",
       "<td>{\"http\": null, \"https\": null}</td></tr>\n",
       "<tr><td>H2O_internal_security:</td>\n",
       "<td>False</td></tr>\n",
       "<tr><td>H2O_API_Extensions:</td>\n",
       "<td>Amazon S3, XGBoost, Algos, AutoML, Core V3, TargetEncoder, Core V4</td></tr>\n",
       "<tr><td>Python_version:</td>\n",
       "<td>3.7.9 final</td></tr></table></div>"
      ],
      "text/plain": [
       "--------------------------  ------------------------------------------------------------------\n",
       "H2O_cluster_uptime:         7 hours 35 mins\n",
       "H2O_cluster_timezone:       UTC\n",
       "H2O_data_parsing_timezone:  UTC\n",
       "H2O_cluster_version:        3.34.0.3\n",
       "H2O_cluster_version_age:    1 month and 18 days\n",
       "H2O_cluster_name:           root\n",
       "H2O_cluster_total_nodes:    1\n",
       "H2O_cluster_free_memory:    4.092 Gb\n",
       "H2O_cluster_total_cores:    22\n",
       "H2O_cluster_allowed_cores:  22\n",
       "H2O_cluster_status:         locked, healthy\n",
       "H2O_connection_url:         http://localhost:54321\n",
       "H2O_connection_proxy:       {\"http\": null, \"https\": null}\n",
       "H2O_internal_security:      False\n",
       "H2O_API_Extensions:         Amazon S3, XGBoost, Algos, AutoML, Core V3, TargetEncoder, Core V4\n",
       "Python_version:             3.7.9 final\n",
       "--------------------------  ------------------------------------------------------------------"
      ]
     },
     "metadata": {},
     "output_type": "display_data"
    },
    {
     "name": "stdout",
     "output_type": "stream",
     "text": [
      "glm base-3-2-test-1\n",
      "Parse progress: |████████████████████████████████████████████████████████████████| (done) 100%\n",
      "glm prediction progress: |███████████████████████████████████████████████████████| (done) 100%\n",
      "glm base-0-1-test-1\n",
      "Parse progress: |████████████████████████████████████████████████████████████████| (done) 100%\n",
      "glm prediction progress: |███████████████████████████████████████████████████████| (done) 100%\n",
      "glm base-1-1-test-2\n",
      "Parse progress: |████████████████████████████████████████████████████████████████| (done) 100%\n",
      "glm prediction progress: |███████████████████████████████████████████████████████| (done) 100%\n",
      "glm base-3-1-test-2\n",
      "Parse progress: |████████████████████████████████████████████████████████████████| (done) 100%\n",
      "glm prediction progress: |███████████████████████████████████████████████████████| (done) 100%\n",
      "glm base-0-1-test-2\n",
      "Parse progress: |████████████████████████████████████████████████████████████████| (done) 100%\n",
      "glm prediction progress: |███████████████████████████████████████████████████████| (done) 100%\n",
      "glm base-1-1-train-1\n",
      "Parse progress: |████████████████████████████████████████████████████████████████| (done) 100%\n",
      "glm prediction progress: |███████████████████████████████████████████████████████| (done) 100%\n",
      "glm base-1-1-test-3\n",
      "Parse progress: |████████████████████████████████████████████████████████████████| (done) 100%\n",
      "glm prediction progress: |███████████████████████████████████████████████████████| (done) 100%\n",
      "glm base-1-1-test-1\n",
      "Parse progress: |████████████████████████████████████████████████████████████████| (done) 100%\n",
      "glm prediction progress: |███████████████████████████████████████████████████████| (done) 100%\n",
      "glm base-3-1-train-1\n",
      "Parse progress: |████████████████████████████████████████████████████████████████| (done) 100%\n",
      "glm prediction progress: |███████████████████████████████████████████████████████| (done) 100%\n",
      "glm base-3-2-test-2\n",
      "Parse progress: |████████████████████████████████████████████████████████████████| (done) 100%\n",
      "glm prediction progress: |███████████████████████████████████████████████████████| (done) 100%\n",
      "glm base-0-1-test-3\n",
      "Parse progress: |████████████████████████████████████████████████████████████████| (done) 100%\n",
      "glm prediction progress: |███████████████████████████████████████████████████████| (done) 100%\n",
      "glm base-3-1-test-3\n",
      "Parse progress: |████████████████████████████████████████████████████████████████| (done) 100%\n",
      "glm prediction progress: |███████████████████████████████████████████████████████| (done) 100%\n",
      "glm base-3-2-train-1\n",
      "Parse progress: |████████████████████████████████████████████████████████████████| (done) 100%\n",
      "glm prediction progress: |███████████████████████████████████████████████████████| (done) 100%\n",
      "glm base-3-2-test-3\n",
      "Parse progress: |████████████████████████████████████████████████████████████████| (done) 100%\n",
      "glm prediction progress: |███████████████████████████████████████████████████████| (done) 100%\n",
      "glm base-0-1-train-1\n",
      "Parse progress: |████████████████████████████████████████████████████████████████| (done) 100%\n",
      "glm prediction progress: |███████████████████████████████████████████████████████| (done) 100%\n",
      "glm base-3-1-test-1\n",
      "Parse progress: |████████████████████████████████████████████████████████████████| (done) 100%\n",
      "glm prediction progress: |███████████████████████████████████████████████████████| (done) 100%\n",
      "svm base-3-2-test-1\n"
     ]
    },
    {
     "name": "stderr",
     "output_type": "stream",
     "text": [
      "[Parallel(n_jobs=16)]: Using backend LokyBackend with 16 concurrent workers.\n",
      "[Parallel(n_jobs=16)]: Done   2 out of  16 | elapsed:   53.0s remaining:  6.2min\n",
      "[Parallel(n_jobs=16)]: Done  16 out of  16 | elapsed:  1.2min finished\n"
     ]
    },
    {
     "name": "stdout",
     "output_type": "stream",
     "text": [
      "svm base-0-1-test-1\n"
     ]
    },
    {
     "name": "stderr",
     "output_type": "stream",
     "text": [
      "[Parallel(n_jobs=16)]: Using backend LokyBackend with 16 concurrent workers.\n",
      "[Parallel(n_jobs=16)]: Done   2 out of  16 | elapsed:   47.9s remaining:  5.6min\n",
      "[Parallel(n_jobs=16)]: Done  16 out of  16 | elapsed:   59.6s finished\n"
     ]
    },
    {
     "name": "stdout",
     "output_type": "stream",
     "text": [
      "svm base-1-1-test-2\n"
     ]
    },
    {
     "name": "stderr",
     "output_type": "stream",
     "text": [
      "[Parallel(n_jobs=16)]: Using backend LokyBackend with 16 concurrent workers.\n",
      "[Parallel(n_jobs=16)]: Done   2 out of  16 | elapsed:  4.5min remaining: 31.3min\n",
      "[Parallel(n_jobs=16)]: Done  16 out of  16 | elapsed:  5.4min finished\n"
     ]
    },
    {
     "name": "stdout",
     "output_type": "stream",
     "text": [
      "svm base-3-1-test-2\n"
     ]
    },
    {
     "name": "stderr",
     "output_type": "stream",
     "text": [
      "[Parallel(n_jobs=16)]: Using backend LokyBackend with 16 concurrent workers.\n",
      "[Parallel(n_jobs=16)]: Done   2 out of  16 | elapsed:  4.2min remaining: 29.1min\n",
      "[Parallel(n_jobs=16)]: Done  16 out of  16 | elapsed:  5.5min finished\n"
     ]
    },
    {
     "name": "stdout",
     "output_type": "stream",
     "text": [
      "svm base-0-1-test-2\n"
     ]
    },
    {
     "name": "stderr",
     "output_type": "stream",
     "text": [
      "[Parallel(n_jobs=16)]: Using backend LokyBackend with 16 concurrent workers.\n",
      "[Parallel(n_jobs=16)]: Done   2 out of  16 | elapsed:  3.5min remaining: 24.5min\n",
      "[Parallel(n_jobs=16)]: Done  16 out of  16 | elapsed:  5.1min finished\n"
     ]
    },
    {
     "name": "stdout",
     "output_type": "stream",
     "text": [
      "svm base-1-1-train-1\n"
     ]
    },
    {
     "name": "stderr",
     "output_type": "stream",
     "text": [
      "[Parallel(n_jobs=16)]: Using backend LokyBackend with 16 concurrent workers.\n",
      "[Parallel(n_jobs=16)]: Done   2 out of  16 | elapsed:  4.2min remaining: 29.4min\n",
      "[Parallel(n_jobs=16)]: Done  16 out of  16 | elapsed:  5.3min finished\n"
     ]
    },
    {
     "name": "stdout",
     "output_type": "stream",
     "text": [
      "svm base-1-1-test-3\n"
     ]
    },
    {
     "name": "stderr",
     "output_type": "stream",
     "text": [
      "[Parallel(n_jobs=16)]: Using backend LokyBackend with 16 concurrent workers.\n",
      "[Parallel(n_jobs=16)]: Done   2 out of  16 | elapsed:  8.9min remaining: 62.5min\n",
      "[Parallel(n_jobs=16)]: Done  16 out of  16 | elapsed: 10.5min finished\n"
     ]
    },
    {
     "name": "stdout",
     "output_type": "stream",
     "text": [
      "svm base-1-1-test-1\n"
     ]
    },
    {
     "name": "stderr",
     "output_type": "stream",
     "text": [
      "[Parallel(n_jobs=16)]: Using backend LokyBackend with 16 concurrent workers.\n",
      "[Parallel(n_jobs=16)]: Done   2 out of  16 | elapsed:   45.1s remaining:  5.3min\n",
      "[Parallel(n_jobs=16)]: Done  16 out of  16 | elapsed:  1.1min finished\n"
     ]
    },
    {
     "name": "stdout",
     "output_type": "stream",
     "text": [
      "svm base-3-1-train-1\n"
     ]
    },
    {
     "name": "stderr",
     "output_type": "stream",
     "text": [
      "[Parallel(n_jobs=16)]: Using backend LokyBackend with 16 concurrent workers.\n",
      "[Parallel(n_jobs=16)]: Done   2 out of  16 | elapsed:  4.3min remaining: 30.3min\n",
      "[Parallel(n_jobs=16)]: Done  16 out of  16 | elapsed:  5.3min finished\n"
     ]
    },
    {
     "name": "stdout",
     "output_type": "stream",
     "text": [
      "svm base-3-2-test-2\n"
     ]
    },
    {
     "name": "stderr",
     "output_type": "stream",
     "text": [
      "[Parallel(n_jobs=16)]: Using backend LokyBackend with 16 concurrent workers.\n",
      "[Parallel(n_jobs=16)]: Done   2 out of  16 | elapsed:  4.2min remaining: 29.2min\n",
      "[Parallel(n_jobs=16)]: Done  16 out of  16 | elapsed:  5.2min finished\n"
     ]
    },
    {
     "name": "stdout",
     "output_type": "stream",
     "text": [
      "svm base-0-1-test-3\n"
     ]
    },
    {
     "name": "stderr",
     "output_type": "stream",
     "text": [
      "[Parallel(n_jobs=16)]: Using backend LokyBackend with 16 concurrent workers.\n",
      "[Parallel(n_jobs=16)]: Done   2 out of  16 | elapsed:  8.2min remaining: 57.7min\n",
      "[Parallel(n_jobs=16)]: Done  16 out of  16 | elapsed:  9.7min finished\n"
     ]
    },
    {
     "name": "stdout",
     "output_type": "stream",
     "text": [
      "svm base-3-1-test-3\n"
     ]
    },
    {
     "name": "stderr",
     "output_type": "stream",
     "text": [
      "[Parallel(n_jobs=16)]: Using backend LokyBackend with 16 concurrent workers.\n",
      "[Parallel(n_jobs=16)]: Done   2 out of  16 | elapsed:  9.0min remaining: 63.1min\n",
      "[Parallel(n_jobs=16)]: Done  16 out of  16 | elapsed: 10.0min finished\n"
     ]
    },
    {
     "name": "stdout",
     "output_type": "stream",
     "text": [
      "svm base-3-2-train-1\n"
     ]
    },
    {
     "name": "stderr",
     "output_type": "stream",
     "text": [
      "[Parallel(n_jobs=16)]: Using backend LokyBackend with 16 concurrent workers.\n",
      "[Parallel(n_jobs=16)]: Done   2 out of  16 | elapsed:  4.3min remaining: 30.4min\n",
      "[Parallel(n_jobs=16)]: Done  16 out of  16 | elapsed:  5.2min finished\n"
     ]
    },
    {
     "name": "stdout",
     "output_type": "stream",
     "text": [
      "svm base-3-2-test-3\n"
     ]
    },
    {
     "name": "stderr",
     "output_type": "stream",
     "text": [
      "[Parallel(n_jobs=16)]: Using backend LokyBackend with 16 concurrent workers.\n",
      "[Parallel(n_jobs=16)]: Done   2 out of  16 | elapsed:  8.9min remaining: 62.0min\n",
      "[Parallel(n_jobs=16)]: Done  16 out of  16 | elapsed: 10.5min finished\n"
     ]
    },
    {
     "name": "stdout",
     "output_type": "stream",
     "text": [
      "svm base-0-1-train-1\n"
     ]
    },
    {
     "name": "stderr",
     "output_type": "stream",
     "text": [
      "[Parallel(n_jobs=16)]: Using backend LokyBackend with 16 concurrent workers.\n",
      "[Parallel(n_jobs=16)]: Done   2 out of  16 | elapsed:  3.8min remaining: 26.6min\n",
      "[Parallel(n_jobs=16)]: Done  16 out of  16 | elapsed:  5.0min finished\n"
     ]
    },
    {
     "name": "stdout",
     "output_type": "stream",
     "text": [
      "svm base-3-1-test-1\n"
     ]
    },
    {
     "name": "stderr",
     "output_type": "stream",
     "text": [
      "[Parallel(n_jobs=16)]: Using backend LokyBackend with 16 concurrent workers.\n",
      "[Parallel(n_jobs=16)]: Done   2 out of  16 | elapsed:   46.6s remaining:  5.4min\n",
      "[Parallel(n_jobs=16)]: Done  16 out of  16 | elapsed:  1.1min finished\n"
     ]
    }
   ],
   "source": [
    "csv_list = []\n",
    "get_csv_files(\"/data/dataset/sample/\",csv_list)\n",
    "csv_list.sort()\n",
    "all_models = get_all_models()\n",
    "all_result = []\n",
    "for item in json.loads(all_models.to_json(orient=\"records\")):\n",
    "    model_name = item['model_name']\n",
    "    dataset = item['dataset']\n",
    "    model_file = item['model_file']\n",
    "    if model_file.find(\"PSVM_model_python\") >= 0:\n",
    "        continue\n",
    "    perf = CJPerformance(model_file)\n",
    "    for csv in csv_list:\n",
    "        valid_set = os.path.splitext(os.path.basename(csv))[0]\n",
    "        print(dataset, model_name , valid_set)\n",
    "        result = perf.Test(csv,True)\n",
    "        result['model'] = model_name\n",
    "        result['train'] = dataset\n",
    "        result['valid'] = valid_set\n",
    "        all_result.append(result)\n",
    "df_result = pd.DataFrame(all_result)"
   ]
  },
  {
   "cell_type": "code",
   "execution_count": 5,
   "id": "d5d2696e",
   "metadata": {},
   "outputs": [],
   "source": [
    "df_result.to_csv(\"/data/dataset/analyse/validation.csv\")"
   ]
  },
  {
   "cell_type": "code",
   "execution_count": 6,
   "id": "8ac5ebfb",
   "metadata": {
    "scrolled": false
   },
   "outputs": [
    {
     "data": {
      "text/html": [
       "<div>\n",
       "<style scoped>\n",
       "    .dataframe tbody tr th:only-of-type {\n",
       "        vertical-align: middle;\n",
       "    }\n",
       "\n",
       "    .dataframe tbody tr th {\n",
       "        vertical-align: top;\n",
       "    }\n",
       "\n",
       "    .dataframe thead th {\n",
       "        text-align: right;\n",
       "    }\n",
       "</style>\n",
       "<table border=\"1\" class=\"dataframe\">\n",
       "  <thead>\n",
       "    <tr style=\"text-align: right;\">\n",
       "      <th></th>\n",
       "      <th>confusion_matrix</th>\n",
       "      <th>roc_curve</th>\n",
       "      <th>recall</th>\n",
       "      <th>mcc</th>\n",
       "      <th>accuracy</th>\n",
       "      <th>precision</th>\n",
       "      <th>auc</th>\n",
       "      <th>log_loss</th>\n",
       "      <th>f1_score</th>\n",
       "      <th>fbeta_score</th>\n",
       "      <th>model</th>\n",
       "      <th>train</th>\n",
       "      <th>valid</th>\n",
       "    </tr>\n",
       "  </thead>\n",
       "  <tbody>\n",
       "    <tr>\n",
       "      <th>0</th>\n",
       "      <td>[[27470, 5855], [4529, 12146]]</td>\n",
       "      <td>([0.0, 0.1756939234808702, 1.0], [0.0, 0.72839...</td>\n",
       "      <td>0.72839580</td>\n",
       "      <td>0.54286572</td>\n",
       "      <td>0.79232000</td>\n",
       "      <td>0.67474029</td>\n",
       "      <td>0.77635094</td>\n",
       "      <td>7.17310671</td>\n",
       "      <td>0.70054216</td>\n",
       "      <td>0.68482955</td>\n",
       "      <td>xgboost</td>\n",
       "      <td>base-3-2-train-1</td>\n",
       "      <td>base-3-2-test-1</td>\n",
       "    </tr>\n",
       "    <tr>\n",
       "      <th>1</th>\n",
       "      <td>[[28581, 1395], [15159, 969]]</td>\n",
       "      <td>([0.0, 0.04653722978382706, 1.0], [0.0, 0.0600...</td>\n",
       "      <td>0.06008185</td>\n",
       "      <td>0.02928739</td>\n",
       "      <td>0.64094222</td>\n",
       "      <td>0.40989848</td>\n",
       "      <td>0.50677231</td>\n",
       "      <td>12.40144065</td>\n",
       "      <td>0.10480208</td>\n",
       "      <td>0.18937617</td>\n",
       "      <td>xgboost</td>\n",
       "      <td>base-3-2-train-1</td>\n",
       "      <td>base-0-1-test-1</td>\n",
       "    </tr>\n",
       "    <tr>\n",
       "      <th>2</th>\n",
       "      <td>[[7785, 16081], [150372, 75762]]</td>\n",
       "      <td>([0.0, 0.673803737534568, 1.0], [0.0, 0.335031...</td>\n",
       "      <td>0.33503144</td>\n",
       "      <td>-0.20649683</td>\n",
       "      <td>0.33418800</td>\n",
       "      <td>0.82490772</td>\n",
       "      <td>0.33061385</td>\n",
       "      <td>22.99638322</td>\n",
       "      <td>0.47652503</td>\n",
       "      <td>0.63825808</td>\n",
       "      <td>xgboost</td>\n",
       "      <td>base-3-2-train-1</td>\n",
       "      <td>base-1-1-test-2</td>\n",
       "    </tr>\n",
       "    <tr>\n",
       "      <th>3</th>\n",
       "      <td>[[41434, 82841], [42548, 83177]]</td>\n",
       "      <td>([0.0, 0.6665942466304566, 1.0], [0.0, 0.66157...</td>\n",
       "      <td>0.66157884</td>\n",
       "      <td>-0.00530931</td>\n",
       "      <td>0.49844400</td>\n",
       "      <td>0.50101194</td>\n",
       "      <td>0.49749230</td>\n",
       "      <td>17.32339549</td>\n",
       "      <td>0.57020734</td>\n",
       "      <td>0.52657202</td>\n",
       "      <td>xgboost</td>\n",
       "      <td>base-3-2-train-1</td>\n",
       "      <td>base-3-1-test-2</td>\n",
       "    </tr>\n",
       "    <tr>\n",
       "      <th>4</th>\n",
       "      <td>[[131981, 18169], [73698, 6674]]</td>\n",
       "      <td>([0.0, 0.121005661005661, 1.0], [0.0, 0.083038...</td>\n",
       "      <td>0.08303887</td>\n",
       "      <td>-0.05834746</td>\n",
       "      <td>0.60148272</td>\n",
       "      <td>0.26864710</td>\n",
       "      <td>0.48101660</td>\n",
       "      <td>13.76436218</td>\n",
       "      <td>0.12686404</td>\n",
       "      <td>0.18565293</td>\n",
       "      <td>xgboost</td>\n",
       "      <td>base-3-2-train-1</td>\n",
       "      <td>base-0-1-test-2</td>\n",
       "    </tr>\n",
       "    <tr>\n",
       "      <th>...</th>\n",
       "      <td>...</td>\n",
       "      <td>...</td>\n",
       "      <td>...</td>\n",
       "      <td>...</td>\n",
       "      <td>...</td>\n",
       "      <td>...</td>\n",
       "      <td>...</td>\n",
       "      <td>...</td>\n",
       "      <td>...</td>\n",
       "      <td>...</td>\n",
       "      <td>...</td>\n",
       "      <td>...</td>\n",
       "      <td>...</td>\n",
       "    </tr>\n",
       "    <tr>\n",
       "      <th>443</th>\n",
       "      <td>[[6883, 241389], [5682, 246046]]</td>\n",
       "      <td>([0.0, 0.9722763742991558, 1.0], [0.0, 0.97742...</td>\n",
       "      <td>0.97742802</td>\n",
       "      <td>0.01645644</td>\n",
       "      <td>0.50585800</td>\n",
       "      <td>0.50477705</td>\n",
       "      <td>0.50257582</td>\n",
       "      <td>17.06744607</td>\n",
       "      <td>0.66574220</td>\n",
       "      <td>0.55882257</td>\n",
       "      <td>svm</td>\n",
       "      <td>base-1-1-train-1</td>\n",
       "      <td>base-3-1-test-3</td>\n",
       "    </tr>\n",
       "    <tr>\n",
       "      <th>444</th>\n",
       "      <td>[[4820, 161160], [10507, 73513]]</td>\n",
       "      <td>([0.0, 0.9709603566694782, 1.0], [0.0, 0.87494...</td>\n",
       "      <td>0.87494644</td>\n",
       "      <td>-0.18905722</td>\n",
       "      <td>0.31333200</td>\n",
       "      <td>0.31325717</td>\n",
       "      <td>0.45199304</td>\n",
       "      <td>23.71718796</td>\n",
       "      <td>0.46134054</td>\n",
       "      <td>0.35940226</td>\n",
       "      <td>svm</td>\n",
       "      <td>base-1-1-train-1</td>\n",
       "      <td>base-3-2-train-1</td>\n",
       "    </tr>\n",
       "    <tr>\n",
       "      <th>445</th>\n",
       "      <td>[[8889, 322687], [20973, 147451]]</td>\n",
       "      <td>([0.0, 0.9731916664656067, 1.0], [0.0, 0.87547...</td>\n",
       "      <td>0.87547499</td>\n",
       "      <td>-0.19489024</td>\n",
       "      <td>0.31268000</td>\n",
       "      <td>0.31363344</td>\n",
       "      <td>0.45114166</td>\n",
       "      <td>23.73970783</td>\n",
       "      <td>0.46182203</td>\n",
       "      <td>0.35981632</td>\n",
       "      <td>svm</td>\n",
       "      <td>base-1-1-train-1</td>\n",
       "      <td>base-3-2-test-3</td>\n",
       "    </tr>\n",
       "    <tr>\n",
       "      <th>446</th>\n",
       "      <td>[[139826, 9958], [14450, 66288]]</td>\n",
       "      <td>([0.0, 0.06648240132457406, 1.0], [0.0, 0.8210...</td>\n",
       "      <td>0.82102603</td>\n",
       "      <td>0.76506502</td>\n",
       "      <td>0.89411857</td>\n",
       "      <td>0.86939643</td>\n",
       "      <td>0.87727182</td>\n",
       "      <td>3.65704972</td>\n",
       "      <td>0.84451919</td>\n",
       "      <td>0.85927170</td>\n",
       "      <td>svm</td>\n",
       "      <td>base-1-1-train-1</td>\n",
       "      <td>base-0-1-train-1</td>\n",
       "    </tr>\n",
       "    <tr>\n",
       "      <th>447</th>\n",
       "      <td>[[701, 24049], [999, 24251]]</td>\n",
       "      <td>([0.0, 0.9716767676767677, 1.0], [0.0, 0.96043...</td>\n",
       "      <td>0.96043564</td>\n",
       "      <td>-0.03101202</td>\n",
       "      <td>0.49904000</td>\n",
       "      <td>0.50209110</td>\n",
       "      <td>0.49437944</td>\n",
       "      <td>17.30293001</td>\n",
       "      <td>0.65944256</td>\n",
       "      <td>0.55506981</td>\n",
       "      <td>svm</td>\n",
       "      <td>base-1-1-train-1</td>\n",
       "      <td>base-3-1-test-1</td>\n",
       "    </tr>\n",
       "  </tbody>\n",
       "</table>\n",
       "<p>448 rows × 13 columns</p>\n",
       "</div>"
      ],
      "text/plain": [
       "                      confusion_matrix  \\\n",
       "0       [[27470, 5855], [4529, 12146]]   \n",
       "1        [[28581, 1395], [15159, 969]]   \n",
       "2     [[7785, 16081], [150372, 75762]]   \n",
       "3     [[41434, 82841], [42548, 83177]]   \n",
       "4     [[131981, 18169], [73698, 6674]]   \n",
       "..                                 ...   \n",
       "443   [[6883, 241389], [5682, 246046]]   \n",
       "444   [[4820, 161160], [10507, 73513]]   \n",
       "445  [[8889, 322687], [20973, 147451]]   \n",
       "446   [[139826, 9958], [14450, 66288]]   \n",
       "447       [[701, 24049], [999, 24251]]   \n",
       "\n",
       "                                             roc_curve     recall         mcc  \\\n",
       "0    ([0.0, 0.1756939234808702, 1.0], [0.0, 0.72839... 0.72839580  0.54286572   \n",
       "1    ([0.0, 0.04653722978382706, 1.0], [0.0, 0.0600... 0.06008185  0.02928739   \n",
       "2    ([0.0, 0.673803737534568, 1.0], [0.0, 0.335031... 0.33503144 -0.20649683   \n",
       "3    ([0.0, 0.6665942466304566, 1.0], [0.0, 0.66157... 0.66157884 -0.00530931   \n",
       "4    ([0.0, 0.121005661005661, 1.0], [0.0, 0.083038... 0.08303887 -0.05834746   \n",
       "..                                                 ...        ...         ...   \n",
       "443  ([0.0, 0.9722763742991558, 1.0], [0.0, 0.97742... 0.97742802  0.01645644   \n",
       "444  ([0.0, 0.9709603566694782, 1.0], [0.0, 0.87494... 0.87494644 -0.18905722   \n",
       "445  ([0.0, 0.9731916664656067, 1.0], [0.0, 0.87547... 0.87547499 -0.19489024   \n",
       "446  ([0.0, 0.06648240132457406, 1.0], [0.0, 0.8210... 0.82102603  0.76506502   \n",
       "447  ([0.0, 0.9716767676767677, 1.0], [0.0, 0.96043... 0.96043564 -0.03101202   \n",
       "\n",
       "      accuracy  precision        auc    log_loss   f1_score  fbeta_score  \\\n",
       "0   0.79232000 0.67474029 0.77635094  7.17310671 0.70054216   0.68482955   \n",
       "1   0.64094222 0.40989848 0.50677231 12.40144065 0.10480208   0.18937617   \n",
       "2   0.33418800 0.82490772 0.33061385 22.99638322 0.47652503   0.63825808   \n",
       "3   0.49844400 0.50101194 0.49749230 17.32339549 0.57020734   0.52657202   \n",
       "4   0.60148272 0.26864710 0.48101660 13.76436218 0.12686404   0.18565293   \n",
       "..         ...        ...        ...         ...        ...          ...   \n",
       "443 0.50585800 0.50477705 0.50257582 17.06744607 0.66574220   0.55882257   \n",
       "444 0.31333200 0.31325717 0.45199304 23.71718796 0.46134054   0.35940226   \n",
       "445 0.31268000 0.31363344 0.45114166 23.73970783 0.46182203   0.35981632   \n",
       "446 0.89411857 0.86939643 0.87727182  3.65704972 0.84451919   0.85927170   \n",
       "447 0.49904000 0.50209110 0.49437944 17.30293001 0.65944256   0.55506981   \n",
       "\n",
       "       model             train             valid  \n",
       "0    xgboost  base-3-2-train-1   base-3-2-test-1  \n",
       "1    xgboost  base-3-2-train-1   base-0-1-test-1  \n",
       "2    xgboost  base-3-2-train-1   base-1-1-test-2  \n",
       "3    xgboost  base-3-2-train-1   base-3-1-test-2  \n",
       "4    xgboost  base-3-2-train-1   base-0-1-test-2  \n",
       "..       ...               ...               ...  \n",
       "443      svm  base-1-1-train-1   base-3-1-test-3  \n",
       "444      svm  base-1-1-train-1  base-3-2-train-1  \n",
       "445      svm  base-1-1-train-1   base-3-2-test-3  \n",
       "446      svm  base-1-1-train-1  base-0-1-train-1  \n",
       "447      svm  base-1-1-train-1   base-3-1-test-1  \n",
       "\n",
       "[448 rows x 13 columns]"
      ]
     },
     "execution_count": 6,
     "metadata": {},
     "output_type": "execute_result"
    }
   ],
   "source": [
    "df_result"
   ]
  },
  {
   "cell_type": "code",
   "execution_count": null,
   "id": "40c1698f",
   "metadata": {},
   "outputs": [],
   "source": []
  }
 ],
 "metadata": {
  "kernelspec": {
   "display_name": "Python 3 (ipykernel)",
   "language": "python",
   "name": "python3"
  },
  "language_info": {
   "codemirror_mode": {
    "name": "ipython",
    "version": 3
   },
   "file_extension": ".py",
   "mimetype": "text/x-python",
   "name": "python",
   "nbconvert_exporter": "python",
   "pygments_lexer": "ipython3",
   "version": "3.7.9"
  }
 },
 "nbformat": 4,
 "nbformat_minor": 5
}
