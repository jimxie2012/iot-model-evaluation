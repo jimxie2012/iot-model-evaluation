{
 "cells": [
  {
   "cell_type": "code",
   "execution_count": null,
   "id": "795bb4e0",
   "metadata": {},
   "outputs": [],
   "source": [
    "import time,json,os\n",
    "import numpy as np\n",
    "import pandas as pd\n",
    "from inference import *\n",
    "from common import preprocess,get_csv_files,g_analyse_path,g_ds_sample_path,g_model_path\n",
    "from warnings import filterwarnings\n",
    "filterwarnings(\"ignore\") \n",
    "np.set_printoptions(suppress=True)\n",
    "pd.set_option('display.float_format',lambda x : '%.8f' % x)"
   ]
  },
  {
   "cell_type": "code",
   "execution_count": null,
   "id": "40c1698f",
   "metadata": {},
   "outputs": [],
   "source": [
    "os.system(\"mkdir -p %s\"%g_analyse_path)\n",
    "csv_list = []\n",
    "get_csv_files(g_ds_sample_path,csv_list)\n",
    "csv_list.sort()\n",
    "all_models = get_all_models()"
   ]
  },
  {
   "cell_type": "code",
   "execution_count": null,
   "id": "a5f044bf",
   "metadata": {
    "scrolled": false
   },
   "outputs": [],
   "source": [
    "all_result = []\n",
    "for item in json.loads(all_models.to_json(orient=\"records\")):\n",
    "    model_name = item['model_name']\n",
    "    dataset = item['dataset']\n",
    "    model_file = item['model_file']\n",
    "    if model_file.find(\"PSVM_model_python\") >= 0:\n",
    "        continue\n",
    "    print(model_name,dataset)\n",
    "    perf = CJPerformance(model_file)\n",
    "    for csv in csv_list:\n",
    "        valid_set = os.path.splitext(os.path.basename(csv))[0]\n",
    "        print(\"inference \",\"%s(%s)\"%(model_name,dataset), \"validation set %s\"%valid_set)\n",
    "        result = perf.Test(csv,True)\n",
    "        result['model'] = model_name\n",
    "        result['train'] = dataset\n",
    "        result['valid'] = valid_set\n",
    "        print(result)\n",
    "        all_result.append(result)\n",
    "df_result = pd.DataFrame(all_result)"
   ]
  },
  {
   "cell_type": "code",
   "execution_count": null,
   "id": "11d9474a",
   "metadata": {},
   "outputs": [],
   "source": [
    "df_result.to_csv(\"%svalidation.csv\"%g_analyse_path)\n",
    "df_result"
   ]
  },
  {
   "cell_type": "code",
   "execution_count": null,
   "id": "52af3d54",
   "metadata": {
    "scrolled": true
   },
   "outputs": [],
   "source": []
  }
 ],
 "metadata": {
  "kernelspec": {
   "display_name": "Python 3 (ipykernel)",
   "language": "python",
   "name": "python3"
  },
  "language_info": {
   "codemirror_mode": {
    "name": "ipython",
    "version": 3
   },
   "file_extension": ".py",
   "mimetype": "text/x-python",
   "name": "python",
   "nbconvert_exporter": "python",
   "pygments_lexer": "ipython3",
   "version": "3.8.10"
  }
 },
 "nbformat": 4,
 "nbformat_minor": 5
}
