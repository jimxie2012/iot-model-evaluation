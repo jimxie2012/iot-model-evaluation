{
 "cells": [
  {
   "cell_type": "code",
   "execution_count": 52,
   "id": "795bb4e0",
   "metadata": {},
   "outputs": [],
   "source": [
    "import time,json,os\n",
    "import numpy as np\n",
    "import pandas as pd\n",
    "import seaborn as sns\n",
    "from tqdm.notebook import tqdm\n",
    "from tqdm.notebook import tqdm_notebook\n",
    "from common import preprocess,get_csv_files\n",
    "from warnings import filterwarnings\n",
    "import matplotlib.pyplot as plt\n",
    "from scipy.spatial.distance import cosine\n",
    "from scipy.stats import ks_2samp\n",
    "from scipy.stats import wasserstein_distance\n",
    "from scipy.stats import stats\n",
    "from scipy.spatial.distance import pdist\n",
    "from sklearn.metrics.pairwise import cosine_similarity\n",
    "filterwarnings(\"ignore\") \n",
    "np.set_printoptions(suppress=True)\n",
    "pd.set_option('display.float_format',lambda x : '%.8f' % x)\n",
    "plt.rcParams['axes.unicode_minus'] = False\n",
    "%matplotlib inline"
   ]
  },
  {
   "cell_type": "code",
   "execution_count": 53,
   "id": "80974e6d",
   "metadata": {},
   "outputs": [],
   "source": [
    "def show_heatmap(df):\n",
    "    plt.style.use({'figure.figsize':(16, 6)})\n",
    "    plt.ticklabel_format(style='plain',axis='both')\n",
    "    cmap = sns.cubehelix_palette(start = 1, rot = 3, gamma=0.8, as_cmap = True)\n",
    "    sns.heatmap(df, cmap = cmap, linewidths = 0.05,annot=False, fmt=\"g\",annot_kws={\"fontsize\":16})\n",
    "    plt.xticks(rotation=60)\n",
    "    plt.yticks(rotation=60)"
   ]
  },
  {
   "cell_type": "raw",
   "id": "0a8943aa",
   "metadata": {},
   "source": [
    "def get_mahalanobis_metrix(xx,yy):\n",
    "    x=np.array(xx)\n",
    "    y=np.array(yy)\n",
    "    #马氏距离要求样本数要大于维数，否则无法求协方差矩阵\n",
    "    #此处进行转置，表示10个样本，每个样本2维\n",
    "    X=np.vstack([x,y])\n",
    "    XT=X.T\n",
    "    return pdist(XT,'mahalanobis')\n",
    "    \n",
    "def quadratic_forms_matrix_euclidean(h1, h2):\n",
    "    A = scipy.repeat(h2[:,scipy.newaxis], h1.size, 1) # repeat second array to form a matrix\n",
    "    A = scipy.absolute(A - h1) # euclidean distances\n",
    "    return 1 - (A / float(A.max()))\n",
    "\n",
    "def get_quadratic_distance(hist1,hist2):\n",
    "    h1 = np.array(hist1)\n",
    "    h2 = np.array(hist2)\n",
    "    A = quadratic_forms_matrix_euclidean(h1,h2)\n",
    "    a1 = np.dot((h1-h2).T,A)\n",
    "    d = np.sqrt(np.dot(a1,(h1-h2)))\n",
    "    return np.sum(get_mahalanobis_metrix(hist1,hist2))"
   ]
  },
  {
   "cell_type": "code",
   "execution_count": 54,
   "id": "f370b3b6",
   "metadata": {},
   "outputs": [],
   "source": [
    "def get_histogram(df , with_preprocess = True):\n",
    "    if with_preprocess:\n",
    "        df_tmp = preprocess(df)\n",
    "    else:\n",
    "        df_tmp = df.copy( deep = True )\n",
    "    del df_tmp['label']\n",
    "    ret_df = pd.DataFrame()\n",
    "    ret_series = pd.Series()\n",
    "    for key in df_tmp.keys():\n",
    "        #hist, bin_edges = np.histogram(df_tmp[key],bins=15*len(df.keys()), density=True)\n",
    "        hist, bin_edges = np.histogram( df_tmp[key] , bins = 25 * len(df_tmp.keys()) )\n",
    "        ret_df[key] = pd.Series(hist) \n",
    "        #cate = pd.qcut( ret_df[key],10,labels=False,duplicates='drop',precision=8)\n",
    "        #cate.fillna(-1,inplace=True)\n",
    "        #ret_df[key] = cate\n",
    "        ret_df[key] = ( ret_df[key] - ret_df[key].min() ) / ( ret_df[key].max()-ret_df[key].min() ) \n",
    "        #ret_df[key] = (ret_df[key] - ret_df[key].mean())/ ret_df[key].std()\n",
    "        ret_series = ret_series.append(ret_df[key], ignore_index=True)\n",
    "\n",
    "    return ret_df.T,ret_series.reset_index(drop=True)"
   ]
  },
  {
   "cell_type": "raw",
   "id": "8bf999ad",
   "metadata": {},
   "source": [
    "csv_file = \"/data/paper/sample/s-0-1-0.csv\"\n",
    "df = pd.read_csv(csv_file,index_col=0)\n",
    "df_hist,ds_hist = get_histogram(df)\n",
    "df_hist"
   ]
  },
  {
   "cell_type": "code",
   "execution_count": 55,
   "id": "fe437d86",
   "metadata": {},
   "outputs": [],
   "source": [
    "class CJSimilarity(object):\n",
    "    def __init__(self,list1,list2):\n",
    "        self.m_list1 = list1\n",
    "        self.m_list2 = list2\n",
    "    \n",
    "    #余弦距离（cosine）\n",
    "    def Cosine(self):\n",
    "        ret = cosine_similarity([self.m_list1, self.m_list2])\n",
    "        return ret[0][1]\n",
    "        return cosine(self.m_list1, self.m_list2)\n",
    "    \n",
    "    #皮尔森相关系数（pearson）,https://docs.scipy.org/doc/scipy/reference/generated/scipy.stats.pearsonr.html\n",
    "    def Pearson(self):\n",
    "        return stats.pearsonr(self.m_list1, self.m_list2)[0]\n",
    "    \n",
    "    #欧式距离\n",
    "    def Euclidean(self):\n",
    "        return np.linalg.norm(np.array(self.m_list1) - np.array(self.m_list2))\n",
    "\n",
    "    #KS检验,(P越大，两个分布越相似)\n",
    "    #P比指定的显著水平（假设为5%）小，则我们完全可以拒绝假设，即两个分布不服从同一分布。\n",
    "    def KSTest(self):\n",
    "        ret = ks_2samp(self.m_list1, self.m_list2)\n",
    "        return ret[0],ret[1]\n",
    "    \n",
    "    #EDM距离\n",
    "    def EDM(self):\n",
    "        return wasserstein_distance(self.m_list1, self.m_list2)\n",
    "    \n",
    "    #Manhattan\n",
    "    def Manhattan(self):\n",
    "        return sum(abs(a-b) for a,b in zip(self.m_list1,self.m_list2))\n",
    "    \n",
    "    #Minkowski\n",
    "    def Minkowski(self):\n",
    "        return float(self.minkowski_distance(np.array(self.m_list1),np.array(self.m_list2),3))\n",
    "    \n",
    "    #Jaccard\n",
    "    def Jaccard(self):\n",
    "        return self.jaccard_similarity(self.m_list1,self.m_list2)\n",
    "    \n",
    "    def minkowski_distance(self,x,y,p_value):\n",
    "        return self.nth_root(sum(pow(abs(a-b),p_value) for a,b in zip(x, y)),p_value)\n",
    "    \n",
    "    def nth_root(self,value, n_root):\n",
    "        root_value = 1/float(n_root)\n",
    "        return round (float(value) ** float(root_value),3)\n",
    "    \n",
    "    def jaccard_similarity(self,x,y):\n",
    "        intersection_cardinality = len(set.intersection(*[set(x), set(y)]))\n",
    "        union_cardinality = len(set.union(*[set(x), set(y)]))\n",
    "        return intersection_cardinality/float(union_cardinality)\n",
    "    \n",
    "    #def Quadratic(self):\n",
    "    #    return get_quadratic_distance(self.m_list1,self.m_list2)"
   ]
  },
  {
   "cell_type": "code",
   "execution_count": 56,
   "id": "35670d9e",
   "metadata": {
    "scrolled": false
   },
   "outputs": [
    {
     "name": "stdout",
     "output_type": "stream",
     "text": [
      "Calculating histogram...\n"
     ]
    },
    {
     "data": {
      "application/vnd.jupyter.widget-view+json": {
       "model_id": "d117bd589cfc4c58ab7d42267b4a091b",
       "version_major": 2,
       "version_minor": 0
      },
      "text/plain": [
       "  0%|          | 0/64 [00:00<?, ?it/s]"
      ]
     },
     "metadata": {},
     "output_type": "display_data"
    }
   ],
   "source": [
    "csv_list = []\n",
    "get_csv_files(\"/data/paper/sample/\",csv_list)\n",
    "csv_list.sort()\n",
    "train_hist = {}\n",
    "test_hist = {}\n",
    "print(\"Calculating histogram...\")\n",
    "bar = tqdm(total=len(csv_list))\n",
    "for fi in csv_list:\n",
    "    dataset = os.path.splitext(os.path.basename(fi))[0]\n",
    "    df = pd.read_csv(fi,index_col=0)\n",
    "    df_hist,ds_hist = get_histogram(df)\n",
    "    test_hist[dataset] = {}\n",
    "    test_hist[dataset]['df_hist'] = df_hist\n",
    "    test_hist[dataset]['ds_hist'] = ds_hist\n",
    "    if dataset.split(\"-\")[-1] != '0':\n",
    "        bar.update(1)\n",
    "        continue\n",
    "    train_hist[dataset] = {}\n",
    "    train_hist[dataset]['df_hist'] = df_hist\n",
    "    train_hist[dataset]['ds_hist'] = ds_hist\n",
    "    bar.update(1)"
   ]
  },
  {
   "cell_type": "code",
   "execution_count": null,
   "id": "19420d8d",
   "metadata": {},
   "outputs": [
    {
     "name": "stdout",
     "output_type": "stream",
     "text": [
      "Calculating distance ...\n"
     ]
    },
    {
     "data": {
      "application/vnd.jupyter.widget-view+json": {
       "model_id": "0ffa16d7dd864ed19da7d2e3431d9278",
       "version_major": 2,
       "version_minor": 0
      },
      "text/plain": [
       "  0%|          | 0/16 [00:00<?, ?it/s]"
      ]
     },
     "metadata": {},
     "output_type": "display_data"
    }
   ],
   "source": [
    "all_similarity = []\n",
    "print(\"Calculating distance ...\")\n",
    "bar = tqdm(total=len(train_hist))\n",
    "for d1 in train_hist:\n",
    "    for d2 in test_hist:\n",
    "        s = CJSimilarity(train_hist[d1]['ds_hist'].tolist(),test_hist[d2]['ds_hist'].tolist())\n",
    "        tmp = {}\n",
    "        tmp['D1'] = d1\n",
    "        tmp['D2'] = d2\n",
    "        tmp['Cosine'] = s.Cosine()\n",
    "        tmp['Pearson'] = s.Pearson()\n",
    "        tmp['Euclidean'] = s.Euclidean()\n",
    "        tmp['EDM'] = s.EDM()\n",
    "        tmp['KS'] = s.KSTest()[1]\n",
    "        tmp['Manhattan'] = s.Manhattan()\n",
    "        tmp['Minkowski'] = s.Minkowski()\n",
    "        tmp['Jaccard'] = s.Jaccard()\n",
    "        #tmp['Qaccard'] = s.Quadratic()\n",
    "\n",
    "        all_similarity.append(tmp)\n",
    "    bar.update( 1 )\n",
    "df_similarity = pd.DataFrame(all_similarity)\n",
    "df_similarity.to_csv(\"/data/paper/analyse/similarity.csv\")"
   ]
  },
  {
   "cell_type": "code",
   "execution_count": null,
   "id": "d32dec83",
   "metadata": {},
   "outputs": [],
   "source": [
    "pt = df_similarity.pivot_table(index='D1', columns=['D2'],  values=['EDM'],aggfunc=np.mean)\n",
    "show_heatmap(pt)"
   ]
  },
  {
   "cell_type": "code",
   "execution_count": null,
   "id": "629ddadb",
   "metadata": {},
   "outputs": [],
   "source": [
    "pt = df_similarity.pivot_table(index='D1', columns=['D2'],  values=['KS'],aggfunc=np.mean)\n",
    "show_heatmap(pt)"
   ]
  },
  {
   "cell_type": "code",
   "execution_count": null,
   "id": "054d772a",
   "metadata": {},
   "outputs": [],
   "source": [
    "pt = df_similarity.pivot_table(index='D1', columns=['D2'],  values=['Euclidean'],aggfunc=np.mean)\n",
    "show_heatmap(pt)"
   ]
  },
  {
   "cell_type": "code",
   "execution_count": null,
   "id": "8990384d",
   "metadata": {},
   "outputs": [],
   "source": [
    "pt = df_similarity.pivot_table(index='D1', columns=['D2'],  values=['Cosine'],aggfunc=np.mean)\n",
    "show_heatmap(pt)"
   ]
  },
  {
   "cell_type": "code",
   "execution_count": null,
   "id": "9a0595b9",
   "metadata": {},
   "outputs": [],
   "source": [
    "pt = df_similarity.pivot_table(index='D1', columns=['D2'],  values=['Pearson'],aggfunc=np.mean)\n",
    "show_heatmap(pt)"
   ]
  },
  {
   "cell_type": "code",
   "execution_count": null,
   "id": "e7fd3bbd",
   "metadata": {},
   "outputs": [],
   "source": [
    "pt = df_similarity.pivot_table(index='D1', columns=['D2'],  values=['Manhattan'],aggfunc=np.mean)\n",
    "show_heatmap(pt)"
   ]
  },
  {
   "cell_type": "code",
   "execution_count": null,
   "id": "4abb29d3",
   "metadata": {},
   "outputs": [],
   "source": [
    "pt = df_similarity.pivot_table(index='D1', columns=['D2'],  values=['Minkowski'],aggfunc=np.mean)\n",
    "show_heatmap(pt)"
   ]
  },
  {
   "cell_type": "code",
   "execution_count": null,
   "id": "27eee05a",
   "metadata": {},
   "outputs": [],
   "source": [
    "pt = df_similarity.pivot_table(index='D1', columns=['D2'],  values=['Jaccard'],aggfunc=np.mean)\n",
    "show_heatmap(pt)"
   ]
  },
  {
   "cell_type": "code",
   "execution_count": null,
   "id": "8bf8a652",
   "metadata": {},
   "outputs": [],
   "source": [
    "pt = df_similarity.pivot_table(index='D1', columns=['D2'],  values=['Pearson'],aggfunc=np.mean)\n",
    "show_heatmap(pt)"
   ]
  },
  {
   "cell_type": "code",
   "execution_count": null,
   "id": "1b91cbee",
   "metadata": {},
   "outputs": [],
   "source": [
    "pt = df_similarity.pivot_table(index='D1', columns=['D2'],  values=['KS'],aggfunc=np.mean)\n",
    "show_heatmap(pt)"
   ]
  },
  {
   "cell_type": "raw",
   "id": "0c850a41",
   "metadata": {},
   "source": [
    "pt = df_similarity.pivot_table(index='D1', columns=['D2'],  values=['Qaccard'],aggfunc=np.mean)\n",
    "show_heatmap(pt)"
   ]
  },
  {
   "cell_type": "code",
   "execution_count": null,
   "id": "c278c9f9",
   "metadata": {
    "scrolled": false
   },
   "outputs": [],
   "source": [
    "#显示所有行\n",
    "pd.set_option('display.max_rows', None)\n",
    "#设置value的显示长度为100，默认为50\n",
    "pd.set_option('max_colwidth',100)\n",
    "df_similarity[df_similarity['D1']=='s-3-1-0.csv'].sort_values(by='EDM').reset_index(drop=True)['D2']"
   ]
  },
  {
   "cell_type": "code",
   "execution_count": null,
   "id": "4ce42628",
   "metadata": {
    "scrolled": true
   },
   "outputs": [],
   "source": []
  },
  {
   "cell_type": "code",
   "execution_count": null,
   "id": "92a99636",
   "metadata": {},
   "outputs": [],
   "source": []
  }
 ],
 "metadata": {
  "kernelspec": {
   "display_name": "Python 3 (ipykernel)",
   "language": "python",
   "name": "python3"
  },
  "language_info": {
   "codemirror_mode": {
    "name": "ipython",
    "version": 3
   },
   "file_extension": ".py",
   "mimetype": "text/x-python",
   "name": "python",
   "nbconvert_exporter": "python",
   "pygments_lexer": "ipython3",
   "version": "3.8.10"
  }
 },
 "nbformat": 4,
 "nbformat_minor": 5
}
